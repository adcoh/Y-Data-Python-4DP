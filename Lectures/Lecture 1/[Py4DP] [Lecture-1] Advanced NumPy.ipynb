{
 "cells": [
  {
   "cell_type": "markdown",
   "metadata": {},
   "source": [
    "# Advanced NumPy"
   ]
  },
  {
   "cell_type": "markdown",
   "metadata": {},
   "source": [
    "## `numpy` internals"
   ]
  },
  {
   "cell_type": "code",
   "execution_count": 1,
   "metadata": {
    "ExecuteTime": {
     "end_time": "2019-11-13T12:38:34.554609Z",
     "start_time": "2019-11-13T12:38:34.543799Z"
    }
   },
   "outputs": [],
   "source": [
    "import numpy as np\n",
    "np.random.seed(2374)"
   ]
  },
  {
   "cell_type": "code",
   "execution_count": 2,
   "metadata": {
    "ExecuteTime": {
     "end_time": "2019-11-13T12:38:35.100562Z",
     "start_time": "2019-11-13T12:38:35.095679Z"
    }
   },
   "outputs": [],
   "source": [
    "arr = np.random.randint(10, size=(8,8))"
   ]
  },
  {
   "cell_type": "code",
   "execution_count": 3,
   "metadata": {
    "ExecuteTime": {
     "end_time": "2019-11-13T12:38:35.568320Z",
     "start_time": "2019-11-13T12:38:35.548004Z"
    }
   },
   "outputs": [
    {
     "data": {
      "text/plain": [
       "(8, dtype('int64'))"
      ]
     },
     "execution_count": 3,
     "metadata": {},
     "output_type": "execute_result"
    }
   ],
   "source": [
    "arr.itemsize, arr.dtype"
   ]
  },
  {
   "cell_type": "code",
   "execution_count": 4,
   "metadata": {
    "ExecuteTime": {
     "end_time": "2019-11-13T12:38:36.040075Z",
     "start_time": "2019-11-13T12:38:36.023040Z"
    }
   },
   "outputs": [
    {
     "data": {
      "text/plain": [
       "array([[5, 7, 6, 8, 2, 9, 2, 0],\n",
       "       [3, 1, 5, 8, 7, 5, 3, 1],\n",
       "       [8, 6, 9, 3, 3, 5, 1, 2],\n",
       "       [0, 7, 5, 7, 1, 2, 8, 1],\n",
       "       [4, 3, 9, 5, 2, 4, 5, 2],\n",
       "       [8, 4, 8, 7, 8, 9, 2, 2],\n",
       "       [9, 8, 7, 4, 7, 3, 8, 2],\n",
       "       [0, 3, 6, 6, 4, 0, 9, 4]])"
      ]
     },
     "execution_count": 4,
     "metadata": {},
     "output_type": "execute_result"
    }
   ],
   "source": [
    "arr"
   ]
  },
  {
   "cell_type": "code",
   "execution_count": 5,
   "metadata": {
    "ExecuteTime": {
     "end_time": "2019-11-13T12:38:36.548438Z",
     "start_time": "2019-11-13T12:38:36.539326Z"
    }
   },
   "outputs": [
    {
     "data": {
      "text/plain": [
       "(64, 8)"
      ]
     },
     "execution_count": 5,
     "metadata": {},
     "output_type": "execute_result"
    }
   ],
   "source": [
    "# How to step through array memory?\n",
    "\n",
    "arr.strides"
   ]
  },
  {
   "cell_type": "code",
   "execution_count": 6,
   "metadata": {
    "ExecuteTime": {
     "end_time": "2019-11-13T12:38:38.835266Z",
     "start_time": "2019-11-13T12:38:38.820285Z"
    }
   },
   "outputs": [
    {
     "data": {
      "text/plain": [
       "True"
      ]
     },
     "execution_count": 6,
     "metadata": {},
     "output_type": "execute_result"
    }
   ],
   "source": [
    "arr.strides[0] == arr.shape[1] * arr.itemsize"
   ]
  },
  {
   "cell_type": "code",
   "execution_count": 7,
   "metadata": {
    "ExecuteTime": {
     "end_time": "2019-11-13T12:38:42.572683Z",
     "start_time": "2019-11-13T12:38:42.565478Z"
    }
   },
   "outputs": [],
   "source": [
    "# But what about views?\n",
    "\n",
    "arr_view = arr[::2, 1:]"
   ]
  },
  {
   "cell_type": "code",
   "execution_count": 8,
   "metadata": {
    "ExecuteTime": {
     "end_time": "2019-11-13T12:38:43.746387Z",
     "start_time": "2019-11-13T12:38:43.739338Z"
    }
   },
   "outputs": [
    {
     "data": {
      "text/plain": [
       "array([[5, 7, 6, 8, 2, 9, 2, 0],\n",
       "       [3, 1, 5, 8, 7, 5, 3, 1],\n",
       "       [8, 6, 9, 3, 3, 5, 1, 2],\n",
       "       [0, 7, 5, 7, 1, 2, 8, 1],\n",
       "       [4, 3, 9, 5, 2, 4, 5, 2],\n",
       "       [8, 4, 8, 7, 8, 9, 2, 2],\n",
       "       [9, 8, 7, 4, 7, 3, 8, 2],\n",
       "       [0, 3, 6, 6, 4, 0, 9, 4]])"
      ]
     },
     "execution_count": 8,
     "metadata": {},
     "output_type": "execute_result"
    }
   ],
   "source": [
    "arr"
   ]
  },
  {
   "cell_type": "code",
   "execution_count": 9,
   "metadata": {
    "ExecuteTime": {
     "end_time": "2019-11-13T12:38:44.679002Z",
     "start_time": "2019-11-13T12:38:44.669425Z"
    }
   },
   "outputs": [
    {
     "data": {
      "text/plain": [
       "array([[7, 6, 8, 2, 9, 2, 0],\n",
       "       [6, 9, 3, 3, 5, 1, 2],\n",
       "       [3, 9, 5, 2, 4, 5, 2],\n",
       "       [8, 7, 4, 7, 3, 8, 2]])"
      ]
     },
     "execution_count": 9,
     "metadata": {},
     "output_type": "execute_result"
    }
   ],
   "source": [
    "arr_view"
   ]
  },
  {
   "cell_type": "code",
   "execution_count": 10,
   "metadata": {
    "ExecuteTime": {
     "end_time": "2019-11-13T12:38:45.190697Z",
     "start_time": "2019-11-13T12:38:45.177995Z"
    }
   },
   "outputs": [
    {
     "data": {
      "text/plain": [
       "  C_CONTIGUOUS : True\n",
       "  F_CONTIGUOUS : False\n",
       "  OWNDATA : True\n",
       "  WRITEABLE : True\n",
       "  ALIGNED : True\n",
       "  WRITEBACKIFCOPY : False\n",
       "  UPDATEIFCOPY : False"
      ]
     },
     "execution_count": 10,
     "metadata": {},
     "output_type": "execute_result"
    }
   ],
   "source": [
    "arr.flags"
   ]
  },
  {
   "cell_type": "code",
   "execution_count": 11,
   "metadata": {
    "ExecuteTime": {
     "end_time": "2019-11-13T12:38:45.690953Z",
     "start_time": "2019-11-13T12:38:45.681524Z"
    }
   },
   "outputs": [
    {
     "data": {
      "text/plain": [
       "  C_CONTIGUOUS : False\n",
       "  F_CONTIGUOUS : False\n",
       "  OWNDATA : False\n",
       "  WRITEABLE : True\n",
       "  ALIGNED : True\n",
       "  WRITEBACKIFCOPY : False\n",
       "  UPDATEIFCOPY : False"
      ]
     },
     "execution_count": 11,
     "metadata": {},
     "output_type": "execute_result"
    }
   ],
   "source": [
    "arr_view.flags"
   ]
  },
  {
   "cell_type": "code",
   "execution_count": 12,
   "metadata": {
    "ExecuteTime": {
     "end_time": "2019-11-13T12:38:48.070627Z",
     "start_time": "2019-11-13T12:38:48.056115Z"
    }
   },
   "outputs": [
    {
     "data": {
      "text/plain": [
       "True"
      ]
     },
     "execution_count": 12,
     "metadata": {},
     "output_type": "execute_result"
    }
   ],
   "source": [
    "# View always has base array\n",
    "arr_view.base is arr"
   ]
  },
  {
   "cell_type": "code",
   "execution_count": 13,
   "metadata": {
    "ExecuteTime": {
     "end_time": "2019-11-13T12:38:48.783778Z",
     "start_time": "2019-11-13T12:38:48.770192Z"
    }
   },
   "outputs": [
    {
     "data": {
      "text/plain": [
       "(128, 8)"
      ]
     },
     "execution_count": 13,
     "metadata": {},
     "output_type": "execute_result"
    }
   ],
   "source": [
    "arr_view.strides"
   ]
  },
  {
   "cell_type": "code",
   "execution_count": 14,
   "metadata": {
    "ExecuteTime": {
     "end_time": "2019-11-13T12:38:49.290659Z",
     "start_time": "2019-11-13T12:38:49.281261Z"
    }
   },
   "outputs": [
    {
     "data": {
      "text/plain": [
       "False"
      ]
     },
     "execution_count": 14,
     "metadata": {},
     "output_type": "execute_result"
    }
   ],
   "source": [
    "arr_view.strides[0] == arr_view.shape[1] * arr_view.itemsize"
   ]
  },
  {
   "cell_type": "code",
   "execution_count": 15,
   "metadata": {
    "ExecuteTime": {
     "end_time": "2019-11-13T12:38:53.075859Z",
     "start_time": "2019-11-13T12:38:53.067009Z"
    }
   },
   "outputs": [
    {
     "data": {
      "text/plain": [
       "8"
      ]
     },
     "execution_count": 15,
     "metadata": {},
     "output_type": "execute_result"
    }
   ],
   "source": [
    "np.byte_bounds(arr_view)[0] - np.byte_bounds(arr)[0]"
   ]
  },
  {
   "cell_type": "code",
   "execution_count": 16,
   "metadata": {
    "ExecuteTime": {
     "end_time": "2019-11-13T12:38:53.655089Z",
     "start_time": "2019-11-13T12:38:53.644489Z"
    }
   },
   "outputs": [
    {
     "data": {
      "text/plain": [
       "-64"
      ]
     },
     "execution_count": 16,
     "metadata": {},
     "output_type": "execute_result"
    }
   ],
   "source": [
    "np.byte_bounds(arr_view)[1] - np.byte_bounds(arr)[1]"
   ]
  },
  {
   "cell_type": "code",
   "execution_count": 17,
   "metadata": {
    "ExecuteTime": {
     "end_time": "2019-11-13T12:38:54.425505Z",
     "start_time": "2019-11-13T12:38:54.414471Z"
    }
   },
   "outputs": [
    {
     "data": {
      "text/plain": [
       "(8, 64)"
      ]
     },
     "execution_count": 17,
     "metadata": {},
     "output_type": "execute_result"
    }
   ],
   "source": [
    "arr.T.strides"
   ]
  },
  {
   "cell_type": "code",
   "execution_count": 18,
   "metadata": {
    "ExecuteTime": {
     "end_time": "2019-11-13T12:38:54.828313Z",
     "start_time": "2019-11-13T12:38:54.810272Z"
    }
   },
   "outputs": [
    {
     "data": {
      "text/plain": [
       "True"
      ]
     },
     "execution_count": 18,
     "metadata": {},
     "output_type": "execute_result"
    }
   ],
   "source": [
    "arr.T.base is arr"
   ]
  },
  {
   "cell_type": "markdown",
   "metadata": {},
   "source": [
    "## Cache effects"
   ]
  },
  {
   "cell_type": "code",
   "execution_count": 19,
   "metadata": {
    "ExecuteTime": {
     "end_time": "2019-11-13T12:38:55.999588Z",
     "start_time": "2019-11-13T12:38:55.972688Z"
    }
   },
   "outputs": [],
   "source": [
    "large_arr = np.random.randint(100, size=(1000000,))"
   ]
  },
  {
   "cell_type": "code",
   "execution_count": 20,
   "metadata": {
    "ExecuteTime": {
     "end_time": "2019-11-13T12:38:56.451856Z",
     "start_time": "2019-11-13T12:38:56.225459Z"
    }
   },
   "outputs": [],
   "source": [
    "STEP = 8\n",
    "larger_arr = np.random.randint(100, size=(1000000*STEP,))"
   ]
  },
  {
   "cell_type": "code",
   "execution_count": 21,
   "metadata": {
    "ExecuteTime": {
     "end_time": "2019-11-13T12:38:56.913633Z",
     "start_time": "2019-11-13T12:38:56.533248Z"
    }
   },
   "outputs": [
    {
     "name": "stdout",
     "output_type": "stream",
     "text": [
      "1.18 ms ± 99.5 µs per loop (mean ± std. dev. of 3 runs, 100 loops each)\n"
     ]
    }
   ],
   "source": [
    "%timeit -n 100 -r 3 large_arr.sum()"
   ]
  },
  {
   "cell_type": "code",
   "execution_count": 22,
   "metadata": {
    "ExecuteTime": {
     "end_time": "2019-11-13T12:38:58.845119Z",
     "start_time": "2019-11-13T12:38:56.977456Z"
    }
   },
   "outputs": [
    {
     "name": "stdout",
     "output_type": "stream",
     "text": [
      "6.19 ms ± 399 µs per loop (mean ± std. dev. of 3 runs, 100 loops each)\n"
     ]
    }
   ],
   "source": [
    "%timeit -n 100 -r 3 larger_arr[::STEP].sum()"
   ]
  },
  {
   "cell_type": "code",
   "execution_count": 23,
   "metadata": {
    "ExecuteTime": {
     "end_time": "2019-11-13T12:38:58.898348Z",
     "start_time": "2019-11-13T12:38:58.882546Z"
    }
   },
   "outputs": [],
   "source": [
    "del large_arr, larger_arr"
   ]
  },
  {
   "cell_type": "code",
   "execution_count": 24,
   "metadata": {
    "ExecuteTime": {
     "end_time": "2019-11-13T12:38:58.946651Z",
     "start_time": "2019-11-13T12:38:58.916024Z"
    }
   },
   "outputs": [],
   "source": [
    "large_arr = np.random.randint(100, size=(1000,1000))"
   ]
  },
  {
   "cell_type": "code",
   "execution_count": 25,
   "metadata": {
    "ExecuteTime": {
     "end_time": "2019-11-13T12:39:01.865090Z",
     "start_time": "2019-11-13T12:39:01.717246Z"
    }
   },
   "outputs": [
    {
     "name": "stdout",
     "output_type": "stream",
     "text": [
      "944 µs ± 245 µs per loop (mean ± std. dev. of 3 runs, 50 loops each)\n"
     ]
    }
   ],
   "source": [
    "%timeit -n 50 -r 3 large_arr.sum(axis=1)"
   ]
  },
  {
   "cell_type": "code",
   "execution_count": 26,
   "metadata": {
    "ExecuteTime": {
     "end_time": "2019-11-13T12:39:03.121362Z",
     "start_time": "2019-11-13T12:39:02.949043Z"
    }
   },
   "outputs": [
    {
     "name": "stdout",
     "output_type": "stream",
     "text": [
      "1.11 ms ± 256 µs per loop (mean ± std. dev. of 3 runs, 50 loops each)\n"
     ]
    }
   ],
   "source": [
    "%timeit -n 50 -r 3 large_arr.T.sum(axis=1)"
   ]
  },
  {
   "cell_type": "code",
   "execution_count": 27,
   "metadata": {
    "ExecuteTime": {
     "end_time": "2019-11-13T12:39:03.556763Z",
     "start_time": "2019-11-13T12:39:03.367171Z"
    }
   },
   "outputs": [
    {
     "name": "stdout",
     "output_type": "stream",
     "text": [
      "1.22 ms ± 173 µs per loop (mean ± std. dev. of 3 runs, 50 loops each)\n"
     ]
    }
   ],
   "source": [
    "%timeit -n 50 -r 3 large_arr.T.sum(axis=0)"
   ]
  },
  {
   "cell_type": "code",
   "execution_count": 28,
   "metadata": {
    "ExecuteTime": {
     "end_time": "2019-11-13T12:39:04.042901Z",
     "start_time": "2019-11-13T12:39:04.030339Z"
    }
   },
   "outputs": [
    {
     "data": {
      "text/plain": [
       "True"
      ]
     },
     "execution_count": 28,
     "metadata": {},
     "output_type": "execute_result"
    }
   ],
   "source": [
    "large_arr.T.base is large_arr"
   ]
  },
  {
   "cell_type": "markdown",
   "metadata": {},
   "source": [
    "## Views and copies"
   ]
  },
  {
   "cell_type": "code",
   "execution_count": 29,
   "metadata": {
    "ExecuteTime": {
     "end_time": "2019-11-13T12:39:06.111447Z",
     "start_time": "2019-11-13T12:39:05.318268Z"
    }
   },
   "outputs": [
    {
     "name": "stdout",
     "output_type": "stream",
     "text": [
      "2.62 ms ± 41.4 µs per loop (mean ± std. dev. of 3 runs, 100 loops each)\n"
     ]
    }
   ],
   "source": [
    "%timeit -n 100 -r 3 large_arr_copy = large_arr.copy()"
   ]
  },
  {
   "cell_type": "code",
   "execution_count": 30,
   "metadata": {
    "ExecuteTime": {
     "end_time": "2019-11-13T12:39:07.099687Z",
     "start_time": "2019-11-13T12:39:06.148277Z"
    }
   },
   "outputs": [
    {
     "name": "stdout",
     "output_type": "stream",
     "text": [
      "3.14 ms ± 144 µs per loop (mean ± std. dev. of 3 runs, 100 loops each)\n"
     ]
    }
   ],
   "source": [
    "%timeit -n 100 -r 3 large_arr + 1"
   ]
  },
  {
   "cell_type": "code",
   "execution_count": 31,
   "metadata": {
    "ExecuteTime": {
     "end_time": "2019-11-13T12:39:08.030610Z",
     "start_time": "2019-11-13T12:39:07.121303Z"
    }
   },
   "outputs": [
    {
     "name": "stdout",
     "output_type": "stream",
     "text": [
      "3 ms ± 137 µs per loop (mean ± std. dev. of 3 runs, 100 loops each)\n"
     ]
    }
   ],
   "source": [
    "%timeit -n 100 -r 3 np.add(large_arr, 1)"
   ]
  },
  {
   "cell_type": "code",
   "execution_count": 32,
   "metadata": {
    "ExecuteTime": {
     "end_time": "2019-11-13T12:39:08.413311Z",
     "start_time": "2019-11-13T12:39:08.057058Z"
    }
   },
   "outputs": [
    {
     "name": "stdout",
     "output_type": "stream",
     "text": [
      "1.14 ms ± 53.4 µs per loop (mean ± std. dev. of 3 runs, 100 loops each)\n"
     ]
    }
   ],
   "source": [
    "%timeit -n 100 -r 3 np.add(large_arr, 1, out=large_arr)"
   ]
  },
  {
   "cell_type": "code",
   "execution_count": 33,
   "metadata": {
    "ExecuteTime": {
     "end_time": "2019-11-13T12:39:08.461824Z",
     "start_time": "2019-11-13T12:39:08.445477Z"
    }
   },
   "outputs": [
    {
     "data": {
      "text/plain": [
       "array([[334, 316, 328, ..., 372, 315, 311],\n",
       "       [371, 305, 342, ..., 317, 343, 372],\n",
       "       [362, 320, 322, ..., 360, 313, 370],\n",
       "       ...,\n",
       "       [376, 360, 366, ..., 324, 342, 390],\n",
       "       [356, 322, 360, ..., 339, 394, 301],\n",
       "       [345, 333, 392, ..., 378, 395, 341]])"
      ]
     },
     "execution_count": 33,
     "metadata": {},
     "output_type": "execute_result"
    }
   ],
   "source": [
    "np.add(large_arr, 1, out=large_arr)"
   ]
  },
  {
   "cell_type": "markdown",
   "metadata": {},
   "source": [
    "### Beware!"
   ]
  },
  {
   "cell_type": "code",
   "execution_count": 34,
   "metadata": {
    "ExecuteTime": {
     "end_time": "2019-11-13T12:39:08.496293Z",
     "start_time": "2019-11-13T12:39:08.482574Z"
    }
   },
   "outputs": [],
   "source": [
    "A = np.random.randint(10, size=(10,10))\n",
    "B = np.random.randint(10, size=(10,))"
   ]
  },
  {
   "cell_type": "code",
   "execution_count": 35,
   "metadata": {
    "ExecuteTime": {
     "end_time": "2019-11-13T12:39:09.572000Z",
     "start_time": "2019-11-13T12:39:09.551153Z"
    }
   },
   "outputs": [
    {
     "data": {
      "text/plain": [
       "array([[9, 9, 4, 7, 3, 9, 1, 6, 4, 5],\n",
       "       [2, 5, 7, 6, 2, 4, 2, 7, 8, 6],\n",
       "       [7, 0, 0, 8, 9, 2, 6, 3, 0, 2],\n",
       "       [8, 3, 7, 4, 5, 0, 6, 7, 7, 4],\n",
       "       [3, 2, 0, 5, 4, 2, 5, 8, 3, 9],\n",
       "       [4, 4, 4, 2, 6, 0, 9, 0, 7, 3],\n",
       "       [7, 2, 5, 7, 5, 1, 0, 7, 6, 9],\n",
       "       [6, 9, 7, 6, 3, 9, 8, 7, 8, 6],\n",
       "       [3, 0, 8, 4, 5, 5, 2, 1, 5, 9],\n",
       "       [5, 2, 4, 9, 1, 9, 4, 8, 5, 0]])"
      ]
     },
     "execution_count": 35,
     "metadata": {},
     "output_type": "execute_result"
    }
   ],
   "source": [
    "A"
   ]
  },
  {
   "cell_type": "code",
   "execution_count": 36,
   "metadata": {
    "ExecuteTime": {
     "end_time": "2019-11-13T12:39:11.174304Z",
     "start_time": "2019-11-13T12:39:11.158577Z"
    }
   },
   "outputs": [
    {
     "data": {
      "text/plain": [
       "array([5, 7, 6, 2, 5, 9, 7, 1, 9, 3])"
      ]
     },
     "execution_count": 36,
     "metadata": {},
     "output_type": "execute_result"
    }
   ],
   "source": [
    "B"
   ]
  },
  {
   "cell_type": "code",
   "execution_count": 37,
   "metadata": {
    "ExecuteTime": {
     "end_time": "2019-11-13T12:39:11.970925Z",
     "start_time": "2019-11-13T12:39:11.948029Z"
    }
   },
   "outputs": [
    {
     "data": {
      "text/plain": [
       "array([[14, 16, 10,  9,  8, 18,  8,  7, 13,  8],\n",
       "       [ 7, 12, 13,  8,  7, 13,  9,  8, 17,  9],\n",
       "       [12,  7,  6, 10, 14, 11, 13,  4,  9,  5],\n",
       "       [13, 10, 13,  6, 10,  9, 13,  8, 16,  7],\n",
       "       [ 8,  9,  6,  7,  9, 11, 12,  9, 12, 12],\n",
       "       [ 9, 11, 10,  4, 11,  9, 16,  1, 16,  6],\n",
       "       [12,  9, 11,  9, 10, 10,  7,  8, 15, 12],\n",
       "       [11, 16, 13,  8,  8, 18, 15,  8, 17,  9],\n",
       "       [ 8,  7, 14,  6, 10, 14,  9,  2, 14, 12],\n",
       "       [10,  9, 10, 11,  6, 18, 11,  9, 14,  3]])"
      ]
     },
     "execution_count": 37,
     "metadata": {},
     "output_type": "execute_result"
    }
   ],
   "source": [
    "A+B"
   ]
  },
  {
   "cell_type": "code",
   "execution_count": 38,
   "metadata": {
    "ExecuteTime": {
     "end_time": "2019-11-13T12:39:12.926999Z",
     "start_time": "2019-11-13T12:39:12.901561Z"
    }
   },
   "outputs": [
    {
     "data": {
      "text/plain": [
       "array([[14, 16, 10,  9,  8, 18,  8,  7, 13,  8],\n",
       "       [ 7, 12, 13,  8,  7, 13,  9,  8, 17,  9],\n",
       "       [12,  7,  6, 10, 14, 11, 13,  4,  9,  5],\n",
       "       [13, 10, 13,  6, 10,  9, 13,  8, 16,  7],\n",
       "       [ 8,  9,  6,  7,  9, 11, 12,  9, 12, 12],\n",
       "       [ 9, 11, 10,  4, 11,  9, 16,  1, 16,  6],\n",
       "       [12,  9, 11,  9, 10, 10,  7,  8, 15, 12],\n",
       "       [11, 16, 13,  8,  8, 18, 15,  8, 17,  9],\n",
       "       [ 8,  7, 14,  6, 10, 14,  9,  2, 14, 12],\n",
       "       [10,  9, 10, 11,  6, 18, 11,  9, 14,  3]])"
      ]
     },
     "execution_count": 38,
     "metadata": {},
     "output_type": "execute_result"
    }
   ],
   "source": [
    "np.add(A, B)"
   ]
  },
  {
   "cell_type": "code",
   "execution_count": 39,
   "metadata": {
    "ExecuteTime": {
     "end_time": "2019-11-13T12:39:13.556309Z",
     "start_time": "2019-11-13T12:39:13.541194Z"
    }
   },
   "outputs": [
    {
     "data": {
      "text/plain": [
       "array([[14, 16, 10,  9,  8, 18,  8,  7, 13,  8],\n",
       "       [ 7, 12, 13,  8,  7, 13,  9,  8, 17,  9],\n",
       "       [12,  7,  6, 10, 14, 11, 13,  4,  9,  5],\n",
       "       [13, 10, 13,  6, 10,  9, 13,  8, 16,  7],\n",
       "       [ 8,  9,  6,  7,  9, 11, 12,  9, 12, 12],\n",
       "       [ 9, 11, 10,  4, 11,  9, 16,  1, 16,  6],\n",
       "       [12,  9, 11,  9, 10, 10,  7,  8, 15, 12],\n",
       "       [11, 16, 13,  8,  8, 18, 15,  8, 17,  9],\n",
       "       [ 8,  7, 14,  6, 10, 14,  9,  2, 14, 12],\n",
       "       [10,  9, 10, 11,  6, 18, 11,  9, 14,  3]])"
      ]
     },
     "execution_count": 39,
     "metadata": {},
     "output_type": "execute_result"
    }
   ],
   "source": [
    "np.add(A, B, out=A)"
   ]
  },
  {
   "cell_type": "code",
   "execution_count": 40,
   "metadata": {
    "ExecuteTime": {
     "end_time": "2019-11-13T12:39:14.514605Z",
     "start_time": "2019-11-13T12:39:14.328938Z"
    }
   },
   "outputs": [
    {
     "ename": "ValueError",
     "evalue": "non-broadcastable output operand with shape (10,) doesn't match the broadcast shape (10,10)",
     "output_type": "error",
     "traceback": [
      "\u001b[0;31m---------------------------------------------------------------------------\u001b[0m",
      "\u001b[0;31mValueError\u001b[0m                                Traceback (most recent call last)",
      "\u001b[0;32m<ipython-input-40-e85cd53b661a>\u001b[0m in \u001b[0;36m<module>\u001b[0;34m\u001b[0m\n\u001b[0;32m----> 1\u001b[0;31m \u001b[0mnp\u001b[0m\u001b[0;34m.\u001b[0m\u001b[0madd\u001b[0m\u001b[0;34m(\u001b[0m\u001b[0mA\u001b[0m\u001b[0;34m,\u001b[0m \u001b[0mB\u001b[0m\u001b[0;34m,\u001b[0m \u001b[0mout\u001b[0m\u001b[0;34m=\u001b[0m\u001b[0mB\u001b[0m\u001b[0;34m)\u001b[0m\u001b[0;34m\u001b[0m\u001b[0;34m\u001b[0m\u001b[0m\n\u001b[0m",
      "\u001b[0;31mValueError\u001b[0m: non-broadcastable output operand with shape (10,) doesn't match the broadcast shape (10,10)"
     ]
    }
   ],
   "source": [
    "np.add(A, B, out=B)"
   ]
  },
  {
   "cell_type": "markdown",
   "metadata": {},
   "source": [
    "# Broadcasting"
   ]
  },
  {
   "cell_type": "code",
   "execution_count": 41,
   "metadata": {
    "ExecuteTime": {
     "end_time": "2019-11-13T12:39:21.860518Z",
     "start_time": "2019-11-13T12:39:21.853731Z"
    }
   },
   "outputs": [],
   "source": [
    "arr_2d = np.random.randint(10, size=(10, 3))\n",
    "arr_1d_1 = np.random.randint(10, size=(3, ))\n",
    "arr_1d_2 = np.random.randint(10, size=(10, ))"
   ]
  },
  {
   "cell_type": "code",
   "execution_count": 42,
   "metadata": {
    "ExecuteTime": {
     "end_time": "2019-11-13T12:39:22.371291Z",
     "start_time": "2019-11-13T12:39:22.355248Z"
    }
   },
   "outputs": [
    {
     "data": {
      "text/plain": [
       "array([[9, 4, 0],\n",
       "       [9, 1, 7],\n",
       "       [6, 6, 8],\n",
       "       [5, 3, 7],\n",
       "       [6, 1, 2],\n",
       "       [9, 1, 4],\n",
       "       [1, 1, 4],\n",
       "       [8, 3, 6],\n",
       "       [9, 4, 6],\n",
       "       [3, 3, 2]])"
      ]
     },
     "execution_count": 42,
     "metadata": {},
     "output_type": "execute_result"
    }
   ],
   "source": [
    "arr_2d"
   ]
  },
  {
   "cell_type": "code",
   "execution_count": 43,
   "metadata": {
    "ExecuteTime": {
     "end_time": "2019-11-13T12:39:24.229177Z",
     "start_time": "2019-11-13T12:39:24.218822Z"
    }
   },
   "outputs": [
    {
     "data": {
      "text/plain": [
       "array([2, 6, 6])"
      ]
     },
     "execution_count": 43,
     "metadata": {},
     "output_type": "execute_result"
    }
   ],
   "source": [
    "arr_1d_1"
   ]
  },
  {
   "cell_type": "code",
   "execution_count": 44,
   "metadata": {
    "ExecuteTime": {
     "end_time": "2019-11-13T12:39:25.124938Z",
     "start_time": "2019-11-13T12:39:25.115523Z"
    }
   },
   "outputs": [
    {
     "data": {
      "text/plain": [
       "array([0, 5, 8, 5, 4, 7, 1, 4, 4, 2])"
      ]
     },
     "execution_count": 44,
     "metadata": {},
     "output_type": "execute_result"
    }
   ],
   "source": [
    "arr_1d_2"
   ]
  },
  {
   "cell_type": "code",
   "execution_count": 45,
   "metadata": {
    "ExecuteTime": {
     "end_time": "2019-11-13T12:39:33.094777Z",
     "start_time": "2019-11-13T12:39:33.081725Z"
    }
   },
   "outputs": [
    {
     "data": {
      "text/plain": [
       "array([[2, 6, 6],\n",
       "       [2, 6, 6],\n",
       "       [2, 6, 6],\n",
       "       [2, 6, 6],\n",
       "       [2, 6, 6],\n",
       "       [2, 6, 6],\n",
       "       [2, 6, 6],\n",
       "       [2, 6, 6],\n",
       "       [2, 6, 6],\n",
       "       [2, 6, 6]])"
      ]
     },
     "execution_count": 45,
     "metadata": {},
     "output_type": "execute_result"
    }
   ],
   "source": [
    "(arr_2d + arr_1d_1) - arr_2d"
   ]
  },
  {
   "cell_type": "code",
   "execution_count": 46,
   "metadata": {
    "ExecuteTime": {
     "end_time": "2019-11-13T12:45:27.437477Z",
     "start_time": "2019-11-13T12:45:27.429911Z"
    }
   },
   "outputs": [
    {
     "data": {
      "text/plain": [
       "array([[11, 10,  6],\n",
       "       [11,  7, 13],\n",
       "       [ 8, 12, 14],\n",
       "       [ 7,  9, 13],\n",
       "       [ 8,  7,  8],\n",
       "       [11,  7, 10],\n",
       "       [ 3,  7, 10],\n",
       "       [10,  9, 12],\n",
       "       [11, 10, 12],\n",
       "       [ 5,  9,  8]])"
      ]
     },
     "execution_count": 46,
     "metadata": {},
     "output_type": "execute_result"
    }
   ],
   "source": [
    "arr_2d + arr_1d_1"
   ]
  },
  {
   "cell_type": "code",
   "execution_count": 47,
   "metadata": {
    "ExecuteTime": {
     "end_time": "2019-11-13T12:45:31.839157Z",
     "start_time": "2019-11-13T12:45:31.822640Z"
    }
   },
   "outputs": [
    {
     "ename": "ValueError",
     "evalue": "operands could not be broadcast together with shapes (10,3) (10,) ",
     "output_type": "error",
     "traceback": [
      "\u001b[0;31m---------------------------------------------------------------------------\u001b[0m",
      "\u001b[0;31mValueError\u001b[0m                                Traceback (most recent call last)",
      "\u001b[0;32m<ipython-input-47-6e6cb2b24c09>\u001b[0m in \u001b[0;36m<module>\u001b[0;34m\u001b[0m\n\u001b[0;32m----> 1\u001b[0;31m \u001b[0marr_2d\u001b[0m \u001b[0;34m+\u001b[0m \u001b[0marr_1d_2\u001b[0m\u001b[0;34m\u001b[0m\u001b[0;34m\u001b[0m\u001b[0m\n\u001b[0m",
      "\u001b[0;31mValueError\u001b[0m: operands could not be broadcast together with shapes (10,3) (10,) "
     ]
    }
   ],
   "source": [
    "arr_2d + arr_1d_2"
   ]
  },
  {
   "cell_type": "code",
   "execution_count": 48,
   "metadata": {
    "ExecuteTime": {
     "end_time": "2019-11-13T12:45:43.951309Z",
     "start_time": "2019-11-13T12:45:43.937680Z"
    }
   },
   "outputs": [
    {
     "data": {
      "text/plain": [
       "array([[0, 0, 0],\n",
       "       [5, 5, 5],\n",
       "       [8, 8, 8],\n",
       "       [5, 5, 5],\n",
       "       [4, 4, 4],\n",
       "       [7, 7, 7],\n",
       "       [1, 1, 1],\n",
       "       [4, 4, 4],\n",
       "       [4, 4, 4],\n",
       "       [2, 2, 2]])"
      ]
     },
     "execution_count": 48,
     "metadata": {},
     "output_type": "execute_result"
    }
   ],
   "source": [
    "(arr_2d + np.expand_dims(arr_1d_2, axis=1)) - arr_2d"
   ]
  },
  {
   "cell_type": "code",
   "execution_count": 49,
   "metadata": {
    "ExecuteTime": {
     "end_time": "2019-11-13T12:45:56.288751Z",
     "start_time": "2019-11-13T12:45:56.278292Z"
    }
   },
   "outputs": [],
   "source": [
    "arr_3d = np.random.randint(10, size=(7, 10, 3))"
   ]
  },
  {
   "cell_type": "code",
   "execution_count": 50,
   "metadata": {
    "ExecuteTime": {
     "end_time": "2019-11-13T12:45:58.410666Z",
     "start_time": "2019-11-13T12:45:58.376459Z"
    }
   },
   "outputs": [
    {
     "data": {
      "text/plain": [
       "(3,)"
      ]
     },
     "execution_count": 50,
     "metadata": {},
     "output_type": "execute_result"
    }
   ],
   "source": [
    "arr_1d_1.shape"
   ]
  },
  {
   "cell_type": "code",
   "execution_count": 51,
   "metadata": {
    "ExecuteTime": {
     "end_time": "2019-11-13T12:45:59.583744Z",
     "start_time": "2019-11-13T12:45:59.571233Z"
    }
   },
   "outputs": [
    {
     "data": {
      "text/plain": [
       "array([[[2, 6, 6],\n",
       "        [2, 6, 6],\n",
       "        [2, 6, 6],\n",
       "        [2, 6, 6],\n",
       "        [2, 6, 6],\n",
       "        [2, 6, 6],\n",
       "        [2, 6, 6],\n",
       "        [2, 6, 6],\n",
       "        [2, 6, 6],\n",
       "        [2, 6, 6]],\n",
       "\n",
       "       [[2, 6, 6],\n",
       "        [2, 6, 6],\n",
       "        [2, 6, 6],\n",
       "        [2, 6, 6],\n",
       "        [2, 6, 6],\n",
       "        [2, 6, 6],\n",
       "        [2, 6, 6],\n",
       "        [2, 6, 6],\n",
       "        [2, 6, 6],\n",
       "        [2, 6, 6]],\n",
       "\n",
       "       [[2, 6, 6],\n",
       "        [2, 6, 6],\n",
       "        [2, 6, 6],\n",
       "        [2, 6, 6],\n",
       "        [2, 6, 6],\n",
       "        [2, 6, 6],\n",
       "        [2, 6, 6],\n",
       "        [2, 6, 6],\n",
       "        [2, 6, 6],\n",
       "        [2, 6, 6]],\n",
       "\n",
       "       [[2, 6, 6],\n",
       "        [2, 6, 6],\n",
       "        [2, 6, 6],\n",
       "        [2, 6, 6],\n",
       "        [2, 6, 6],\n",
       "        [2, 6, 6],\n",
       "        [2, 6, 6],\n",
       "        [2, 6, 6],\n",
       "        [2, 6, 6],\n",
       "        [2, 6, 6]],\n",
       "\n",
       "       [[2, 6, 6],\n",
       "        [2, 6, 6],\n",
       "        [2, 6, 6],\n",
       "        [2, 6, 6],\n",
       "        [2, 6, 6],\n",
       "        [2, 6, 6],\n",
       "        [2, 6, 6],\n",
       "        [2, 6, 6],\n",
       "        [2, 6, 6],\n",
       "        [2, 6, 6]],\n",
       "\n",
       "       [[2, 6, 6],\n",
       "        [2, 6, 6],\n",
       "        [2, 6, 6],\n",
       "        [2, 6, 6],\n",
       "        [2, 6, 6],\n",
       "        [2, 6, 6],\n",
       "        [2, 6, 6],\n",
       "        [2, 6, 6],\n",
       "        [2, 6, 6],\n",
       "        [2, 6, 6]],\n",
       "\n",
       "       [[2, 6, 6],\n",
       "        [2, 6, 6],\n",
       "        [2, 6, 6],\n",
       "        [2, 6, 6],\n",
       "        [2, 6, 6],\n",
       "        [2, 6, 6],\n",
       "        [2, 6, 6],\n",
       "        [2, 6, 6],\n",
       "        [2, 6, 6],\n",
       "        [2, 6, 6]]])"
      ]
     },
     "execution_count": 51,
     "metadata": {},
     "output_type": "execute_result"
    }
   ],
   "source": [
    "(arr_3d + arr_1d_1) - arr_3d"
   ]
  },
  {
   "cell_type": "code",
   "execution_count": 52,
   "metadata": {
    "ExecuteTime": {
     "end_time": "2019-11-13T12:46:07.735582Z",
     "start_time": "2019-11-13T12:46:07.728024Z"
    }
   },
   "outputs": [
    {
     "data": {
      "text/plain": [
       "((7, 10, 3), (10,))"
      ]
     },
     "execution_count": 52,
     "metadata": {},
     "output_type": "execute_result"
    }
   ],
   "source": [
    "arr_3d.shape, arr_1d_2.shape"
   ]
  },
  {
   "cell_type": "code",
   "execution_count": 53,
   "metadata": {
    "ExecuteTime": {
     "end_time": "2019-11-13T12:46:10.238188Z",
     "start_time": "2019-11-13T12:46:10.229984Z"
    }
   },
   "outputs": [
    {
     "data": {
      "text/plain": [
       "array([0, 5, 8, 5, 4, 7, 1, 4, 4, 2])"
      ]
     },
     "execution_count": 53,
     "metadata": {},
     "output_type": "execute_result"
    }
   ],
   "source": [
    "arr_1d_2"
   ]
  },
  {
   "cell_type": "code",
   "execution_count": 54,
   "metadata": {
    "ExecuteTime": {
     "end_time": "2019-11-13T12:46:11.523268Z",
     "start_time": "2019-11-13T12:46:11.494359Z"
    }
   },
   "outputs": [
    {
     "data": {
      "text/plain": [
       "array([[[0, 0, 0],\n",
       "        [5, 5, 5],\n",
       "        [8, 8, 8],\n",
       "        [5, 5, 5],\n",
       "        [4, 4, 4],\n",
       "        [7, 7, 7],\n",
       "        [1, 1, 1],\n",
       "        [4, 4, 4],\n",
       "        [4, 4, 4],\n",
       "        [2, 2, 2]],\n",
       "\n",
       "       [[0, 0, 0],\n",
       "        [5, 5, 5],\n",
       "        [8, 8, 8],\n",
       "        [5, 5, 5],\n",
       "        [4, 4, 4],\n",
       "        [7, 7, 7],\n",
       "        [1, 1, 1],\n",
       "        [4, 4, 4],\n",
       "        [4, 4, 4],\n",
       "        [2, 2, 2]],\n",
       "\n",
       "       [[0, 0, 0],\n",
       "        [5, 5, 5],\n",
       "        [8, 8, 8],\n",
       "        [5, 5, 5],\n",
       "        [4, 4, 4],\n",
       "        [7, 7, 7],\n",
       "        [1, 1, 1],\n",
       "        [4, 4, 4],\n",
       "        [4, 4, 4],\n",
       "        [2, 2, 2]],\n",
       "\n",
       "       [[0, 0, 0],\n",
       "        [5, 5, 5],\n",
       "        [8, 8, 8],\n",
       "        [5, 5, 5],\n",
       "        [4, 4, 4],\n",
       "        [7, 7, 7],\n",
       "        [1, 1, 1],\n",
       "        [4, 4, 4],\n",
       "        [4, 4, 4],\n",
       "        [2, 2, 2]],\n",
       "\n",
       "       [[0, 0, 0],\n",
       "        [5, 5, 5],\n",
       "        [8, 8, 8],\n",
       "        [5, 5, 5],\n",
       "        [4, 4, 4],\n",
       "        [7, 7, 7],\n",
       "        [1, 1, 1],\n",
       "        [4, 4, 4],\n",
       "        [4, 4, 4],\n",
       "        [2, 2, 2]],\n",
       "\n",
       "       [[0, 0, 0],\n",
       "        [5, 5, 5],\n",
       "        [8, 8, 8],\n",
       "        [5, 5, 5],\n",
       "        [4, 4, 4],\n",
       "        [7, 7, 7],\n",
       "        [1, 1, 1],\n",
       "        [4, 4, 4],\n",
       "        [4, 4, 4],\n",
       "        [2, 2, 2]],\n",
       "\n",
       "       [[0, 0, 0],\n",
       "        [5, 5, 5],\n",
       "        [8, 8, 8],\n",
       "        [5, 5, 5],\n",
       "        [4, 4, 4],\n",
       "        [7, 7, 7],\n",
       "        [1, 1, 1],\n",
       "        [4, 4, 4],\n",
       "        [4, 4, 4],\n",
       "        [2, 2, 2]]])"
      ]
     },
     "execution_count": 54,
     "metadata": {},
     "output_type": "execute_result"
    }
   ],
   "source": [
    "(arr_3d + np.expand_dims(arr_1d_2, axis=1)) - arr_3d"
   ]
  },
  {
   "cell_type": "markdown",
   "metadata": {
    "ExecuteTime": {
     "end_time": "2019-10-29T10:33:41.172751Z",
     "start_time": "2019-10-29T10:33:41.165332Z"
    }
   },
   "source": [
    "Broadcasting rules:\n",
    "    \n",
    "- All input arrays with ndim smaller than the input array of largest ndim, have 1’s prepended to their shapes.\n",
    "- The size in each dimension of the output shape is the maximum of all the input sizes in that dimension.\n",
    "- An input can be used in the calculation if its size in a particular dimension either matches the output size in that dimension, or has value exactly 1.\n",
    "- If an input has a dimension size of 1 in its shape, the first data entry in that dimension will be used for all calculations along that dimension. In other words, the stepping machinery of the ufunc will simply not step along that dimension (the stride will be 0 for that dimension)."
   ]
  },
  {
   "cell_type": "markdown",
   "metadata": {},
   "source": [
    "## General rules"
   ]
  },
  {
   "cell_type": "markdown",
   "metadata": {},
   "source": [
    "### Avoid loops"
   ]
  },
  {
   "cell_type": "code",
   "execution_count": 55,
   "metadata": {
    "ExecuteTime": {
     "end_time": "2019-11-13T12:46:30.362437Z",
     "start_time": "2019-11-13T12:46:30.355689Z"
    }
   },
   "outputs": [],
   "source": [
    "def square_loop(a):\n",
    "    \"\"\"Calculate square of an array in loop. We assume 1D array here.\"\"\"\n",
    "\n",
    "    result = np.zeros_like(a)\n",
    "    for i in range(a.shape[0]):\n",
    "        result[i] = a[i]*a[i]\n",
    "    return result"
   ]
  },
  {
   "cell_type": "code",
   "execution_count": 56,
   "metadata": {
    "ExecuteTime": {
     "end_time": "2019-11-13T12:46:31.846259Z",
     "start_time": "2019-11-13T12:46:31.835808Z"
    }
   },
   "outputs": [],
   "source": [
    "large_arr = np.random.randint(100, size=(100000,))"
   ]
  },
  {
   "cell_type": "code",
   "execution_count": 57,
   "metadata": {
    "ExecuteTime": {
     "end_time": "2019-11-13T12:46:34.464467Z",
     "start_time": "2019-11-13T12:46:32.599947Z"
    }
   },
   "outputs": [
    {
     "name": "stdout",
     "output_type": "stream",
     "text": [
      "61.9 ms ± 1.74 ms per loop (mean ± std. dev. of 3 runs, 10 loops each)\n"
     ]
    }
   ],
   "source": [
    "%timeit -n 10 -r 3 square_loop(large_arr)"
   ]
  },
  {
   "cell_type": "code",
   "execution_count": 58,
   "metadata": {
    "ExecuteTime": {
     "end_time": "2019-11-13T12:46:34.522505Z",
     "start_time": "2019-11-13T12:46:34.487560Z"
    }
   },
   "outputs": [
    {
     "name": "stdout",
     "output_type": "stream",
     "text": [
      "372 µs ± 184 µs per loop (mean ± std. dev. of 3 runs, 10 loops each)\n"
     ]
    }
   ],
   "source": [
    "%timeit -n 10 -r 3 np.square(large_arr)"
   ]
  },
  {
   "cell_type": "markdown",
   "metadata": {},
   "source": [
    "### Use broadcasting"
   ]
  },
  {
   "cell_type": "code",
   "execution_count": 59,
   "metadata": {
    "ExecuteTime": {
     "end_time": "2019-11-13T12:46:40.035580Z",
     "start_time": "2019-11-13T12:46:40.027971Z"
    }
   },
   "outputs": [],
   "source": [
    "def row_loop(a, b):\n",
    "    \"\"\"Calculate square of an array in loop. We assume 1D array here.\"\"\"\n",
    "\n",
    "    result = np.zeros_like(a)\n",
    "    for i in range(a.shape[0]):\n",
    "        result[i] = a[i] + b\n",
    "    return result"
   ]
  },
  {
   "cell_type": "code",
   "execution_count": 60,
   "metadata": {
    "ExecuteTime": {
     "end_time": "2019-11-13T12:46:41.027085Z",
     "start_time": "2019-11-13T12:46:41.000912Z"
    }
   },
   "outputs": [],
   "source": [
    "large_arr = np.random.randint(100, size=(1000,1000))\n",
    "large_b = np.random.randint(100, size=(1000,))"
   ]
  },
  {
   "cell_type": "code",
   "execution_count": 61,
   "metadata": {
    "ExecuteTime": {
     "end_time": "2019-11-13T12:46:59.049154Z",
     "start_time": "2019-11-13T12:46:58.845086Z"
    }
   },
   "outputs": [
    {
     "name": "stdout",
     "output_type": "stream",
     "text": [
      "6.62 ms ± 1.73 ms per loop (mean ± std. dev. of 3 runs, 10 loops each)\n"
     ]
    }
   ],
   "source": [
    "%timeit -n 10 -r 3 row_loop(large_arr, large_b)"
   ]
  },
  {
   "cell_type": "code",
   "execution_count": 62,
   "metadata": {
    "ExecuteTime": {
     "end_time": "2019-11-13T12:47:01.348838Z",
     "start_time": "2019-11-13T12:47:01.229461Z"
    }
   },
   "outputs": [
    {
     "name": "stdout",
     "output_type": "stream",
     "text": [
      "3.79 ms ± 670 µs per loop (mean ± std. dev. of 3 runs, 10 loops each)\n"
     ]
    }
   ],
   "source": [
    "%timeit -n 10 -r 3 np.add(large_arr, large_b)"
   ]
  },
  {
   "cell_type": "code",
   "execution_count": 63,
   "metadata": {
    "ExecuteTime": {
     "end_time": "2019-11-13T12:47:05.240635Z",
     "start_time": "2019-11-13T12:47:05.167121Z"
    }
   },
   "outputs": [
    {
     "name": "stdout",
     "output_type": "stream",
     "text": [
      "2.25 ms ± 420 µs per loop (mean ± std. dev. of 3 runs, 10 loops each)\n"
     ]
    }
   ],
   "source": [
    "%timeit -n 10 -r 3 np.add(large_arr, large_b, out=large_arr)"
   ]
  },
  {
   "cell_type": "code",
   "execution_count": 64,
   "metadata": {
    "ExecuteTime": {
     "end_time": "2019-11-13T12:47:07.233346Z",
     "start_time": "2019-11-13T12:47:07.219426Z"
    }
   },
   "outputs": [
    {
     "data": {
      "text/plain": [
       "array([[1047, 2801, 3071, ..., 1667, 2266,  909],\n",
       "       [1115, 2730, 3058, ..., 1673, 2255,  959],\n",
       "       [1036, 2734, 3088, ..., 1674, 2173,  926],\n",
       "       ...,\n",
       "       [1071, 2780, 3073, ..., 1676, 2172,  951],\n",
       "       [1105, 2742, 3070, ..., 1620, 2191,  924],\n",
       "       [1051, 2800, 3123, ..., 1706, 2176,  917]])"
      ]
     },
     "execution_count": 64,
     "metadata": {},
     "output_type": "execute_result"
    }
   ],
   "source": [
    "np.add(large_arr, large_b)"
   ]
  },
  {
   "cell_type": "code",
   "execution_count": 65,
   "metadata": {
    "ExecuteTime": {
     "end_time": "2019-11-13T12:47:10.786914Z",
     "start_time": "2019-11-13T12:47:10.759098Z"
    }
   },
   "outputs": [
    {
     "data": {
      "text/plain": [
       "array([[1047, 2801, 3071, ..., 1667, 2266,  909],\n",
       "       [1115, 2730, 3058, ..., 1673, 2255,  959],\n",
       "       [1036, 2734, 3088, ..., 1674, 2173,  926],\n",
       "       ...,\n",
       "       [1071, 2780, 3073, ..., 1676, 2172,  951],\n",
       "       [1105, 2742, 3070, ..., 1620, 2191,  924],\n",
       "       [1051, 2800, 3123, ..., 1706, 2176,  917]])"
      ]
     },
     "execution_count": 65,
     "metadata": {},
     "output_type": "execute_result"
    }
   ],
   "source": [
    "row_loop(large_arr, large_b)"
   ]
  },
  {
   "cell_type": "code",
   "execution_count": null,
   "metadata": {},
   "outputs": [],
   "source": [
    "np.expand_dims(np.arange(10), axis=0) + np.expand_dims(np.arange(10), axis=-1)"
   ]
  },
  {
   "cell_type": "markdown",
   "metadata": {},
   "source": [
    "### Beware!"
   ]
  },
  {
   "cell_type": "code",
   "execution_count": null,
   "metadata": {
    "ExecuteTime": {
     "end_time": "2019-10-29T10:28:13.290665Z",
     "start_time": "2019-10-29T10:28:13.285500Z"
    }
   },
   "outputs": [],
   "source": [
    "A = np.random.randint(10, size=(10,10))\n",
    "B = np.random.randint(10, size=(10,))"
   ]
  },
  {
   "cell_type": "code",
   "execution_count": null,
   "metadata": {
    "ExecuteTime": {
     "end_time": "2019-10-29T10:28:13.725405Z",
     "start_time": "2019-10-29T10:28:13.720715Z"
    }
   },
   "outputs": [],
   "source": [
    "A"
   ]
  },
  {
   "cell_type": "code",
   "execution_count": null,
   "metadata": {
    "ExecuteTime": {
     "end_time": "2019-10-29T10:28:14.316292Z",
     "start_time": "2019-10-29T10:28:14.310407Z"
    }
   },
   "outputs": [],
   "source": [
    "B"
   ]
  },
  {
   "cell_type": "code",
   "execution_count": null,
   "metadata": {
    "ExecuteTime": {
     "end_time": "2019-10-29T10:28:16.545793Z",
     "start_time": "2019-10-29T10:28:16.540983Z"
    }
   },
   "outputs": [],
   "source": [
    "A+B"
   ]
  },
  {
   "cell_type": "code",
   "execution_count": null,
   "metadata": {
    "ExecuteTime": {
     "end_time": "2019-10-29T10:28:17.226217Z",
     "start_time": "2019-10-29T10:28:17.219554Z"
    }
   },
   "outputs": [],
   "source": [
    "np.add(A, B)"
   ]
  },
  {
   "cell_type": "code",
   "execution_count": null,
   "metadata": {
    "ExecuteTime": {
     "end_time": "2019-10-29T10:28:19.430507Z",
     "start_time": "2019-10-29T10:28:19.424669Z"
    }
   },
   "outputs": [],
   "source": [
    "np.add(A, B, out=A)"
   ]
  },
  {
   "cell_type": "code",
   "execution_count": null,
   "metadata": {
    "ExecuteTime": {
     "end_time": "2019-10-29T10:38:33.460113Z",
     "start_time": "2019-10-29T10:38:33.443956Z"
    }
   },
   "outputs": [],
   "source": [
    "np.add(A, B, out=B)"
   ]
  },
  {
   "cell_type": "markdown",
   "metadata": {},
   "source": [
    "# Linear algebra basics"
   ]
  },
  {
   "cell_type": "code",
   "execution_count": null,
   "metadata": {
    "ExecuteTime": {
     "end_time": "2019-10-29T10:38:21.615731Z",
     "start_time": "2019-10-29T10:38:21.612021Z"
    }
   },
   "outputs": [],
   "source": [
    "v = np.random.randint(10, size=(3,))\n",
    "m = np.random.randint(10, size=(5, 3))"
   ]
  },
  {
   "cell_type": "code",
   "execution_count": null,
   "metadata": {
    "ExecuteTime": {
     "end_time": "2019-10-29T10:38:32.313763Z",
     "start_time": "2019-10-29T10:38:32.309297Z"
    }
   },
   "outputs": [],
   "source": [
    "m"
   ]
  },
  {
   "cell_type": "code",
   "execution_count": null,
   "metadata": {
    "ExecuteTime": {
     "end_time": "2019-10-29T10:38:45.791812Z",
     "start_time": "2019-10-29T10:38:45.786767Z"
    }
   },
   "outputs": [],
   "source": [
    "v"
   ]
  },
  {
   "cell_type": "markdown",
   "metadata": {},
   "source": [
    "## Dot products, determinants, traces"
   ]
  },
  {
   "cell_type": "code",
   "execution_count": null,
   "metadata": {
    "ExecuteTime": {
     "end_time": "2019-10-29T10:39:36.845723Z",
     "start_time": "2019-10-29T10:39:36.840506Z"
    }
   },
   "outputs": [],
   "source": [
    "np.dot(m, v)"
   ]
  },
  {
   "cell_type": "code",
   "execution_count": null,
   "metadata": {
    "ExecuteTime": {
     "end_time": "2019-10-29T10:39:39.291247Z",
     "start_time": "2019-10-29T10:39:39.283941Z"
    }
   },
   "outputs": [],
   "source": [
    "np.dot(m, v.reshape((3,-1)))"
   ]
  },
  {
   "cell_type": "code",
   "execution_count": null,
   "metadata": {
    "ExecuteTime": {
     "end_time": "2019-10-29T10:39:46.444819Z",
     "start_time": "2019-10-29T10:39:46.437463Z"
    }
   },
   "outputs": [],
   "source": [
    "np.dot(v, m.T)"
   ]
  },
  {
   "cell_type": "code",
   "execution_count": null,
   "metadata": {
    "ExecuteTime": {
     "end_time": "2019-10-29T10:41:09.498360Z",
     "start_time": "2019-10-29T10:41:09.492570Z"
    }
   },
   "outputs": [],
   "source": [
    "s = np.random.randint(10, size=(3,3))\n",
    "s_inv = np.linalg.inv(s)"
   ]
  },
  {
   "cell_type": "code",
   "execution_count": null,
   "metadata": {
    "ExecuteTime": {
     "end_time": "2019-10-29T10:41:09.956575Z",
     "start_time": "2019-10-29T10:41:09.948656Z"
    }
   },
   "outputs": [],
   "source": [
    "s"
   ]
  },
  {
   "cell_type": "code",
   "execution_count": null,
   "metadata": {
    "ExecuteTime": {
     "end_time": "2019-10-29T10:41:10.406965Z",
     "start_time": "2019-10-29T10:41:10.400271Z"
    }
   },
   "outputs": [],
   "source": [
    "s_inv"
   ]
  },
  {
   "cell_type": "code",
   "execution_count": null,
   "metadata": {
    "ExecuteTime": {
     "end_time": "2019-10-29T10:41:14.838583Z",
     "start_time": "2019-10-29T10:41:14.831447Z"
    }
   },
   "outputs": [],
   "source": [
    "np.dot(s_inv, s)"
   ]
  },
  {
   "cell_type": "code",
   "execution_count": null,
   "metadata": {
    "ExecuteTime": {
     "end_time": "2019-10-29T10:41:30.858491Z",
     "start_time": "2019-10-29T10:41:30.847402Z"
    }
   },
   "outputs": [],
   "source": [
    "np.linalg.det(s), np.linalg.det(s_inv)"
   ]
  },
  {
   "cell_type": "code",
   "execution_count": null,
   "metadata": {
    "ExecuteTime": {
     "end_time": "2019-10-29T10:41:17.112704Z",
     "start_time": "2019-10-29T10:41:17.107020Z"
    }
   },
   "outputs": [],
   "source": [
    "np.trace(s), np.trace(s_inv)"
   ]
  },
  {
   "cell_type": "markdown",
   "metadata": {},
   "source": [
    "## Eigenvalues, eigenvectors"
   ]
  },
  {
   "cell_type": "code",
   "execution_count": null,
   "metadata": {
    "ExecuteTime": {
     "end_time": "2019-10-29T10:42:29.275195Z",
     "start_time": "2019-10-29T10:42:29.262207Z"
    }
   },
   "outputs": [],
   "source": [
    "evals, evectors = np.linalg.eig(s)"
   ]
  },
  {
   "cell_type": "code",
   "execution_count": null,
   "metadata": {
    "ExecuteTime": {
     "end_time": "2019-10-29T10:42:36.433478Z",
     "start_time": "2019-10-29T10:42:36.426655Z"
    }
   },
   "outputs": [],
   "source": [
    "evals.sum()"
   ]
  },
  {
   "cell_type": "code",
   "execution_count": null,
   "metadata": {
    "ExecuteTime": {
     "end_time": "2019-10-29T10:42:47.523246Z",
     "start_time": "2019-10-29T10:42:47.518885Z"
    }
   },
   "outputs": [],
   "source": [
    "s_diagonal = np.diag(evals)"
   ]
  },
  {
   "cell_type": "code",
   "execution_count": null,
   "metadata": {
    "ExecuteTime": {
     "end_time": "2019-10-29T10:43:20.592110Z",
     "start_time": "2019-10-29T10:43:20.586763Z"
    }
   },
   "outputs": [],
   "source": [
    "s_diagonal"
   ]
  },
  {
   "cell_type": "markdown",
   "metadata": {},
   "source": [
    "And now our matrix can be decomposed as:\n",
    "    \n",
    "$$\n",
    "s = VEV{-1}\n",
    "$$\n",
    "\n",
    "where $E$ is a diagonal matrix (with eigenvalues on main diagonal), and $V$ is a matrix where columns are eigenvectors."
   ]
  },
  {
   "cell_type": "code",
   "execution_count": null,
   "metadata": {
    "ExecuteTime": {
     "end_time": "2019-10-29T10:44:55.904960Z",
     "start_time": "2019-10-29T10:44:55.897422Z"
    }
   },
   "outputs": [],
   "source": [
    "np.dot(evectors, np.dot(s_diagonal, np.linalg.inv(evectors)))"
   ]
  },
  {
   "cell_type": "code",
   "execution_count": null,
   "metadata": {
    "ExecuteTime": {
     "end_time": "2019-10-29T10:44:02.207264Z",
     "start_time": "2019-10-29T10:44:02.201739Z"
    }
   },
   "outputs": [],
   "source": [
    "s"
   ]
  },
  {
   "cell_type": "code",
   "execution_count": 2,
   "metadata": {
    "ExecuteTime": {
     "end_time": "2019-12-15T19:05:53.049402Z",
     "start_time": "2019-12-15T19:05:52.948136Z"
    }
   },
   "outputs": [
    {
     "ename": "ValueError",
     "evalue": "operands could not be broadcast together with shapes (3,3) (5,3) ",
     "output_type": "error",
     "traceback": [
      "\u001b[0;31m---------------------------------------------------------------------------\u001b[0m",
      "\u001b[0;31mValueError\u001b[0m                                Traceback (most recent call last)",
      "\u001b[0;32m<ipython-input-2-4cdcb4c2e6b5>\u001b[0m in \u001b[0;36m<module>\u001b[0;34m\u001b[0m\n\u001b[1;32m      8\u001b[0m                      \u001b[0;34m[\u001b[0m\u001b[0;34m-\u001b[0m\u001b[0;36m1\u001b[0m\u001b[0;34m,\u001b[0m\u001b[0;36m2\u001b[0m\u001b[0;34m,\u001b[0m\u001b[0;34m-\u001b[0m\u001b[0;36m1\u001b[0m\u001b[0;34m]\u001b[0m\u001b[0;34m,\u001b[0m\u001b[0;34m\u001b[0m\u001b[0;34m\u001b[0m\u001b[0m\n\u001b[1;32m      9\u001b[0m                      [0,-1,3]])\n\u001b[0;32m---> 10\u001b[0;31m \u001b[0mXt\u001b[0m\u001b[0;34m*\u001b[0m\u001b[0mX\u001b[0m\u001b[0;34m*\u001b[0m\u001b[0my\u001b[0m\u001b[0;34m\u001b[0m\u001b[0;34m\u001b[0m\u001b[0m\n\u001b[0m",
      "\u001b[0;31mValueError\u001b[0m: operands could not be broadcast together with shapes (3,3) (5,3) "
     ]
    }
   ],
   "source": [
    "X = np.array([[1,0,0],\n",
    "              [1,0,0],\n",
    "              [1,1,0],\n",
    "              [1,1,0],\n",
    "              [1,1,1]])\n",
    "y = np.array([1,2,3,4,2])\n",
    "Xt = 0.5 * np.array([[1,-1,0],\n",
    "                     [-1,2,-1],\n",
    "                     [0,-1,3]])\n",
    "Xt*X*y"
   ]
  },
  {
   "cell_type": "code",
   "execution_count": null,
   "metadata": {},
   "outputs": [],
   "source": []
  }
 ],
 "metadata": {
  "@webio": {
   "lastCommId": null,
   "lastKernelId": null
  },
  "kernelspec": {
   "display_name": "Python 3",
   "language": "python",
   "name": "python3"
  },
  "language_info": {
   "codemirror_mode": {
    "name": "ipython",
    "version": 3
   },
   "file_extension": ".py",
   "mimetype": "text/x-python",
   "name": "python",
   "nbconvert_exporter": "python",
   "pygments_lexer": "ipython3",
   "version": "3.7.5"
  },
  "varInspector": {
   "cols": {
    "lenName": 16,
    "lenType": 16,
    "lenVar": 40
   },
   "kernels_config": {
    "python": {
     "delete_cmd_postfix": "",
     "delete_cmd_prefix": "del ",
     "library": "var_list.py",
     "varRefreshCmd": "print(var_dic_list())"
    },
    "r": {
     "delete_cmd_postfix": ") ",
     "delete_cmd_prefix": "rm(",
     "library": "var_list.r",
     "varRefreshCmd": "cat(var_dic_list()) "
    }
   },
   "types_to_exclude": [
    "module",
    "function",
    "builtin_function_or_method",
    "instance",
    "_Feature"
   ],
   "window_display": false
  }
 },
 "nbformat": 4,
 "nbformat_minor": 2
}
