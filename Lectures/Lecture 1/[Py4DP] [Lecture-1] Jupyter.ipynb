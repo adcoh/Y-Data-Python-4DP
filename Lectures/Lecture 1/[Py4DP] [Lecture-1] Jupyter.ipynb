{
 "cells": [
  {
   "cell_type": "markdown",
   "metadata": {},
   "source": [
    "# Jupyter tricks, magics and extensions"
   ]
  },
  {
   "cell_type": "markdown",
   "metadata": {
    "slideshow": {
     "slide_type": "slide"
    }
   },
   "source": [
    "## Cells\n",
    "\n",
    "Any Jupyter notebook is organized into **cells**. A cell can be one of several types:\n",
    "- *code* cell, which contains your normal Python (or whatever) code,\n",
    "- *Markdown* cell,\n",
    "- *raw content* cell.\n",
    "\n",
    "To execute a cell, press `Shift+Enter` (execute and go to the next cell) or `Ctrl+Enter` (execute and stay in the same cell).\n",
    "\n",
    "Each code cell can have output, which contains whatever is displayed as a result of executing the code inside the cell:"
   ]
  },
  {
   "cell_type": "code",
   "execution_count": null,
   "metadata": {
    "ExecuteTime": {
     "end_time": "2019-10-29T08:50:37.851960Z",
     "start_time": "2019-10-29T08:50:37.823656Z"
    }
   },
   "outputs": [],
   "source": [
    "print(\"This cell prints some text\")\n",
    "a = 5\n",
    "a # prints 5"
   ]
  },
  {
   "cell_type": "markdown",
   "metadata": {},
   "source": [
    "Note, that last line is also printed to the output. To supress this, use `;`:"
   ]
  },
  {
   "cell_type": "code",
   "execution_count": null,
   "metadata": {
    "ExecuteTime": {
     "end_time": "2019-10-29T08:50:47.859708Z",
     "start_time": "2019-10-29T08:50:47.853388Z"
    }
   },
   "outputs": [],
   "source": [
    "a; # prints nothing"
   ]
  },
  {
   "cell_type": "markdown",
   "metadata": {},
   "source": [
    "## Modes\n",
    "\n",
    "Jupyter notebook is a **modal editor**: it's behavior differs depending on the mode notebook is in. There are two modes:\n",
    "- **edit mode**, in which you can edit cells,\n",
    "- **command mode**, in which you can execute cell-wide and notebook-wide commands with keyboard shortcuts.\n",
    "\n",
    "To enter edit mode, press `Enter`, while focused on some cell or left click on it. To go to command mode press `Esc`.\n",
    "\n",
    "Note, that one or more cells are always in focus or \"selected\", and cell-wide commands are applied to selected cells."
   ]
  },
  {
   "cell_type": "markdown",
   "metadata": {},
   "source": [
    "## Markdown recap\n",
    "\n",
    "Jupyter allows to mix Markdown text, code, images and many other elements in one interface. Markdown cells help to tell a story about your code and to document it.\n",
    "\n",
    "---\n",
    "\n",
    "### Headers\n",
    "\n",
    "You can create headers with #:\n",
    "\n",
    "`# H1 header` gives\n",
    "\n",
    "# H1 header\n",
    "\n",
    "`# H2 header` gives\n",
    "\n",
    "## H2 header\n",
    "\n",
    "and so on. Feel free to select the cell in edit mode to see the actual markup.\n",
    "\n",
    "---\n",
    "\n",
    "### Lists\n",
    "\n",
    "It's also easy to create ordered list. Just number the items:\n",
    "1. first element,\n",
    "2. second element.\n",
    "\n",
    "Unordered lists are also very straightforward:\n",
    "- element,\n",
    "- another element.\n",
    "\n",
    "---\n",
    "\n",
    "### Emphasis\n",
    "\n",
    "You may often need to emphasize some portion of text. For example, *a priori* (`*a priori*` or `_a priori_`) is usually written in italics. Or, you may decide to **stress something out** (`**stress something out**` or `__stress something out__`). Strikethrough is as simple as ~~this~~ (`~~this~~`).\n",
    "\n",
    "### Code blocks\n",
    "\n",
    "Code can be either `inline` (`` `inline` ``) or in block:\n",
    "\n",
    "```\n",
    "val x: Int = 4\n",
    "```\n",
    "\n",
    "Syntax highlighting? Sure:\n",
    "\n",
    "```scala\n",
    "val x: Int = 4\n",
    "```\n",
    "\n",
    "The former is produced with\n",
    "\n",
    "    ```\n",
    "    val x: Int = 4\n",
    "\n",
    "    ```\n",
    "    \n",
    "while the latter is produced with\n",
    "\n",
    "    ```scala\n",
    "    val x: Int = 4\n",
    "    ```\n",
    "    \n",
    "You can also indent your code with 4 spaces.\n",
    "\n",
    "### Equations\n",
    "\n",
    "If Jupyter is running with MathJax, you can easily create inline ($E=mc^2$) and displayed equations:\n",
    "\n",
    "\\begin{equation}\n",
    "y = \\mathbf{W}\\mathbf{x} + b\n",
    "\\end{equation}"
   ]
  },
  {
   "cell_type": "markdown",
   "metadata": {},
   "source": [
    "## Commands and keyboard shortcuts"
   ]
  },
  {
   "cell_type": "markdown",
   "metadata": {},
   "source": [
    "## Keyboard shortcuts for command mode\n",
    "\n",
    "### Generic\n",
    "- `Esc`/`Ctrl+M` - go to command mode.\n",
    "- `Ctrl+S`/`Ctrl+Shift+S` - save/save as.\n",
    "\n",
    "### Change cell type\n",
    "- `Y`: change to code,\n",
    "- `M`: change to Markdown,\n",
    "- `R`: change to raw.\n",
    "\n",
    "### Navigate\n",
    "- `J`/`K` - Down/Up,\n",
    "- `Shift+J`/`Shift+K` - navigate and select.\n",
    "\n",
    "### Inserting, splitting and joining cells\n",
    "- `A`/`B` - insert above/below,\n",
    "- `Shift+M` - merge selected cells,\n",
    "- `Ctrl+Shift+-` - split cells.\n",
    "\n",
    "### Copy, paste and delete cells\n",
    "- `C` - copy cells,\n",
    "- `V` - paste cells below,\n",
    "- `D,D` - delete cells.\n",
    "\n",
    "### Interrupt and restart notebook kernel\n",
    "- `I,I` - interrupt,\n",
    "- `0,0` - restart."
   ]
  },
  {
   "cell_type": "markdown",
   "metadata": {},
   "source": [
    "## Magics\n",
    "\n",
    "Some commands in Jupyter come not from Python, but represent additional (and useful) functionality. These commands start with % (for one-liners) or %% (for cell commands) and are called **magic commands**."
   ]
  },
  {
   "cell_type": "code",
   "execution_count": null,
   "metadata": {
    "ExecuteTime": {
     "end_time": "2019-10-29T08:50:53.730856Z",
     "start_time": "2019-10-29T08:50:53.714938Z"
    }
   },
   "outputs": [],
   "source": [
    "# List all available magic commands\n",
    "%lsmagic"
   ]
  },
  {
   "cell_type": "markdown",
   "metadata": {},
   "source": [
    "### Shell magics"
   ]
  },
  {
   "cell_type": "markdown",
   "metadata": {},
   "source": [
    "You can use notebook instead of terminal:"
   ]
  },
  {
   "cell_type": "code",
   "execution_count": null,
   "metadata": {
    "ExecuteTime": {
     "end_time": "2019-10-29T08:50:56.142532Z",
     "start_time": "2019-10-29T08:50:56.010152Z"
    }
   },
   "outputs": [],
   "source": [
    "!ls"
   ]
  },
  {
   "cell_type": "code",
   "execution_count": null,
   "metadata": {
    "ExecuteTime": {
     "end_time": "2019-10-29T08:51:07.070418Z",
     "start_time": "2019-10-29T08:51:07.048587Z"
    }
   },
   "outputs": [],
   "source": [
    "#This also works:\n",
    "files = !ls"
   ]
  },
  {
   "cell_type": "code",
   "execution_count": null,
   "metadata": {
    "ExecuteTime": {
     "end_time": "2019-10-29T08:51:07.530075Z",
     "start_time": "2019-10-29T08:51:07.516434Z"
    }
   },
   "outputs": [],
   "source": [
    "files"
   ]
  },
  {
   "cell_type": "markdown",
   "metadata": {},
   "source": [
    "### Time your code"
   ]
  },
  {
   "cell_type": "code",
   "execution_count": null,
   "metadata": {
    "ExecuteTime": {
     "end_time": "2019-10-29T08:51:23.728635Z",
     "start_time": "2019-10-29T08:51:12.147267Z"
    }
   },
   "outputs": [],
   "source": [
    "# Measure code running time, one-liner\n",
    "%timeit [i*i for i in range(10000)]"
   ]
  },
  {
   "cell_type": "code",
   "execution_count": null,
   "metadata": {
    "ExecuteTime": {
     "end_time": "2019-10-29T08:51:28.570674Z",
     "start_time": "2019-10-29T08:51:28.495296Z"
    }
   },
   "outputs": [],
   "source": [
    "# Measure code running time, one-liner, change number of runs and loops\n",
    "%timeit -n 10 -r 3 [i*i for i in range(10000)]"
   ]
  },
  {
   "cell_type": "markdown",
   "metadata": {},
   "source": [
    "The same for entire cell:"
   ]
  },
  {
   "cell_type": "code",
   "execution_count": null,
   "metadata": {
    "ExecuteTime": {
     "end_time": "2019-10-29T08:51:32.356466Z",
     "start_time": "2019-10-29T08:51:32.274399Z"
    }
   },
   "outputs": [],
   "source": [
    "%%timeit -n 10 -r 3\n",
    "[i*i for i in range(10000)]"
   ]
  },
  {
   "cell_type": "markdown",
   "metadata": {},
   "source": [
    "### Write and load code"
   ]
  },
  {
   "cell_type": "code",
   "execution_count": null,
   "metadata": {
    "ExecuteTime": {
     "end_time": "2019-10-29T08:51:35.142354Z",
     "start_time": "2019-10-29T08:51:35.133239Z"
    }
   },
   "outputs": [],
   "source": [
    "%%writefile signaling.py\n",
    "import numpy as np\n",
    "\n",
    "some_global_var = \"Hello!\"\n",
    "\n",
    "def hello_world():\n",
    "    print(\"Welcome to Python for Data Processing!\")\n",
    "    print(\"My name is hello_world and I live in Python module.\")\n",
    "    \n",
    "if __name__==\"__main__\":\n",
    "    hello_world()"
   ]
  },
  {
   "cell_type": "code",
   "execution_count": null,
   "metadata": {
    "ExecuteTime": {
     "end_time": "2019-10-29T08:42:45.331005Z",
     "start_time": "2019-10-29T08:42:45.321881Z"
    }
   },
   "outputs": [],
   "source": [
    "%load signaling.py"
   ]
  },
  {
   "cell_type": "code",
   "execution_count": null,
   "metadata": {
    "ExecuteTime": {
     "end_time": "2019-10-29T08:51:40.978827Z",
     "start_time": "2019-10-29T08:51:40.789009Z"
    }
   },
   "outputs": [],
   "source": [
    "%run signaling.py"
   ]
  },
  {
   "cell_type": "code",
   "execution_count": null,
   "metadata": {
    "ExecuteTime": {
     "end_time": "2019-10-29T08:51:41.674983Z",
     "start_time": "2019-10-29T08:51:41.668738Z"
    }
   },
   "outputs": [],
   "source": [
    "hello_world()"
   ]
  },
  {
   "cell_type": "code",
   "execution_count": null,
   "metadata": {
    "ExecuteTime": {
     "end_time": "2019-10-29T08:51:43.615901Z",
     "start_time": "2019-10-29T08:51:43.072607Z"
    }
   },
   "outputs": [],
   "source": [
    "%run \"[Py4DP] [Lecture-1] Signaling.ipynb\""
   ]
  },
  {
   "cell_type": "code",
   "execution_count": null,
   "metadata": {
    "ExecuteTime": {
     "end_time": "2019-10-29T08:51:45.039999Z",
     "start_time": "2019-10-29T08:51:45.030753Z"
    }
   },
   "outputs": [],
   "source": [
    "signaling_var"
   ]
  },
  {
   "cell_type": "code",
   "execution_count": null,
   "metadata": {
    "ExecuteTime": {
     "end_time": "2019-10-29T08:51:46.294300Z",
     "start_time": "2019-10-29T08:51:46.285919Z"
    }
   },
   "outputs": [],
   "source": [
    "?%run"
   ]
  },
  {
   "cell_type": "code",
   "execution_count": null,
   "metadata": {
    "ExecuteTime": {
     "end_time": "2019-10-29T08:51:50.259299Z",
     "start_time": "2019-10-29T08:51:50.132161Z"
    }
   },
   "outputs": [],
   "source": [
    "!rm signaling.py"
   ]
  },
  {
   "cell_type": "markdown",
   "metadata": {},
   "source": [
    "### Getting help"
   ]
  },
  {
   "cell_type": "code",
   "execution_count": null,
   "metadata": {},
   "outputs": [],
   "source": [
    "?sorted"
   ]
  },
  {
   "cell_type": "code",
   "execution_count": null,
   "metadata": {},
   "outputs": [],
   "source": [
    "?%timeit"
   ]
  },
  {
   "cell_type": "code",
   "execution_count": null,
   "metadata": {},
   "outputs": [],
   "source": []
  }
 ],
 "metadata": {
  "@webio": {
   "lastCommId": null,
   "lastKernelId": null
  },
  "kernelspec": {
   "display_name": "Python 3",
   "language": "python",
   "name": "python3"
  },
  "language_info": {
   "codemirror_mode": {
    "name": "ipython",
    "version": 3
   },
   "file_extension": ".py",
   "mimetype": "text/x-python",
   "name": "python",
   "nbconvert_exporter": "python",
   "pygments_lexer": "ipython3",
   "version": "3.6.5"
  },
  "toc": {
   "base_numbering": 1,
   "nav_menu": {},
   "number_sections": true,
   "sideBar": true,
   "skip_h1_title": false,
   "title_cell": "Table of Contents",
   "title_sidebar": "Contents",
   "toc_cell": false,
   "toc_position": {},
   "toc_section_display": true,
   "toc_window_display": false
  }
 },
 "nbformat": 4,
 "nbformat_minor": 2
}
