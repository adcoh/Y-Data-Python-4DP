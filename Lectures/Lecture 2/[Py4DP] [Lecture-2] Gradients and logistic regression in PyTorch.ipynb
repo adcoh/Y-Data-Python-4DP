{
 "cells": [
  {
   "cell_type": "code",
   "execution_count": null,
   "metadata": {
    "ExecuteTime": {
     "end_time": "2019-11-04T21:09:06.841174Z",
     "start_time": "2019-11-04T21:09:06.323436Z"
    },
    "scrolled": true
   },
   "outputs": [],
   "source": [
    "%pylab inline\n",
    "plt.style.use(\"bmh\")"
   ]
  },
  {
   "cell_type": "code",
   "execution_count": null,
   "metadata": {
    "ExecuteTime": {
     "end_time": "2019-11-04T21:22:31.187062Z",
     "start_time": "2019-11-04T21:22:31.180748Z"
    }
   },
   "outputs": [],
   "source": [
    "plt.rcParams[\"figure.figsize\"] = (6,6)"
   ]
  },
  {
   "cell_type": "code",
   "execution_count": null,
   "metadata": {
    "ExecuteTime": {
     "end_time": "2019-11-04T21:09:08.038372Z",
     "start_time": "2019-11-04T21:09:06.844850Z"
    },
    "scrolled": true
   },
   "outputs": [],
   "source": [
    "import numpy as np\n",
    "import torch\n",
    "from sklearn import datasets"
   ]
  },
  {
   "cell_type": "markdown",
   "metadata": {},
   "source": [
    "# Simple gradients on tensors"
   ]
  },
  {
   "cell_type": "code",
   "execution_count": null,
   "metadata": {
    "ExecuteTime": {
     "end_time": "2019-11-04T21:09:09.061272Z",
     "start_time": "2019-11-04T21:09:09.057351Z"
    },
    "scrolled": true
   },
   "outputs": [],
   "source": [
    "a = torch.ones((3,2), requires_grad=True)"
   ]
  },
  {
   "cell_type": "code",
   "execution_count": null,
   "metadata": {
    "ExecuteTime": {
     "end_time": "2019-11-04T21:09:11.149309Z",
     "start_time": "2019-11-04T21:09:11.122241Z"
    },
    "scrolled": true
   },
   "outputs": [],
   "source": [
    "c = (5 * a).sum()"
   ]
  },
  {
   "cell_type": "markdown",
   "metadata": {},
   "source": [
    "The function is this:\n",
    "\n",
    "$$\n",
    "c = \\sum_{ij} 5a_{ij}\n",
    "$$\n",
    "\n",
    "The gradient:\n",
    "\n",
    "$$\n",
    "\\frac{\\partial c}{\\partial a_{ij}} = \\frac{\\partial}{\\partial a_{ij}}\\sum_{km} 5a_{km} = 5 \\sum_{km} \\delta_{ik}\\delta_{mj}  = 5\n",
    "$$"
   ]
  },
  {
   "cell_type": "code",
   "execution_count": null,
   "metadata": {
    "ExecuteTime": {
     "end_time": "2019-11-04T21:09:11.338649Z",
     "start_time": "2019-11-04T21:09:11.329450Z"
    },
    "scrolled": true
   },
   "outputs": [],
   "source": [
    "print(c)"
   ]
  },
  {
   "cell_type": "code",
   "execution_count": null,
   "metadata": {
    "ExecuteTime": {
     "end_time": "2019-11-04T21:09:18.931666Z",
     "start_time": "2019-11-04T21:09:18.924003Z"
    },
    "scrolled": true
   },
   "outputs": [],
   "source": [
    "a.grad is None"
   ]
  },
  {
   "cell_type": "code",
   "execution_count": null,
   "metadata": {
    "ExecuteTime": {
     "end_time": "2019-11-04T21:09:20.377005Z",
     "start_time": "2019-11-04T21:09:20.369615Z"
    },
    "scrolled": true
   },
   "outputs": [],
   "source": [
    "c.backward()"
   ]
  },
  {
   "cell_type": "code",
   "execution_count": null,
   "metadata": {
    "ExecuteTime": {
     "end_time": "2019-11-04T21:09:20.814214Z",
     "start_time": "2019-11-04T21:09:20.807288Z"
    },
    "scrolled": true
   },
   "outputs": [],
   "source": [
    "a.grad"
   ]
  },
  {
   "cell_type": "code",
   "execution_count": null,
   "metadata": {
    "ExecuteTime": {
     "end_time": "2019-11-04T21:09:24.175087Z",
     "start_time": "2019-11-04T21:09:24.170376Z"
    },
    "scrolled": true
   },
   "outputs": [],
   "source": [
    "d = (a + a).sum()"
   ]
  },
  {
   "cell_type": "code",
   "execution_count": null,
   "metadata": {
    "ExecuteTime": {
     "end_time": "2019-11-04T21:09:24.410019Z",
     "start_time": "2019-11-04T21:09:24.401975Z"
    },
    "scrolled": true
   },
   "outputs": [],
   "source": [
    "d.backward()"
   ]
  },
  {
   "cell_type": "code",
   "execution_count": null,
   "metadata": {
    "ExecuteTime": {
     "end_time": "2019-11-04T21:09:24.671300Z",
     "start_time": "2019-11-04T21:09:24.659499Z"
    },
    "scrolled": true
   },
   "outputs": [],
   "source": [
    "a.grad"
   ]
  },
  {
   "cell_type": "code",
   "execution_count": null,
   "metadata": {
    "ExecuteTime": {
     "end_time": "2019-11-04T21:09:54.956576Z",
     "start_time": "2019-11-04T21:09:54.942004Z"
    }
   },
   "outputs": [],
   "source": [
    "a.grad.zero_()\n",
    "a.grad"
   ]
  },
  {
   "cell_type": "markdown",
   "metadata": {},
   "source": [
    "# Logistic regression example"
   ]
  },
  {
   "cell_type": "code",
   "execution_count": null,
   "metadata": {
    "ExecuteTime": {
     "end_time": "2019-11-04T21:13:02.960925Z",
     "start_time": "2019-11-04T21:13:02.951465Z"
    },
    "scrolled": true
   },
   "outputs": [],
   "source": [
    "X, y = datasets.make_blobs(1000, centers=[[-3, -3], [0, 0]], cluster_std=1.25)"
   ]
  },
  {
   "cell_type": "code",
   "execution_count": null,
   "metadata": {
    "ExecuteTime": {
     "end_time": "2019-11-04T21:13:03.159747Z",
     "start_time": "2019-11-04T21:13:03.154106Z"
    },
    "scrolled": true
   },
   "outputs": [],
   "source": [
    "Xt = torch.tensor(X, dtype=torch.float)\n",
    "yt = torch.tensor(np.expand_dims(y, axis=-1), dtype=torch.float)"
   ]
  },
  {
   "cell_type": "markdown",
   "metadata": {},
   "source": [
    "Sigmoid activation function is defined as:\n",
    "    \n",
    "$$\n",
    "\\sigma (x) = \\frac{1}{1+e^{-x}}\n",
    "$$"
   ]
  },
  {
   "cell_type": "code",
   "execution_count": null,
   "metadata": {
    "ExecuteTime": {
     "end_time": "2019-11-04T21:22:47.007091Z",
     "start_time": "2019-11-04T21:22:46.663715Z"
    }
   },
   "outputs": [],
   "source": [
    "x = np.arange(-10, 10, 0.1)\n",
    "plt.plot(x, 1/(1+np.exp(-x)))\n",
    "plt.title(\"Sigmoid function\", fontsize=12)"
   ]
  },
  {
   "cell_type": "code",
   "execution_count": null,
   "metadata": {
    "ExecuteTime": {
     "end_time": "2019-11-04T21:20:59.772439Z",
     "start_time": "2019-11-04T21:20:59.766779Z"
    },
    "scrolled": true
   },
   "outputs": [],
   "source": [
    "def sigmoid(a):\n",
    "    \"\"\"Sigmoid activation function.\"\"\"\n",
    "\n",
    "    return 1/(1 + (-a).exp())"
   ]
  },
  {
   "cell_type": "code",
   "execution_count": null,
   "metadata": {
    "ExecuteTime": {
     "end_time": "2019-11-04T21:18:03.356801Z",
     "start_time": "2019-11-04T21:18:03.352720Z"
    },
    "scrolled": true
   },
   "outputs": [],
   "source": [
    "W = torch.randn(2, 1, requires_grad=True)\n",
    "b = torch.randn(1, 1, requires_grad=True)"
   ]
  },
  {
   "cell_type": "code",
   "execution_count": null,
   "metadata": {
    "ExecuteTime": {
     "end_time": "2019-11-04T21:20:19.501951Z",
     "start_time": "2019-11-04T21:20:19.494138Z"
    }
   },
   "outputs": [],
   "source": [
    "W, b"
   ]
  },
  {
   "cell_type": "code",
   "execution_count": null,
   "metadata": {
    "ExecuteTime": {
     "end_time": "2019-11-04T21:21:01.412419Z",
     "start_time": "2019-11-04T21:21:01.408519Z"
    },
    "scrolled": true
   },
   "outputs": [],
   "source": [
    "y_pred = sigmoid(torch.mm(Xt, W) + b)"
   ]
  },
  {
   "cell_type": "code",
   "execution_count": null,
   "metadata": {
    "ExecuteTime": {
     "end_time": "2019-11-04T21:24:58.307779Z",
     "start_time": "2019-11-04T21:24:57.009014Z"
    },
    "scrolled": false
   },
   "outputs": [],
   "source": [
    "plt.figure(figsize=(14,6))\n",
    "\n",
    "plt.subplot(1, 2, 1)\n",
    "plt.scatter(X[:, 0], X[:, 1], c=y_pred.detach().numpy().flatten(), alpha=0.6, edgecolor='k',\n",
    "            cmap=plt.cm.coolwarm, vmin=0, vmax=1)\n",
    "plt.colorbar()\n",
    "plt.xlabel('$x_0$', fontsize=14)\n",
    "plt.ylabel('$x_1$', fontsize=14)\n",
    "plt.plot([0, W[0, 0].item()],[0, W[1,0].item()], \"-\", c=\"forestgreen\", linewidth=4)\n",
    "plt.title(\"Predicted targets\", fontsize=12)\n",
    "\n",
    "plt.subplot(1, 2, 2)\n",
    "plt.scatter(X[:, 0], X[:, 1], c=y, alpha=0.6, edgecolor='k',\n",
    "            cmap=plt.cm.coolwarm, vmin=0, vmax=1)\n",
    "plt.colorbar()\n",
    "plt.xlabel('$x_0$', fontsize=14)\n",
    "plt.ylabel('$x_1$', fontsize=14)\n",
    "plt.title(\"Actual targets\", fontsize=12)\n",
    "plt.tight_layout()"
   ]
  },
  {
   "cell_type": "markdown",
   "metadata": {},
   "source": [
    "## Log-loss\n",
    "\n",
    "$$\n",
    "L = - \\frac{1}{N} \\sum_k \\left(y_k \\log\\left(\\hat y_k\\right) + \\left(1 - y_k\\right) \\log\\left(1 - \\hat y_k\\right)\\right)\n",
    "$$\n",
    "\n",
    "$$\n",
    "\\hat y_k = \\sigma(X_{ik}W_{k}+b)\n",
    "$$"
   ]
  },
  {
   "cell_type": "code",
   "execution_count": null,
   "metadata": {
    "ExecuteTime": {
     "end_time": "2019-11-04T21:28:38.742495Z",
     "start_time": "2019-11-04T21:28:38.737419Z"
    },
    "scrolled": true
   },
   "outputs": [],
   "source": [
    "def output(x, w, b):\n",
    "    return sigmoid(torch.mm(x, w) + b)\n",
    "\n",
    "def logloss(y, y_true):\n",
    "    return -(y * torch.log(y_true) + (1 - y) * torch.log(1 - y_pred) ).mean()"
   ]
  },
  {
   "cell_type": "code",
   "execution_count": null,
   "metadata": {
    "ExecuteTime": {
     "end_time": "2019-11-04T21:31:50.232731Z",
     "start_time": "2019-11-04T21:31:50.225072Z"
    }
   },
   "outputs": [],
   "source": [
    "loss = logloss(yt, y_pred)\n",
    "loss.item(), (-loss).exp().item()"
   ]
  },
  {
   "cell_type": "markdown",
   "metadata": {},
   "source": [
    "Estimate probability:\n",
    "\n",
    "$$\n",
    "L = - \\frac{1}{N} \\sum_k (y_k \\log(\\hat y_k) + (1 - y_k) \\log(1 - \\hat y_k)) = -\\langle\\log P\\rangle \\approx -\\log \\langle P\\rangle\n",
    "$$\n",
    "\n",
    "Hence:\n",
    "\n",
    "$$\n",
    "\\langle P\\rangle \\approx e^{-L}\n",
    "$$\n"
   ]
  },
  {
   "cell_type": "code",
   "execution_count": null,
   "metadata": {
    "ExecuteTime": {
     "end_time": "2019-11-04T21:28:40.802402Z",
     "start_time": "2019-11-04T21:28:40.107371Z"
    },
    "scrolled": false
   },
   "outputs": [],
   "source": [
    "EPOCHS = 1000\n",
    "LR = 1e-1\n",
    "DELTA = 0.00001\n",
    "loss_history = []\n",
    "\n",
    "for i in range(EPOCHS):\n",
    "    y_pred = output(Xt, W, b)\n",
    "    loss = logloss(yt, y_pred)\n",
    "    loss.backward()\n",
    "    \n",
    "    loss_history.append(loss.item())\n",
    "\n",
    "    with torch.no_grad():\n",
    "        W.sub_(LR * W.grad)\n",
    "        b.sub_(LR * b.grad)\n",
    "    W.grad.zero_()\n",
    "    b.grad.zero_()\n",
    "\n",
    "    if i % 20 == 0:\n",
    "        print(f\"Epoch {i}: loss = {loss_history[-1]}\")\n",
    "    \n",
    "    try:\n",
    "        if loss_history[-2] - loss_history[-1] < DELTA:\n",
    "            break\n",
    "    except:\n",
    "        pass"
   ]
  },
  {
   "cell_type": "code",
   "execution_count": null,
   "metadata": {
    "ExecuteTime": {
     "end_time": "2019-11-04T21:28:44.328736Z",
     "start_time": "2019-11-04T21:28:43.045207Z"
    }
   },
   "outputs": [],
   "source": [
    "plt.figure(figsize=(14,6))\n",
    "\n",
    "plt.subplot(1, 2, 1)\n",
    "plt.scatter(X[:, 0], X[:, 1], c=y_pred.detach().numpy().flatten(), alpha=0.6, edgecolor='k',\n",
    "            cmap=plt.cm.coolwarm, vmin=0, vmax=1)\n",
    "plt.colorbar()\n",
    "plt.xlabel('$x_0$', fontsize=14)\n",
    "plt.ylabel('$x_1$', fontsize=14)\n",
    "plt.plot([0, W[0, 0].item()],[0, W[1,0].item()], \"-\", c=\"forestgreen\", linewidth=4)\n",
    "plt.title(\"Predicted targets\", fontsize=12)\n",
    "\n",
    "plt.subplot(1, 2, 2)\n",
    "plt.scatter(X[:, 0], X[:, 1], c=y, alpha=0.6, edgecolor='k',\n",
    "            cmap=plt.cm.coolwarm, vmin=0, vmax=1)\n",
    "plt.colorbar()\n",
    "plt.xlabel('$x_0$', fontsize=14)\n",
    "plt.ylabel('$x_1$', fontsize=14)\n",
    "plt.title(\"Actual targets\", fontsize=12)\n",
    "plt.tight_layout()"
   ]
  },
  {
   "cell_type": "code",
   "execution_count": null,
   "metadata": {
    "ExecuteTime": {
     "end_time": "2019-11-04T21:28:59.511494Z",
     "start_time": "2019-11-04T21:28:59.504245Z"
    }
   },
   "outputs": [],
   "source": [
    "W, b"
   ]
  },
  {
   "cell_type": "code",
   "execution_count": null,
   "metadata": {
    "ExecuteTime": {
     "end_time": "2019-11-04T21:29:19.068654Z",
     "start_time": "2019-11-04T21:29:18.748554Z"
    }
   },
   "outputs": [],
   "source": [
    "plt.figure(figsize=(6,6))\n",
    "plt.plot(loss_history)\n",
    "plt.xlabel(\"epoch\")\n",
    "plt.ylabel(\"loss\")"
   ]
  },
  {
   "cell_type": "code",
   "execution_count": null,
   "metadata": {
    "scrolled": true
   },
   "outputs": [],
   "source": []
  }
 ],
 "metadata": {
  "@webio": {
   "lastCommId": null,
   "lastKernelId": null
  },
  "kernelspec": {
   "display_name": "Python 3",
   "language": "python",
   "name": "python3"
  },
  "language_info": {
   "codemirror_mode": {
    "name": "ipython",
    "version": 3
   },
   "file_extension": ".py",
   "mimetype": "text/x-python",
   "name": "python",
   "nbconvert_exporter": "python",
   "pygments_lexer": "ipython3",
   "version": "3.6.5"
  }
 },
 "nbformat": 4,
 "nbformat_minor": 2
}
