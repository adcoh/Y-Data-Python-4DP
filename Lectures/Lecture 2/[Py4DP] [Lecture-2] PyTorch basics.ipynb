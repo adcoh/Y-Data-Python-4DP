{
 "cells": [
  {
   "cell_type": "code",
   "execution_count": null,
   "metadata": {
    "ExecuteTime": {
     "end_time": "2019-11-04T19:22:32.547536Z",
     "start_time": "2019-11-04T19:22:32.037537Z"
    }
   },
   "outputs": [],
   "source": [
    "%pylab inline\n",
    "plt.style.use(\"bmh\")"
   ]
  },
  {
   "cell_type": "code",
   "execution_count": null,
   "metadata": {
    "ExecuteTime": {
     "end_time": "2019-11-04T19:51:15.853432Z",
     "start_time": "2019-11-04T19:51:15.849714Z"
    }
   },
   "outputs": [],
   "source": [
    "plt.rcParams[\"figure.figsize\"] = (6,6)"
   ]
  },
  {
   "cell_type": "code",
   "execution_count": null,
   "metadata": {
    "ExecuteTime": {
     "end_time": "2019-11-04T19:22:45.008571Z",
     "start_time": "2019-11-04T19:22:44.618647Z"
    }
   },
   "outputs": [],
   "source": [
    "import numpy as np\n",
    "import torch"
   ]
  },
  {
   "cell_type": "markdown",
   "metadata": {},
   "source": [
    "# Creating tensors"
   ]
  },
  {
   "cell_type": "markdown",
   "metadata": {},
   "source": [
    "## From NumPy arrays"
   ]
  },
  {
   "cell_type": "code",
   "execution_count": null,
   "metadata": {
    "ExecuteTime": {
     "end_time": "2019-11-04T19:25:39.887086Z",
     "start_time": "2019-11-04T19:25:39.881556Z"
    }
   },
   "outputs": [],
   "source": [
    "np_a = np.random.randn(2, 3)\n",
    "torch_a = torch.from_numpy(np_a)"
   ]
  },
  {
   "cell_type": "code",
   "execution_count": null,
   "metadata": {
    "ExecuteTime": {
     "end_time": "2019-11-04T21:07:56.714582Z",
     "start_time": "2019-11-04T21:07:56.701843Z"
    }
   },
   "outputs": [],
   "source": [
    "print(\"NumPy array:\")\n",
    "print(np_a, \"\\n\")\n",
    "print(\"PyTorch tensor:\")\n",
    "print(torch_a, \"\\n\")\n",
    "\n",
    "print(f\"NumPy array dtype: {np_a.dtype}\")\n",
    "print(f\"PyTorch tensor dtype: {torch_a.dtype}\")\n",
    "print(f\"Default PyTorch float: {torch.get_default_dtype()}\", \"\\n\")\n",
    "\n",
    "print(f\"Tensor shape: {torch_a.shape}\")\n",
    "print(f\"Tensor shape: {torch_a.size()}\")\n",
    "print(f\"Tensor number of dimensions: {torch_a.dim()}\")"
   ]
  },
  {
   "cell_type": "code",
   "execution_count": null,
   "metadata": {
    "ExecuteTime": {
     "end_time": "2019-11-04T19:26:15.954978Z",
     "start_time": "2019-11-04T19:26:15.951522Z"
    }
   },
   "outputs": [],
   "source": [
    "torch_a = torch.tensor(np_a, dtype=torch.float)"
   ]
  },
  {
   "cell_type": "code",
   "execution_count": null,
   "metadata": {
    "ExecuteTime": {
     "end_time": "2019-11-04T21:08:12.936916Z",
     "start_time": "2019-11-04T21:08:12.930938Z"
    }
   },
   "outputs": [],
   "source": [
    "print(\"NumPy array:\")\n",
    "print(np_a, \"\\n\")\n",
    "print(\"PyTorch tensor:\")\n",
    "print(torch_a, \"\\n\")"
   ]
  },
  {
   "cell_type": "code",
   "execution_count": null,
   "metadata": {
    "ExecuteTime": {
     "end_time": "2019-11-04T21:08:14.444750Z",
     "start_time": "2019-11-04T21:08:14.440001Z"
    }
   },
   "outputs": [],
   "source": [
    "print(type(np.float32), type(torch.float))"
   ]
  },
  {
   "cell_type": "markdown",
   "metadata": {},
   "source": [
    "## Predefined structure and values"
   ]
  },
  {
   "cell_type": "code",
   "execution_count": null,
   "metadata": {
    "ExecuteTime": {
     "end_time": "2019-11-04T19:28:33.645592Z",
     "start_time": "2019-11-04T19:28:33.637388Z"
    }
   },
   "outputs": [],
   "source": [
    "torch.arange(10)"
   ]
  },
  {
   "cell_type": "code",
   "execution_count": null,
   "metadata": {
    "ExecuteTime": {
     "end_time": "2019-11-04T19:28:39.366966Z",
     "start_time": "2019-11-04T19:28:39.357749Z"
    }
   },
   "outputs": [],
   "source": [
    "torch.zeros(2, 3)"
   ]
  },
  {
   "cell_type": "code",
   "execution_count": null,
   "metadata": {
    "ExecuteTime": {
     "end_time": "2019-11-04T19:28:42.791004Z",
     "start_time": "2019-11-04T19:28:42.781983Z"
    }
   },
   "outputs": [],
   "source": [
    "torch.linspace(0, 10, 11)"
   ]
  },
  {
   "cell_type": "code",
   "execution_count": null,
   "metadata": {
    "ExecuteTime": {
     "end_time": "2019-11-04T19:29:14.270532Z",
     "start_time": "2019-11-04T19:29:14.263765Z"
    }
   },
   "outputs": [],
   "source": [
    "torch.zeros(2, 5, dtype=torch.bool)"
   ]
  },
  {
   "cell_type": "code",
   "execution_count": null,
   "metadata": {
    "ExecuteTime": {
     "end_time": "2019-11-04T19:30:18.996163Z",
     "start_time": "2019-11-04T19:30:18.989268Z"
    }
   },
   "outputs": [],
   "source": [
    "torch.zeros(2, 5, dtype=torch.bool)"
   ]
  },
  {
   "cell_type": "markdown",
   "metadata": {},
   "source": [
    "## Random numbers"
   ]
  },
  {
   "cell_type": "code",
   "execution_count": null,
   "metadata": {
    "ExecuteTime": {
     "end_time": "2019-11-04T19:51:28.098253Z",
     "start_time": "2019-11-04T19:51:28.092334Z"
    }
   },
   "outputs": [],
   "source": [
    "torch.manual_seed(8436)\n",
    "\n",
    "a = torch.Tensor(1000)"
   ]
  },
  {
   "cell_type": "code",
   "execution_count": null,
   "metadata": {
    "ExecuteTime": {
     "end_time": "2019-11-04T19:51:49.596755Z",
     "start_time": "2019-11-04T19:51:49.246477Z"
    }
   },
   "outputs": [],
   "source": [
    "a.normal_(0, 2.)\n",
    "\n",
    "plt.hist(a.numpy());"
   ]
  },
  {
   "cell_type": "code",
   "execution_count": null,
   "metadata": {
    "ExecuteTime": {
     "end_time": "2019-11-04T19:52:07.743302Z",
     "start_time": "2019-11-04T19:52:07.420519Z"
    }
   },
   "outputs": [],
   "source": [
    "a.uniform_(-2, 2.)\n",
    "\n",
    "plt.hist(a.numpy());"
   ]
  },
  {
   "cell_type": "markdown",
   "metadata": {},
   "source": [
    "### Using distributions"
   ]
  },
  {
   "cell_type": "code",
   "execution_count": null,
   "metadata": {
    "ExecuteTime": {
     "end_time": "2019-11-04T19:52:42.414416Z",
     "start_time": "2019-11-04T19:52:42.402437Z"
    }
   },
   "outputs": [],
   "source": [
    "poisson_sampler = torch.distributions.Poisson(1.)"
   ]
  },
  {
   "cell_type": "code",
   "execution_count": null,
   "metadata": {
    "ExecuteTime": {
     "end_time": "2019-11-04T19:54:15.147783Z",
     "start_time": "2019-11-04T19:54:15.141986Z"
    }
   },
   "outputs": [],
   "source": [
    "samples = poisson_sampler.sample((100,))"
   ]
  },
  {
   "cell_type": "code",
   "execution_count": null,
   "metadata": {
    "ExecuteTime": {
     "end_time": "2019-11-04T19:54:53.249327Z",
     "start_time": "2019-11-04T19:54:52.907903Z"
    }
   },
   "outputs": [],
   "source": [
    "plt.hist(samples, range=(0, 10), bins=10)"
   ]
  },
  {
   "cell_type": "markdown",
   "metadata": {},
   "source": [
    "# Tensor operations"
   ]
  },
  {
   "cell_type": "code",
   "execution_count": null,
   "metadata": {
    "ExecuteTime": {
     "end_time": "2019-11-04T19:58:37.482571Z",
     "start_time": "2019-11-04T19:58:37.477809Z"
    }
   },
   "outputs": [],
   "source": [
    "a = torch.Tensor(2, 3)\n",
    "a.normal_();"
   ]
  },
  {
   "cell_type": "code",
   "execution_count": null,
   "metadata": {
    "ExecuteTime": {
     "end_time": "2019-11-04T19:58:37.649050Z",
     "start_time": "2019-11-04T19:58:37.637654Z"
    }
   },
   "outputs": [],
   "source": [
    "# New tensor\n",
    "\n",
    "print(a.exp())\n",
    "print(a)"
   ]
  },
  {
   "cell_type": "code",
   "execution_count": null,
   "metadata": {
    "ExecuteTime": {
     "end_time": "2019-11-04T19:58:49.044793Z",
     "start_time": "2019-11-04T19:58:49.040029Z"
    }
   },
   "outputs": [],
   "source": [
    "# Inplace version\n",
    "\n",
    "print(a.exp_())\n",
    "print(a)"
   ]
  },
  {
   "cell_type": "code",
   "execution_count": null,
   "metadata": {
    "ExecuteTime": {
     "end_time": "2019-11-04T19:59:32.688902Z",
     "start_time": "2019-11-04T19:59:32.681548Z"
    }
   },
   "outputs": [],
   "source": [
    "b = torch.ones(2, 1)\n",
    "b"
   ]
  },
  {
   "cell_type": "code",
   "execution_count": null,
   "metadata": {
    "ExecuteTime": {
     "end_time": "2019-11-04T19:59:29.198231Z",
     "start_time": "2019-11-04T19:59:29.190911Z"
    }
   },
   "outputs": [],
   "source": [
    "a + b"
   ]
  },
  {
   "cell_type": "code",
   "execution_count": null,
   "metadata": {
    "ExecuteTime": {
     "end_time": "2019-11-04T19:59:48.781005Z",
     "start_time": "2019-11-04T19:59:48.775757Z"
    }
   },
   "outputs": [],
   "source": [
    "a.add_(b)"
   ]
  },
  {
   "cell_type": "code",
   "execution_count": null,
   "metadata": {
    "ExecuteTime": {
     "end_time": "2019-11-04T20:01:02.951187Z",
     "start_time": "2019-11-04T20:01:02.945692Z"
    }
   },
   "outputs": [],
   "source": [
    "b.normal_()\n",
    "a.exp().div(b)"
   ]
  },
  {
   "cell_type": "code",
   "execution_count": null,
   "metadata": {
    "ExecuteTime": {
     "end_time": "2019-11-04T20:02:11.331034Z",
     "start_time": "2019-11-04T20:02:11.322219Z"
    }
   },
   "outputs": [],
   "source": [
    "a > 0"
   ]
  },
  {
   "cell_type": "markdown",
   "metadata": {},
   "source": [
    "# To Python and NumPy"
   ]
  },
  {
   "cell_type": "code",
   "execution_count": null,
   "metadata": {
    "ExecuteTime": {
     "end_time": "2019-11-04T20:02:47.743212Z",
     "start_time": "2019-11-04T20:02:47.735808Z"
    }
   },
   "outputs": [],
   "source": [
    "# Shape the same data with PyTorch tensor\n",
    "\n",
    "a.numpy()"
   ]
  },
  {
   "cell_type": "code",
   "execution_count": null,
   "metadata": {
    "ExecuteTime": {
     "end_time": "2019-11-04T20:03:23.688561Z",
     "start_time": "2019-11-04T20:03:23.677829Z"
    }
   },
   "outputs": [],
   "source": [
    "a[0, 1], a[0, 1].item()"
   ]
  },
  {
   "cell_type": "markdown",
   "metadata": {},
   "source": [
    "# Reshape and resize"
   ]
  },
  {
   "cell_type": "code",
   "execution_count": null,
   "metadata": {
    "ExecuteTime": {
     "end_time": "2019-11-04T20:47:53.319920Z",
     "start_time": "2019-11-04T20:47:53.313894Z"
    }
   },
   "outputs": [],
   "source": [
    "def plot_matrix(a):\n",
    "    plt.matshow(a, cmap=plt.cm.coolwarm)\n",
    "    plt.grid(False)\n",
    "\n",
    "    for i in range(a.shape[0]):\n",
    "        for j in range(a.shape[1]):\n",
    "            plt.text(j, i, f\"{a[i, j]:.4f}\",\n",
    "                     ha=\"center\", va=\"center\", color=\"w\",\n",
    "                     fontsize=12)\n",
    "    plt.show()"
   ]
  },
  {
   "cell_type": "code",
   "execution_count": null,
   "metadata": {
    "ExecuteTime": {
     "end_time": "2019-11-04T20:48:16.361725Z",
     "start_time": "2019-11-04T20:48:16.353572Z"
    }
   },
   "outputs": [],
   "source": [
    "a = torch.randn(3, 8)\n",
    "a"
   ]
  },
  {
   "cell_type": "code",
   "execution_count": null,
   "metadata": {
    "ExecuteTime": {
     "end_time": "2019-11-04T20:48:18.314379Z",
     "start_time": "2019-11-04T20:48:18.305989Z"
    }
   },
   "outputs": [],
   "source": [
    "a.view(4, 6)"
   ]
  },
  {
   "cell_type": "code",
   "execution_count": null,
   "metadata": {
    "ExecuteTime": {
     "end_time": "2019-11-04T20:48:19.890617Z",
     "start_time": "2019-11-04T20:48:19.878815Z"
    }
   },
   "outputs": [],
   "source": [
    "a[::2, ::2]"
   ]
  },
  {
   "cell_type": "code",
   "execution_count": null,
   "metadata": {
    "ExecuteTime": {
     "end_time": "2019-11-04T20:48:31.167979Z",
     "start_time": "2019-11-04T20:48:31.153173Z"
    }
   },
   "outputs": [],
   "source": [
    "a[::2, ::2].view(4, 2)"
   ]
  },
  {
   "cell_type": "code",
   "execution_count": null,
   "metadata": {
    "ExecuteTime": {
     "end_time": "2019-11-04T20:49:56.403447Z",
     "start_time": "2019-11-04T20:49:56.395440Z"
    }
   },
   "outputs": [],
   "source": [
    "print(\"Original:\")\n",
    "print(a, \"\\n\")\n",
    "print(\"Sliced:\")\n",
    "print(a[::2, ::2])"
   ]
  },
  {
   "cell_type": "code",
   "execution_count": null,
   "metadata": {
    "ExecuteTime": {
     "end_time": "2019-11-04T20:50:13.877492Z",
     "start_time": "2019-11-04T20:50:13.869394Z"
    }
   },
   "outputs": [],
   "source": [
    "a[::2, ::2].stride(), a.stride()"
   ]
  },
  {
   "cell_type": "code",
   "execution_count": null,
   "metadata": {
    "ExecuteTime": {
     "end_time": "2019-11-04T20:48:32.823656Z",
     "start_time": "2019-11-04T20:48:32.438089Z"
    }
   },
   "outputs": [],
   "source": [
    "plot_matrix(a.numpy())"
   ]
  },
  {
   "cell_type": "code",
   "execution_count": null,
   "metadata": {
    "ExecuteTime": {
     "end_time": "2019-11-04T20:26:06.815328Z",
     "start_time": "2019-11-04T20:26:06.804158Z"
    }
   },
   "outputs": [],
   "source": [
    "a[::2, ::2].stride(), a.stride()"
   ]
  },
  {
   "cell_type": "code",
   "execution_count": null,
   "metadata": {
    "ExecuteTime": {
     "end_time": "2019-11-04T20:26:07.430050Z",
     "start_time": "2019-11-04T20:26:07.423864Z"
    }
   },
   "outputs": [],
   "source": [
    "a[::2, ::2].view(2, 2, 2)"
   ]
  },
  {
   "cell_type": "code",
   "execution_count": null,
   "metadata": {
    "ExecuteTime": {
     "end_time": "2019-11-04T20:26:07.884806Z",
     "start_time": "2019-11-04T20:26:07.874958Z"
    }
   },
   "outputs": [],
   "source": [
    "a[::2, ::2].reshape(4, 2)"
   ]
  },
  {
   "cell_type": "code",
   "execution_count": null,
   "metadata": {
    "ExecuteTime": {
     "end_time": "2019-11-04T21:02:52.875277Z",
     "start_time": "2019-11-04T21:02:52.845956Z"
    }
   },
   "outputs": [],
   "source": [
    "a[::2, ::2].reshape(4, 2).storage().data_ptr()"
   ]
  },
  {
   "cell_type": "code",
   "execution_count": null,
   "metadata": {
    "ExecuteTime": {
     "end_time": "2019-11-04T21:03:07.785123Z",
     "start_time": "2019-11-04T21:03:07.779202Z"
    }
   },
   "outputs": [],
   "source": [
    "a.view(4, 6).storage().data_ptr(), a.storage().data_ptr()"
   ]
  },
  {
   "cell_type": "code",
   "execution_count": null,
   "metadata": {},
   "outputs": [],
   "source": []
  }
 ],
 "metadata": {
  "@webio": {
   "lastCommId": null,
   "lastKernelId": null
  },
  "kernelspec": {
   "display_name": "Python 3",
   "language": "python",
   "name": "python3"
  },
  "language_info": {
   "codemirror_mode": {
    "name": "ipython",
    "version": 3
   },
   "file_extension": ".py",
   "mimetype": "text/x-python",
   "name": "python",
   "nbconvert_exporter": "python",
   "pygments_lexer": "ipython3",
   "version": "3.6.5"
  }
 },
 "nbformat": 4,
 "nbformat_minor": 2
}
