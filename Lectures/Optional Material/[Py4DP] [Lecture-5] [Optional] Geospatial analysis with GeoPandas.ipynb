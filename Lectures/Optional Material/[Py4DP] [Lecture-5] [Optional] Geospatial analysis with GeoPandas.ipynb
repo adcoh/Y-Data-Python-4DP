{
 "cells": [
  {
   "cell_type": "code",
   "execution_count": 1,
   "metadata": {
    "ExecuteTime": {
     "end_time": "2019-12-03T11:42:45.550693Z",
     "start_time": "2019-12-03T11:42:43.766333Z"
    }
   },
   "outputs": [
    {
     "name": "stdout",
     "output_type": "stream",
     "text": [
      "Populating the interactive namespace from numpy and matplotlib\n"
     ]
    }
   ],
   "source": [
    "%pylab inline\n",
    "import numpy as np\n",
    "import pandas as pd\n",
    "import geopandas as gpd"
   ]
  },
  {
   "cell_type": "code",
   "execution_count": 2,
   "metadata": {
    "ExecuteTime": {
     "end_time": "2019-12-03T11:42:45.569990Z",
     "start_time": "2019-12-03T11:42:45.556480Z"
    }
   },
   "outputs": [],
   "source": [
    "plt.style.use('bmh')"
   ]
  },
  {
   "cell_type": "code",
   "execution_count": 3,
   "metadata": {
    "ExecuteTime": {
     "end_time": "2019-12-03T11:42:46.509396Z",
     "start_time": "2019-12-03T11:42:45.575977Z"
    }
   },
   "outputs": [],
   "source": [
    "import seaborn as sns"
   ]
  },
  {
   "cell_type": "markdown",
   "metadata": {},
   "source": [
    "# Intro\n",
    "\n",
    "Pandas dataframes are a great tool for data exploration. But they have some limitations. One of them is that it's not possible to use geospatial information in exploratory data analysis. GeoPandas is aimed at solving this problem.\n",
    "\n",
    "GeoPandas provides two abstractions: `GeoDataFrame` and `GeoSeries`. At their core, they are usual dataframes and series, but with geometry, provided as a dedicated entity for each row. This allows to perform more complex queries, for example:\n",
    "\n",
    "- select all the rows, which are inside some area,\n",
    "- select all the rows with underlying geometry area above threshold.\n",
    "\n",
    "GeoPandas also provides a lot of typical geospatiial operations in a vectorized form similar to `apply`, `groupby` and `join`, as well as I/O operations like saving to PostGIS, or reading GeoJSON or shapefiles."
   ]
  },
  {
   "cell_type": "markdown",
   "metadata": {},
   "source": [
    "# Shapelly geometries\n",
    "\n",
    "The main Python package, which provides geometry operations, is Shapely. It contains all the main geometry structures (points. lines, polygons, nulti-ppolygons, etc.) and common operations on them.\n",
    "\n",
    "Shapely also knows how to visualize the geometry, which is very useful during EDA."
   ]
  },
  {
   "cell_type": "code",
   "execution_count": 4,
   "metadata": {
    "ExecuteTime": {
     "end_time": "2019-12-03T11:42:46.519151Z",
     "start_time": "2019-12-03T11:42:46.514074Z"
    }
   },
   "outputs": [],
   "source": [
    "import shapely"
   ]
  },
  {
   "cell_type": "code",
   "execution_count": 5,
   "metadata": {
    "ExecuteTime": {
     "end_time": "2019-12-03T11:42:46.551740Z",
     "start_time": "2019-12-03T11:42:46.523131Z"
    }
   },
   "outputs": [
    {
     "data": {
      "image/svg+xml": [
       "<svg xmlns=\"http://www.w3.org/2000/svg\" xmlns:xlink=\"http://www.w3.org/1999/xlink\" width=\"100.0\" height=\"100.0\" viewBox=\"-0.75 -0.5 2.0 2.0\" preserveAspectRatio=\"xMinYMin meet\"><g transform=\"matrix(1,0,0,-1,0,1.0)\"><circle cx=\"0.25\" cy=\"0.5\" r=\"0.06\" stroke=\"#555555\" stroke-width=\"0.02\" fill=\"#66cc99\" opacity=\"0.6\" /></g></svg>"
      ],
      "text/plain": [
       "<shapely.geometry.point.Point at 0x7f549bed0eb8>"
      ]
     },
     "execution_count": 5,
     "metadata": {},
     "output_type": "execute_result"
    }
   ],
   "source": [
    "point = shapely.geometry.Point(0.25, 0.5)\n",
    "point"
   ]
  },
  {
   "cell_type": "code",
   "execution_count": 6,
   "metadata": {
    "ExecuteTime": {
     "end_time": "2019-12-03T11:42:46.571468Z",
     "start_time": "2019-12-03T11:42:46.555937Z"
    }
   },
   "outputs": [
    {
     "data": {
      "text/plain": [
       "0.0"
      ]
     },
     "execution_count": 6,
     "metadata": {},
     "output_type": "execute_result"
    }
   ],
   "source": [
    "point.area"
   ]
  },
  {
   "cell_type": "code",
   "execution_count": 7,
   "metadata": {
    "ExecuteTime": {
     "end_time": "2019-12-03T11:42:46.585640Z",
     "start_time": "2019-12-03T11:42:46.575592Z"
    }
   },
   "outputs": [
    {
     "data": {
      "image/svg+xml": [
       "<svg xmlns=\"http://www.w3.org/2000/svg\" xmlns:xlink=\"http://www.w3.org/1999/xlink\" width=\"100.0\" height=\"100.0\" viewBox=\"-0.04 -0.04 1.08 1.08\" preserveAspectRatio=\"xMinYMin meet\"><g transform=\"matrix(1,0,0,-1,0,1.0)\"><path fill-rule=\"evenodd\" fill=\"#66cc99\" stroke=\"#555555\" stroke-width=\"0.0216\" opacity=\"0.6\" d=\"M 0.0,0.0 L 0.0,1.0 L 1.0,1.0 L 1.0,0.0 L 0.0,0.0 z\" /></g></svg>"
      ],
      "text/plain": [
       "<shapely.geometry.polygon.Polygon at 0x7f549bf0c4a8>"
      ]
     },
     "execution_count": 7,
     "metadata": {},
     "output_type": "execute_result"
    }
   ],
   "source": [
    "polygon = shapely.geometry.Polygon([(0, 0), (0, 1), (1, 1), (1, 0)])\n",
    "polygon"
   ]
  },
  {
   "cell_type": "code",
   "execution_count": 8,
   "metadata": {
    "ExecuteTime": {
     "end_time": "2019-12-03T11:42:46.598374Z",
     "start_time": "2019-12-03T11:42:46.589371Z"
    }
   },
   "outputs": [
    {
     "data": {
      "image/svg+xml": [
       "<svg xmlns=\"http://www.w3.org/2000/svg\" xmlns:xlink=\"http://www.w3.org/1999/xlink\" width=\"100.0\" height=\"100.0\" viewBox=\"-0.04 -0.04 1.08 1.08\" preserveAspectRatio=\"xMinYMin meet\"><g transform=\"matrix(1,0,0,-1,0,1.0)\"><path fill-rule=\"evenodd\" fill=\"#66cc99\" stroke=\"#555555\" stroke-width=\"0.0216\" opacity=\"0.6\" d=\"M 0.0,0.0 L 0.0,1.0 L 1.0,1.0 L 0.0,0.0 z\" /></g></svg>"
      ],
      "text/plain": [
       "<shapely.geometry.polygon.Polygon at 0x7f549bf0c438>"
      ]
     },
     "execution_count": 8,
     "metadata": {},
     "output_type": "execute_result"
    }
   ],
   "source": [
    "polygon = shapely.geometry.Polygon([(0, 0), (0, 1), (1, 1)])\n",
    "polygon"
   ]
  },
  {
   "cell_type": "code",
   "execution_count": 9,
   "metadata": {
    "ExecuteTime": {
     "end_time": "2019-12-03T11:42:46.634705Z",
     "start_time": "2019-12-03T11:42:46.623196Z"
    }
   },
   "outputs": [
    {
     "data": {
      "text/plain": [
       "(0.5, (0.0, 0.0, 1.0, 1.0))"
      ]
     },
     "execution_count": 9,
     "metadata": {},
     "output_type": "execute_result"
    }
   ],
   "source": [
    "polygon.area, polygon.bounds # <= it's easy to calculate area, get bounding box and so on"
   ]
  },
  {
   "cell_type": "code",
   "execution_count": 10,
   "metadata": {
    "ExecuteTime": {
     "end_time": "2019-12-03T11:42:46.657536Z",
     "start_time": "2019-12-03T11:42:46.643246Z"
    }
   },
   "outputs": [
    {
     "data": {
      "image/svg+xml": [
       "<svg xmlns=\"http://www.w3.org/2000/svg\" xmlns:xlink=\"http://www.w3.org/1999/xlink\" width=\"100.0\" height=\"100.0\" viewBox=\"-0.04 -0.04 1.08 1.08\" preserveAspectRatio=\"xMinYMin meet\"><g transform=\"matrix(1,0,0,-1,0,1.0)\"><polyline fill=\"none\" stroke=\"#66cc99\" stroke-width=\"0.0216\" points=\"0.0,0.0 0.0,1.0 1.0,1.0 0.0,0.0\" opacity=\"0.8\" /></g></svg>"
      ],
      "text/plain": [
       "<shapely.geometry.linestring.LineString at 0x7f549bf0c0f0>"
      ]
     },
     "execution_count": 10,
     "metadata": {},
     "output_type": "execute_result"
    }
   ],
   "source": [
    "polygon.boundary"
   ]
  },
  {
   "cell_type": "code",
   "execution_count": 11,
   "metadata": {
    "ExecuteTime": {
     "end_time": "2019-12-03T11:42:46.677005Z",
     "start_time": "2019-12-03T11:42:46.663868Z"
    }
   },
   "outputs": [
    {
     "data": {
      "text/plain": [
       "(shapely.geometry.linestring.LineString, (0.0, 0.0, 1.0, 1.0))"
      ]
     },
     "execution_count": 11,
     "metadata": {},
     "output_type": "execute_result"
    }
   ],
   "source": [
    "type(polygon.boundary), polygon.bounds"
   ]
  },
  {
   "cell_type": "code",
   "execution_count": 12,
   "metadata": {
    "ExecuteTime": {
     "end_time": "2019-12-03T11:42:46.690556Z",
     "start_time": "2019-12-03T11:42:46.681019Z"
    }
   },
   "outputs": [
    {
     "data": {
      "image/svg+xml": [
       "<svg xmlns=\"http://www.w3.org/2000/svg\" xmlns:xlink=\"http://www.w3.org/1999/xlink\" width=\"100.0\" height=\"100.0\" viewBox=\"-0.04 -0.04 1.08 1.08\" preserveAspectRatio=\"xMinYMin meet\"><g transform=\"matrix(1,0,0,-1,0,1.0)\"><polyline fill=\"none\" stroke=\"#66cc99\" stroke-width=\"0.0216\" points=\"0.0,0.0 0.0,1.0 1.0,1.0\" opacity=\"0.8\" /></g></svg>"
      ],
      "text/plain": [
       "<shapely.geometry.linestring.LineString at 0x7f549bf0ca58>"
      ]
     },
     "execution_count": 12,
     "metadata": {},
     "output_type": "execute_result"
    }
   ],
   "source": [
    "line = shapely.geometry.LineString([(0, 0), (0, 1), (1, 1)]) # <= note the difference\n",
    "line"
   ]
  },
  {
   "cell_type": "code",
   "execution_count": 13,
   "metadata": {
    "ExecuteTime": {
     "end_time": "2019-12-03T11:42:46.715220Z",
     "start_time": "2019-12-03T11:42:46.705466Z"
    }
   },
   "outputs": [
    {
     "data": {
      "text/plain": [
       "True"
      ]
     },
     "execution_count": 13,
     "metadata": {},
     "output_type": "execute_result"
    }
   ],
   "source": [
    "point.within(polygon) # <= check geospatial relations"
   ]
  },
  {
   "cell_type": "code",
   "execution_count": 14,
   "metadata": {
    "ExecuteTime": {
     "end_time": "2019-12-03T11:42:46.733417Z",
     "start_time": "2019-12-03T11:42:46.719859Z"
    }
   },
   "outputs": [
    {
     "data": {
      "image/svg+xml": [
       "<svg xmlns=\"http://www.w3.org/2000/svg\" xmlns:xlink=\"http://www.w3.org/1999/xlink\" width=\"100.0\" height=\"100.0\" viewBox=\"-0.04 -0.04 1.08 1.08\" preserveAspectRatio=\"xMinYMin meet\"><g transform=\"matrix(1,0,0,-1,0,1.0)\"><path fill-rule=\"evenodd\" fill=\"#66cc99\" stroke=\"#555555\" stroke-width=\"0.0216\" opacity=\"0.6\" d=\"M 0.0,1.0 L 1.0,1.0 L 1.0,0.0 L 0.0,1.0 z\" /></g></svg>"
      ],
      "text/plain": [
       "<shapely.geometry.polygon.Polygon at 0x7f549bf0ca20>"
      ]
     },
     "execution_count": 14,
     "metadata": {},
     "output_type": "execute_result"
    }
   ],
   "source": [
    "polygon_alt = shapely.geometry.Polygon([(0, 1), (1, 1), (1, 0)])\n",
    "polygon_alt"
   ]
  },
  {
   "cell_type": "code",
   "execution_count": 15,
   "metadata": {
    "ExecuteTime": {
     "end_time": "2019-12-03T11:42:46.754834Z",
     "start_time": "2019-12-03T11:42:46.739631Z"
    }
   },
   "outputs": [
    {
     "data": {
      "image/svg+xml": [
       "<svg xmlns=\"http://www.w3.org/2000/svg\" xmlns:xlink=\"http://www.w3.org/1999/xlink\" width=\"100.0\" height=\"100.0\" viewBox=\"-0.04 0.46 1.08 0.5800000000000001\" preserveAspectRatio=\"xMinYMin meet\"><g transform=\"matrix(1,0,0,-1,0,1.5)\"><path fill-rule=\"evenodd\" fill=\"#66cc99\" stroke=\"#555555\" stroke-width=\"0.0216\" opacity=\"0.6\" d=\"M 0.0,1.0 L 1.0,1.0 L 0.5,0.5 L 0.0,1.0 z\" /></g></svg>"
      ],
      "text/plain": [
       "<shapely.geometry.polygon.Polygon at 0x7f549bf0c9e8>"
      ]
     },
     "execution_count": 15,
     "metadata": {},
     "output_type": "execute_result"
    }
   ],
   "source": [
    "polygon.intersection(polygon_alt)"
   ]
  },
  {
   "cell_type": "code",
   "execution_count": 16,
   "metadata": {
    "ExecuteTime": {
     "end_time": "2019-12-03T11:42:46.779392Z",
     "start_time": "2019-12-03T11:42:46.764995Z"
    }
   },
   "outputs": [
    {
     "data": {
      "image/svg+xml": [
       "<svg xmlns=\"http://www.w3.org/2000/svg\" xmlns:xlink=\"http://www.w3.org/1999/xlink\" width=\"100.0\" height=\"100.0\" viewBox=\"-0.04 -0.04 1.08 1.08\" preserveAspectRatio=\"xMinYMin meet\"><g transform=\"matrix(1,0,0,-1,0,1.0)\"><path fill-rule=\"evenodd\" fill=\"#66cc99\" stroke=\"#555555\" stroke-width=\"0.0216\" opacity=\"0.6\" d=\"M 0.0,0.0 L 0.0,1.0 L 1.0,1.0 L 1.0,0.0 L 0.5,0.5 L 0.0,0.0 z\" /></g></svg>"
      ],
      "text/plain": [
       "<shapely.geometry.polygon.Polygon at 0x7f549bf0c320>"
      ]
     },
     "execution_count": 16,
     "metadata": {},
     "output_type": "execute_result"
    }
   ],
   "source": [
    "polygon.union(polygon_alt)"
   ]
  },
  {
   "cell_type": "code",
   "execution_count": 17,
   "metadata": {
    "ExecuteTime": {
     "end_time": "2019-12-03T11:42:46.804402Z",
     "start_time": "2019-12-03T11:42:46.791875Z"
    }
   },
   "outputs": [
    {
     "data": {
      "image/svg+xml": [
       "<svg xmlns=\"http://www.w3.org/2000/svg\" xmlns:xlink=\"http://www.w3.org/1999/xlink\" width=\"100.0\" height=\"100.0\" viewBox=\"0.23 0.23 0.54 0.54\" preserveAspectRatio=\"xMinYMin meet\"><g transform=\"matrix(1,0,0,-1,0,1.0)\"><path fill-rule=\"evenodd\" fill=\"#66cc99\" stroke=\"#555555\" stroke-width=\"0.0108\" opacity=\"0.6\" d=\"M 0.75,0.25 L 0.75,0.75 L 0.25,0.75 L 0.25,0.25 L 0.75,0.25 z\" /></g></svg>"
      ],
      "text/plain": [
       "<shapely.geometry.polygon.Polygon at 0x7f549bf0cd68>"
      ]
     },
     "execution_count": 17,
     "metadata": {},
     "output_type": "execute_result"
    }
   ],
   "source": [
    "bbox = shapely.geometry.box(0.25, 0.25, 0.75, 0.75)\n",
    "bbox"
   ]
  },
  {
   "cell_type": "code",
   "execution_count": 18,
   "metadata": {
    "ExecuteTime": {
     "end_time": "2019-12-03T11:42:46.823461Z",
     "start_time": "2019-12-03T11:42:46.810982Z"
    }
   },
   "outputs": [
    {
     "data": {
      "image/svg+xml": [
       "<svg xmlns=\"http://www.w3.org/2000/svg\" xmlns:xlink=\"http://www.w3.org/1999/xlink\" width=\"100.0\" height=\"100.0\" viewBox=\"-0.04 -0.04 1.08 1.08\" preserveAspectRatio=\"xMinYMin meet\"><g transform=\"matrix(1,0,0,-1,0,1.0)\"><path fill-rule=\"evenodd\" fill=\"#66cc99\" stroke=\"#555555\" stroke-width=\"0.0216\" opacity=\"0.6\" d=\"M 0.0,0.0 L 0.0,1.0 L 1.0,1.0 L 0.75,0.75 L 0.75,0.25 L 0.25,0.25 L 0.0,0.0 z\" /></g></svg>"
      ],
      "text/plain": [
       "<shapely.geometry.polygon.Polygon at 0x7f549bf0ccc0>"
      ]
     },
     "execution_count": 18,
     "metadata": {},
     "output_type": "execute_result"
    }
   ],
   "source": [
    "polygon.union(bbox)"
   ]
  },
  {
   "cell_type": "code",
   "execution_count": 19,
   "metadata": {
    "ExecuteTime": {
     "end_time": "2019-12-03T11:42:46.843044Z",
     "start_time": "2019-12-03T11:42:46.830650Z"
    }
   },
   "outputs": [
    {
     "data": {
      "image/svg+xml": [
       "<svg xmlns=\"http://www.w3.org/2000/svg\" xmlns:xlink=\"http://www.w3.org/1999/xlink\" width=\"100.0\" height=\"100.0\" viewBox=\"-0.04 -0.04 1.08 1.08\" preserveAspectRatio=\"xMinYMin meet\"><g transform=\"matrix(1,0,0,-1,0,1.0)\"><path fill-rule=\"evenodd\" fill=\"#66cc99\" stroke=\"#555555\" stroke-width=\"0.0216\" opacity=\"0.6\" d=\"M 0.0,0.0 L 0.0,1.0 L 1.0,1.0 L 0.75,0.75 L 0.25,0.75 L 0.25,0.25 L 0.0,0.0 z\" /></g></svg>"
      ],
      "text/plain": [
       "<shapely.geometry.polygon.Polygon at 0x7f549bf0ceb8>"
      ]
     },
     "execution_count": 19,
     "metadata": {},
     "output_type": "execute_result"
    }
   ],
   "source": [
    "polygon.difference(bbox)"
   ]
  },
  {
   "cell_type": "code",
   "execution_count": 20,
   "metadata": {
    "ExecuteTime": {
     "end_time": "2019-12-03T11:42:46.861379Z",
     "start_time": "2019-12-03T11:42:46.849398Z"
    }
   },
   "outputs": [
    {
     "data": {
      "image/svg+xml": [
       "<svg xmlns=\"http://www.w3.org/2000/svg\" xmlns:xlink=\"http://www.w3.org/1999/xlink\" width=\"100.0\" height=\"100.0\" viewBox=\"-0.04 -0.04 1.08 1.08\" preserveAspectRatio=\"xMinYMin meet\"><g transform=\"matrix(1,0,0,-1,0,1.0)\"><g><path fill-rule=\"evenodd\" fill=\"#66cc99\" stroke=\"#555555\" stroke-width=\"0.0216\" opacity=\"0.6\" d=\"M 0.0,0.0 L 0.0,1.0 L 1.0,1.0 L 0.75,0.75 L 0.25,0.75 L 0.25,0.25 L 0.0,0.0 z\" /><path fill-rule=\"evenodd\" fill=\"#66cc99\" stroke=\"#555555\" stroke-width=\"0.0216\" opacity=\"0.6\" d=\"M 0.25,0.25 L 0.75,0.75 L 0.75,0.25 L 0.25,0.25 z\" /></g></g></svg>"
      ],
      "text/plain": [
       "<shapely.geometry.multipolygon.MultiPolygon at 0x7f549bf0cfd0>"
      ]
     },
     "execution_count": 20,
     "metadata": {},
     "output_type": "execute_result"
    }
   ],
   "source": [
    "polygon.symmetric_difference(bbox)"
   ]
  },
  {
   "cell_type": "markdown",
   "metadata": {},
   "source": [
    "# Reading shapefiles\n",
    "\n",
    "There are many format to store geospatial data. One of common is shapefile. It's a binary format and is typically read with Fiona package of directly with GeoPandas. To experiment, we will download shapefile of London area from [London Datastore](https://data.london.gov.uk/dataset/statistical-gis-boundary-files-london). Specifically, we will use `London_Ward_CityMerged.shp`, extracted from `ESRI` directory in `statistical-gis-boundaries-london.zip`. Note, that you also need `.shx` file (it contains offset and other information for proper reading of shapefile)."
   ]
  },
  {
   "cell_type": "code",
   "execution_count": 21,
   "metadata": {
    "ExecuteTime": {
     "end_time": "2019-12-03T11:42:47.025673Z",
     "start_time": "2019-12-03T11:42:46.867041Z"
    }
   },
   "outputs": [],
   "source": [
    "london_areas = gpd.read_file(\"data/London_Ward_CityMerged.shp\")"
   ]
  },
  {
   "cell_type": "code",
   "execution_count": 22,
   "metadata": {
    "ExecuteTime": {
     "end_time": "2019-12-03T11:42:48.087964Z",
     "start_time": "2019-12-03T11:42:47.031193Z"
    }
   },
   "outputs": [
    {
     "data": {
      "text/plain": [
       "<matplotlib.axes._subplots.AxesSubplot at 0x7f549be1f358>"
      ]
     },
     "execution_count": 22,
     "metadata": {},
     "output_type": "execute_result"
    },
    {
     "data": {
      "image/png": "[encoded data removed]",
      "text/plain": [
       "<Figure size 432x288 with 1 Axes>"
      ]
     },
     "metadata": {
      "needs_background": "light"
     },
     "output_type": "display_data"
    }
   ],
   "source": [
    "london_areas.plot(column=london_areas.index.values)"
   ]
  },
  {
   "cell_type": "code",
   "execution_count": 23,
   "metadata": {
    "ExecuteTime": {
     "end_time": "2019-12-03T11:42:48.116270Z",
     "start_time": "2019-12-03T11:42:48.092971Z"
    }
   },
   "outputs": [
    {
     "name": "stdout",
     "output_type": "stream",
     "text": [
      "Total area, km2: 1594.697014125\n"
     ]
    }
   ],
   "source": [
    "print(f\"Total area, km2: {london_areas.area.sum()/1e6}\")"
   ]
  },
  {
   "cell_type": "markdown",
   "metadata": {},
   "source": [
    "# Creating `GeoDataFrame`\n",
    "\n",
    "Now that we know how to read some shapefiles and can use them to filter our data, we need to create an actual `GeoDataFrame`. Note, that we're using easting and northing, and compare it with our London shape."
   ]
  },
  {
   "cell_type": "code",
   "execution_count": 24,
   "metadata": {
    "ExecuteTime": {
     "end_time": "2019-12-03T11:42:51.084170Z",
     "start_time": "2019-12-03T11:42:48.122225Z"
    }
   },
   "outputs": [],
   "source": [
    "df = pd.read_csv('data/accidents_2005_to_2007.csv.zip',\n",
    "                 usecols=[\"Accident_Index\", \"Accident_Severity\", \"Number_of_Vehicles\",\n",
    "                          \"Number_of_Casualties\", \"Location_Easting_OSGR\", \"Location_Northing_OSGR\"])"
   ]
  },
  {
   "cell_type": "code",
   "execution_count": 25,
   "metadata": {
    "ExecuteTime": {
     "end_time": "2019-12-03T11:43:02.102914Z",
     "start_time": "2019-12-03T11:42:51.088241Z"
    }
   },
   "outputs": [
    {
     "data": {
      "text/html": [
       "<div>\n",
       "<style scoped>\n",
       "    .dataframe tbody tr th:only-of-type {\n",
       "        vertical-align: middle;\n",
       "    }\n",
       "\n",
       "    .dataframe tbody tr th {\n",
       "        vertical-align: top;\n",
       "    }\n",
       "\n",
       "    .dataframe thead th {\n",
       "        text-align: right;\n",
       "    }\n",
       "</style>\n",
       "<table border=\"1\" class=\"dataframe\">\n",
       "  <thead>\n",
       "    <tr style=\"text-align: right;\">\n",
       "      <th></th>\n",
       "      <th>Accident_Index</th>\n",
       "      <th>Accident_Severity</th>\n",
       "      <th>Number_of_Vehicles</th>\n",
       "      <th>Number_of_Casualties</th>\n",
       "      <th>Number_of_Casualties</th>\n",
       "      <th>geometry</th>\n",
       "    </tr>\n",
       "  </thead>\n",
       "  <tbody>\n",
       "    <tr>\n",
       "      <th>0</th>\n",
       "      <td>200501BS00001</td>\n",
       "      <td>2</td>\n",
       "      <td>1</td>\n",
       "      <td>1</td>\n",
       "      <td>1</td>\n",
       "      <td>POINT (525680 178240)</td>\n",
       "    </tr>\n",
       "    <tr>\n",
       "      <th>1</th>\n",
       "      <td>200501BS00002</td>\n",
       "      <td>3</td>\n",
       "      <td>1</td>\n",
       "      <td>1</td>\n",
       "      <td>1</td>\n",
       "      <td>POINT (524170 181650)</td>\n",
       "    </tr>\n",
       "    <tr>\n",
       "      <th>2</th>\n",
       "      <td>200501BS00003</td>\n",
       "      <td>3</td>\n",
       "      <td>2</td>\n",
       "      <td>1</td>\n",
       "      <td>1</td>\n",
       "      <td>POINT (524520 182240)</td>\n",
       "    </tr>\n",
       "    <tr>\n",
       "      <th>3</th>\n",
       "      <td>200501BS00004</td>\n",
       "      <td>3</td>\n",
       "      <td>1</td>\n",
       "      <td>1</td>\n",
       "      <td>1</td>\n",
       "      <td>POINT (526900 177530)</td>\n",
       "    </tr>\n",
       "    <tr>\n",
       "      <th>4</th>\n",
       "      <td>200501BS00005</td>\n",
       "      <td>3</td>\n",
       "      <td>1</td>\n",
       "      <td>1</td>\n",
       "      <td>1</td>\n",
       "      <td>POINT (528060 179040)</td>\n",
       "    </tr>\n",
       "    <tr>\n",
       "      <th>...</th>\n",
       "      <td>...</td>\n",
       "      <td>...</td>\n",
       "      <td>...</td>\n",
       "      <td>...</td>\n",
       "      <td>...</td>\n",
       "      <td>...</td>\n",
       "    </tr>\n",
       "    <tr>\n",
       "      <th>570006</th>\n",
       "      <td>2.01E+12</td>\n",
       "      <td>3</td>\n",
       "      <td>1</td>\n",
       "      <td>1</td>\n",
       "      <td>1</td>\n",
       "      <td>POINT (322650 566300)</td>\n",
       "    </tr>\n",
       "    <tr>\n",
       "      <th>570007</th>\n",
       "      <td>2.01E+12</td>\n",
       "      <td>2</td>\n",
       "      <td>1</td>\n",
       "      <td>2</td>\n",
       "      <td>2</td>\n",
       "      <td>POINT (323710 566150)</td>\n",
       "    </tr>\n",
       "    <tr>\n",
       "      <th>570008</th>\n",
       "      <td>2.01E+12</td>\n",
       "      <td>3</td>\n",
       "      <td>1</td>\n",
       "      <td>1</td>\n",
       "      <td>1</td>\n",
       "      <td>POINT (336900 586230)</td>\n",
       "    </tr>\n",
       "    <tr>\n",
       "      <th>570009</th>\n",
       "      <td>2.01E+12</td>\n",
       "      <td>3</td>\n",
       "      <td>1</td>\n",
       "      <td>1</td>\n",
       "      <td>1</td>\n",
       "      <td>POINT (332390 567240)</td>\n",
       "    </tr>\n",
       "    <tr>\n",
       "      <th>570010</th>\n",
       "      <td>2.01E+12</td>\n",
       "      <td>2</td>\n",
       "      <td>2</td>\n",
       "      <td>2</td>\n",
       "      <td>2</td>\n",
       "      <td>POINT (314040 579740)</td>\n",
       "    </tr>\n",
       "  </tbody>\n",
       "</table>\n",
       "<p>570011 rows × 6 columns</p>\n",
       "</div>"
      ],
      "text/plain": [
       "       Accident_Index  Accident_Severity  Number_of_Vehicles  \\\n",
       "0       200501BS00001                  2                   1   \n",
       "1       200501BS00002                  3                   1   \n",
       "2       200501BS00003                  3                   2   \n",
       "3       200501BS00004                  3                   1   \n",
       "4       200501BS00005                  3                   1   \n",
       "...               ...                ...                 ...   \n",
       "570006       2.01E+12                  3                   1   \n",
       "570007       2.01E+12                  2                   1   \n",
       "570008       2.01E+12                  3                   1   \n",
       "570009       2.01E+12                  3                   1   \n",
       "570010       2.01E+12                  2                   2   \n",
       "\n",
       "        Number_of_Casualties  Number_of_Casualties               geometry  \n",
       "0                          1                     1  POINT (525680 178240)  \n",
       "1                          1                     1  POINT (524170 181650)  \n",
       "2                          1                     1  POINT (524520 182240)  \n",
       "3                          1                     1  POINT (526900 177530)  \n",
       "4                          1                     1  POINT (528060 179040)  \n",
       "...                      ...                   ...                    ...  \n",
       "570006                     1                     1  POINT (322650 566300)  \n",
       "570007                     2                     2  POINT (323710 566150)  \n",
       "570008                     1                     1  POINT (336900 586230)  \n",
       "570009                     1                     1  POINT (332390 567240)  \n",
       "570010                     2                     2  POINT (314040 579740)  \n",
       "\n",
       "[570011 rows x 6 columns]"
      ]
     },
     "execution_count": 25,
     "metadata": {},
     "output_type": "execute_result"
    }
   ],
   "source": [
    "gdf = gpd.GeoDataFrame(df[[\"Accident_Index\", \"Accident_Severity\", \"Number_of_Vehicles\",\n",
    "                           \"Number_of_Casualties\", \"Number_of_Casualties\"]],\n",
    "                       geometry=gpd.points_from_xy(*df[[\"Location_Easting_OSGR\", \"Location_Northing_OSGR\"]].values.T))\n",
    "gdf"
   ]
  },
  {
   "cell_type": "markdown",
   "metadata": {},
   "source": [
    "Coordinates are provided in separate columns, hence, we have to create geomerties manually. In general, GeoPandas knows, how to handle `geometry` column in many formats, most common being WKT (Well Known Text). We can easily performed mixed queries:"
   ]
  },
  {
   "cell_type": "code",
   "execution_count": 26,
   "metadata": {
    "ExecuteTime": {
     "end_time": "2019-12-03T11:43:08.190038Z",
     "start_time": "2019-12-03T11:43:02.108286Z"
    }
   },
   "outputs": [
    {
     "data": {
      "text/html": [
       "<div>\n",
       "<style scoped>\n",
       "    .dataframe tbody tr th:only-of-type {\n",
       "        vertical-align: middle;\n",
       "    }\n",
       "\n",
       "    .dataframe tbody tr th {\n",
       "        vertical-align: top;\n",
       "    }\n",
       "\n",
       "    .dataframe thead th {\n",
       "        text-align: right;\n",
       "    }\n",
       "</style>\n",
       "<table border=\"1\" class=\"dataframe\">\n",
       "  <thead>\n",
       "    <tr style=\"text-align: right;\">\n",
       "      <th></th>\n",
       "      <th>Accident_Index</th>\n",
       "      <th>Accident_Severity</th>\n",
       "      <th>Number_of_Vehicles</th>\n",
       "      <th>Number_of_Casualties</th>\n",
       "      <th>Number_of_Casualties</th>\n",
       "      <th>geometry</th>\n",
       "    </tr>\n",
       "  </thead>\n",
       "  <tbody>\n",
       "    <tr>\n",
       "      <th>20227</th>\n",
       "      <td>200501VK30050</td>\n",
       "      <td>3</td>\n",
       "      <td>3</td>\n",
       "      <td>2</td>\n",
       "      <td>2</td>\n",
       "      <td>POINT (518880 164050)</td>\n",
       "    </tr>\n",
       "    <tr>\n",
       "      <th>217913</th>\n",
       "      <td>200601VK30305</td>\n",
       "      <td>3</td>\n",
       "      <td>3</td>\n",
       "      <td>1</td>\n",
       "      <td>1</td>\n",
       "      <td>POINT (519030 164010)</td>\n",
       "    </tr>\n",
       "    <tr>\n",
       "      <th>405402</th>\n",
       "      <td>200701VK30187</td>\n",
       "      <td>3</td>\n",
       "      <td>3</td>\n",
       "      <td>1</td>\n",
       "      <td>1</td>\n",
       "      <td>POINT (517240 161580)</td>\n",
       "    </tr>\n",
       "    <tr>\n",
       "      <th>405426</th>\n",
       "      <td>200701VK30218</td>\n",
       "      <td>3</td>\n",
       "      <td>3</td>\n",
       "      <td>2</td>\n",
       "      <td>2</td>\n",
       "      <td>POINT (517870 163920)</td>\n",
       "    </tr>\n",
       "    <tr>\n",
       "      <th>405463</th>\n",
       "      <td>200701VK30259</td>\n",
       "      <td>3</td>\n",
       "      <td>3</td>\n",
       "      <td>1</td>\n",
       "      <td>1</td>\n",
       "      <td>POINT (519230 163960)</td>\n",
       "    </tr>\n",
       "    <tr>\n",
       "      <th>405479</th>\n",
       "      <td>200701VK30279</td>\n",
       "      <td>3</td>\n",
       "      <td>3</td>\n",
       "      <td>1</td>\n",
       "      <td>1</td>\n",
       "      <td>POINT (517650 163260)</td>\n",
       "    </tr>\n",
       "    <tr>\n",
       "      <th>405511</th>\n",
       "      <td>200701VK30314</td>\n",
       "      <td>3</td>\n",
       "      <td>3</td>\n",
       "      <td>1</td>\n",
       "      <td>1</td>\n",
       "      <td>POINT (517540 162510)</td>\n",
       "    </tr>\n",
       "  </tbody>\n",
       "</table>\n",
       "</div>"
      ],
      "text/plain": [
       "       Accident_Index  Accident_Severity  Number_of_Vehicles  \\\n",
       "20227   200501VK30050                  3                   3   \n",
       "217913  200601VK30305                  3                   3   \n",
       "405402  200701VK30187                  3                   3   \n",
       "405426  200701VK30218                  3                   3   \n",
       "405463  200701VK30259                  3                   3   \n",
       "405479  200701VK30279                  3                   3   \n",
       "405511  200701VK30314                  3                   3   \n",
       "\n",
       "        Number_of_Casualties  Number_of_Casualties               geometry  \n",
       "20227                      2                     2  POINT (518880 164050)  \n",
       "217913                     1                     1  POINT (519030 164010)  \n",
       "405402                     1                     1  POINT (517240 161580)  \n",
       "405426                     2                     2  POINT (517870 163920)  \n",
       "405463                     1                     1  POINT (519230 163960)  \n",
       "405479                     1                     1  POINT (517650 163260)  \n",
       "405511                     1                     1  POINT (517540 162510)  "
      ]
     },
     "execution_count": 26,
     "metadata": {},
     "output_type": "execute_result"
    }
   ],
   "source": [
    "gdf[gdf.within(london_areas.geometry.iloc[0]) & (gdf.Number_of_Vehicles==3)]"
   ]
  },
  {
   "cell_type": "code",
   "execution_count": 27,
   "metadata": {
    "ExecuteTime": {
     "end_time": "2019-12-03T11:43:14.524287Z",
     "start_time": "2019-12-03T11:43:08.201000Z"
    }
   },
   "outputs": [
    {
     "data": {
      "text/plain": [
       "<matplotlib.axes._subplots.AxesSubplot at 0x7f5488f6a0b8>"
      ]
     },
     "execution_count": 27,
     "metadata": {},
     "output_type": "execute_result"
    },
    {
     "data": {
      "image/png": "[encoded data removed]",
      "text/plain": [
       "<Figure size 432x288 with 1 Axes>"
      ]
     },
     "metadata": {
      "needs_background": "light"
     },
     "output_type": "display_data"
    }
   ],
   "source": [
    "gdf[gdf.within(london_areas.geometry.iloc[0]) & (gdf.Accident_Severity<=2)].plot()"
   ]
  },
  {
   "cell_type": "markdown",
   "metadata": {},
   "source": [
    "# Common operations"
   ]
  },
  {
   "cell_type": "markdown",
   "metadata": {},
   "source": [
    "Imagine, that we want to calculate number of accidents by area. To do this, we need to perform spatial join operation. However, join will fail, if we have missing coordinates, so let's remove those from the dataframe:"
   ]
  },
  {
   "cell_type": "code",
   "execution_count": 28,
   "metadata": {
    "ExecuteTime": {
     "end_time": "2019-12-03T11:43:14.686719Z",
     "start_time": "2019-12-03T11:43:14.530046Z"
    }
   },
   "outputs": [],
   "source": [
    "gdf = gdf[df.Location_Easting_OSGR.notnull() & df.Location_Northing_OSGR.notnull()]"
   ]
  },
  {
   "cell_type": "code",
   "execution_count": 29,
   "metadata": {
    "ExecuteTime": {
     "end_time": "2019-12-03T11:44:07.289205Z",
     "start_time": "2019-12-03T11:43:14.694504Z"
    }
   },
   "outputs": [
    {
     "name": "stderr",
     "output_type": "stream",
     "text": [
      "/home/traveller/.local/lib/python3.6/site-packages/geopandas/tools/sjoin.py:56: UserWarning: CRS of frames being joined does not match!(None != {})\n",
      "  '(%s != %s)' % (left_df.crs, right_df.crs))\n"
     ]
    }
   ],
   "source": [
    "gpd = gpd.sjoin(gdf, london_areas)"
   ]
  },
  {
   "cell_type": "markdown",
   "metadata": {
    "ExecuteTime": {
     "end_time": "2019-12-03T11:37:25.193465Z",
     "start_time": "2019-12-03T11:37:25.184289Z"
    }
   },
   "source": [
    "Great, we now know, in which city area each accident happened. Note, that resulting dataframe only contains those accident, which belong to London (see dataframe shape):"
   ]
  },
  {
   "cell_type": "code",
   "execution_count": 30,
   "metadata": {
    "ExecuteTime": {
     "end_time": "2019-12-03T11:44:07.343901Z",
     "start_time": "2019-12-03T11:44:07.292991Z"
    }
   },
   "outputs": [
    {
     "data": {
      "text/html": [
       "<div>\n",
       "<style scoped>\n",
       "    .dataframe tbody tr th:only-of-type {\n",
       "        vertical-align: middle;\n",
       "    }\n",
       "\n",
       "    .dataframe tbody tr th {\n",
       "        vertical-align: top;\n",
       "    }\n",
       "\n",
       "    .dataframe thead th {\n",
       "        text-align: right;\n",
       "    }\n",
       "</style>\n",
       "<table border=\"1\" class=\"dataframe\">\n",
       "  <thead>\n",
       "    <tr style=\"text-align: right;\">\n",
       "      <th></th>\n",
       "      <th>Accident_Index</th>\n",
       "      <th>Accident_Severity</th>\n",
       "      <th>Number_of_Vehicles</th>\n",
       "      <th>Number_of_Casualties</th>\n",
       "      <th>Number_of_Casualties</th>\n",
       "      <th>geometry</th>\n",
       "      <th>index_right</th>\n",
       "    </tr>\n",
       "  </thead>\n",
       "  <tbody>\n",
       "    <tr>\n",
       "      <th>0</th>\n",
       "      <td>200501BS00001</td>\n",
       "      <td>2</td>\n",
       "      <td>1</td>\n",
       "      <td>1</td>\n",
       "      <td>1</td>\n",
       "      <td>POINT (525680 178240)</td>\n",
       "      <td>464</td>\n",
       "    </tr>\n",
       "    <tr>\n",
       "      <th>11</th>\n",
       "      <td>200501BS00014</td>\n",
       "      <td>3</td>\n",
       "      <td>2</td>\n",
       "      <td>1</td>\n",
       "      <td>1</td>\n",
       "      <td>POINT (526170 177690)</td>\n",
       "      <td>464</td>\n",
       "    </tr>\n",
       "    <tr>\n",
       "      <th>47</th>\n",
       "      <td>200501BS70021</td>\n",
       "      <td>3</td>\n",
       "      <td>1</td>\n",
       "      <td>1</td>\n",
       "      <td>1</td>\n",
       "      <td>POINT (526290 177800)</td>\n",
       "      <td>464</td>\n",
       "    </tr>\n",
       "    <tr>\n",
       "      <th>48</th>\n",
       "      <td>200501BS70023</td>\n",
       "      <td>3</td>\n",
       "      <td>2</td>\n",
       "      <td>2</td>\n",
       "      <td>2</td>\n",
       "      <td>POINT (526020 177850)</td>\n",
       "      <td>464</td>\n",
       "    </tr>\n",
       "    <tr>\n",
       "      <th>97</th>\n",
       "      <td>200501BS70079</td>\n",
       "      <td>3</td>\n",
       "      <td>3</td>\n",
       "      <td>1</td>\n",
       "      <td>1</td>\n",
       "      <td>POINT (526090 177600)</td>\n",
       "      <td>464</td>\n",
       "    </tr>\n",
       "    <tr>\n",
       "      <th>...</th>\n",
       "      <td>...</td>\n",
       "      <td>...</td>\n",
       "      <td>...</td>\n",
       "      <td>...</td>\n",
       "      <td>...</td>\n",
       "      <td>...</td>\n",
       "      <td>...</td>\n",
       "    </tr>\n",
       "    <tr>\n",
       "      <th>411135</th>\n",
       "      <td>200701ZT80282</td>\n",
       "      <td>3</td>\n",
       "      <td>2</td>\n",
       "      <td>1</td>\n",
       "      <td>1</td>\n",
       "      <td>POINT (524510 163690)</td>\n",
       "      <td>369</td>\n",
       "    </tr>\n",
       "    <tr>\n",
       "      <th>411152</th>\n",
       "      <td>200701ZT80303</td>\n",
       "      <td>3</td>\n",
       "      <td>2</td>\n",
       "      <td>1</td>\n",
       "      <td>1</td>\n",
       "      <td>POINT (524280 163590)</td>\n",
       "      <td>369</td>\n",
       "    </tr>\n",
       "    <tr>\n",
       "      <th>411155</th>\n",
       "      <td>200701ZT80317</td>\n",
       "      <td>3</td>\n",
       "      <td>2</td>\n",
       "      <td>2</td>\n",
       "      <td>2</td>\n",
       "      <td>POINT (524290 163570)</td>\n",
       "      <td>369</td>\n",
       "    </tr>\n",
       "    <tr>\n",
       "      <th>411157</th>\n",
       "      <td>200701ZT80319</td>\n",
       "      <td>2</td>\n",
       "      <td>2</td>\n",
       "      <td>1</td>\n",
       "      <td>1</td>\n",
       "      <td>POINT (524500 163690)</td>\n",
       "      <td>369</td>\n",
       "    </tr>\n",
       "    <tr>\n",
       "      <th>411159</th>\n",
       "      <td>200701ZT89076</td>\n",
       "      <td>3</td>\n",
       "      <td>2</td>\n",
       "      <td>2</td>\n",
       "      <td>2</td>\n",
       "      <td>POINT (524310 163580)</td>\n",
       "      <td>369</td>\n",
       "    </tr>\n",
       "  </tbody>\n",
       "</table>\n",
       "<p>74927 rows × 7 columns</p>\n",
       "</div>"
      ],
      "text/plain": [
       "       Accident_Index  Accident_Severity  Number_of_Vehicles  \\\n",
       "0       200501BS00001                  2                   1   \n",
       "11      200501BS00014                  3                   2   \n",
       "47      200501BS70021                  3                   1   \n",
       "48      200501BS70023                  3                   2   \n",
       "97      200501BS70079                  3                   3   \n",
       "...               ...                ...                 ...   \n",
       "411135  200701ZT80282                  3                   2   \n",
       "411152  200701ZT80303                  3                   2   \n",
       "411155  200701ZT80317                  3                   2   \n",
       "411157  200701ZT80319                  2                   2   \n",
       "411159  200701ZT89076                  3                   2   \n",
       "\n",
       "        Number_of_Casualties  Number_of_Casualties               geometry  \\\n",
       "0                          1                     1  POINT (525680 178240)   \n",
       "11                         1                     1  POINT (526170 177690)   \n",
       "47                         1                     1  POINT (526290 177800)   \n",
       "48                         2                     2  POINT (526020 177850)   \n",
       "97                         1                     1  POINT (526090 177600)   \n",
       "...                      ...                   ...                    ...   \n",
       "411135                     1                     1  POINT (524510 163690)   \n",
       "411152                     1                     1  POINT (524280 163590)   \n",
       "411155                     2                     2  POINT (524290 163570)   \n",
       "411157                     1                     1  POINT (524500 163690)   \n",
       "411159                     2                     2  POINT (524310 163580)   \n",
       "\n",
       "        index_right  \n",
       "0               464  \n",
       "11              464  \n",
       "47              464  \n",
       "48              464  \n",
       "97              464  \n",
       "...             ...  \n",
       "411135          369  \n",
       "411152          369  \n",
       "411155          369  \n",
       "411157          369  \n",
       "411159          369  \n",
       "\n",
       "[74927 rows x 7 columns]"
      ]
     },
     "execution_count": 30,
     "metadata": {},
     "output_type": "execute_result"
    }
   ],
   "source": [
    "gpd"
   ]
  },
  {
   "cell_type": "code",
   "execution_count": 31,
   "metadata": {
    "ExecuteTime": {
     "end_time": "2019-12-03T11:44:07.376713Z",
     "start_time": "2019-12-03T11:44:07.356891Z"
    }
   },
   "outputs": [],
   "source": [
    "gpd.rename({\"index_right\":\"city_area\"}, axis=1, inplace=True)"
   ]
  },
  {
   "cell_type": "code",
   "execution_count": 32,
   "metadata": {
    "ExecuteTime": {
     "end_time": "2019-12-03T11:44:08.085522Z",
     "start_time": "2019-12-03T11:44:07.384956Z"
    }
   },
   "outputs": [
    {
     "data": {
      "image/png": "[encoded data removed]",
      "text/plain": [
       "<Figure size 432x432 with 1 Axes>"
      ]
     },
     "metadata": {
      "needs_background": "light"
     },
     "output_type": "display_data"
    }
   ],
   "source": [
    "plt.figure(figsize=(6,6))\n",
    "gpd.groupby(\"city_area\").size().plot(kind=\"hist\", range=(0, 1000), bins=10)\n",
    "plt.xlabel(\"Number of accidents per city area\");"
   ]
  },
  {
   "cell_type": "code",
   "execution_count": 33,
   "metadata": {
    "ExecuteTime": {
     "end_time": "2019-12-03T11:44:08.673017Z",
     "start_time": "2019-12-03T11:44:08.089098Z"
    }
   },
   "outputs": [
    {
     "data": {
      "image/png": "[encoded data removed]",
      "text/plain": [
       "<Figure size 432x432 with 1 Axes>"
      ]
     },
     "metadata": {
      "needs_background": "light"
     },
     "output_type": "display_data"
    }
   ],
   "source": [
    "plt.figure(figsize=(6,6))\n",
    "(1e6*gpd.groupby(\"city_area\").size()/london_areas.area).plot(kind=\"hist\", range=(0, 500), bins=10)\n",
    "plt.xlabel(\"Number of accidents per city area/per km2\");"
   ]
  },
  {
   "cell_type": "markdown",
   "metadata": {},
   "source": [
    "With this basic knowledge, you may dig deeper into the topic and explore relations with, for example, some demographic information (you'll need to search for it!) or other information."
   ]
  },
  {
   "cell_type": "code",
   "execution_count": null,
   "metadata": {},
   "outputs": [],
   "source": []
  }
 ],
 "metadata": {
  "@webio": {
   "lastCommId": null,
   "lastKernelId": null
  },
  "kernelspec": {
   "display_name": "Python 3",
   "language": "python",
   "name": "python3"
  },
  "language_info": {
   "codemirror_mode": {
    "name": "ipython",
    "version": 3
   },
   "file_extension": ".py",
   "mimetype": "text/x-python",
   "name": "python",
   "nbconvert_exporter": "python",
   "pygments_lexer": "ipython3",
   "version": "3.6.5"
  }
 },
 "nbformat": 4,
 "nbformat_minor": 2
}
