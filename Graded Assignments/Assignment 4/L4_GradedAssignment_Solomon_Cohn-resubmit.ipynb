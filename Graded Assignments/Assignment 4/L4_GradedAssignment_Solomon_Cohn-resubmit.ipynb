{
 "cells": [
  {
   "cell_type": "markdown",
   "metadata": {
    "papermill": {
     "duration": 0.030075,
     "end_time": "2019-12-19T00:13:26.834474",
     "exception": false,
     "start_time": "2019-12-19T00:13:26.804399",
     "status": "completed"
    },
    "tags": []
   },
   "source": [
    "# Notes\n",
    "\n",
    "This assignment is devoted to `pandas`. It covers indexing and filtering, and some `groupby` and `join` operations. The assignment roughly corresponds to Week 4 and the beginning of Week 5 of the course.\n",
    "\n",
    "The main dataset you'll be using is [Titanic](https://www.kaggle.com/c/titanic)."
   ]
  },
  {
   "cell_type": "code",
   "execution_count": 1,
   "metadata": {
    "ExecuteTime": {
     "end_time": "2019-12-19T14:26:22.168771Z",
     "start_time": "2019-12-19T14:26:21.250742Z"
    },
    "papermill": {
     "duration": 0.551865,
     "end_time": "2019-12-19T00:13:27.415473",
     "exception": false,
     "start_time": "2019-12-19T00:13:26.863608",
     "status": "completed"
    },
    "scrolled": true,
    "tags": []
   },
   "outputs": [
    {
     "name": "stdout",
     "output_type": "stream",
     "text": [
      "Populating the interactive namespace from numpy and matplotlib\n"
     ]
    }
   ],
   "source": [
    "%pylab inline\n",
    "plt.style.use(\"bmh\")"
   ]
  },
  {
   "cell_type": "code",
   "execution_count": 2,
   "metadata": {
    "ExecuteTime": {
     "end_time": "2019-12-19T14:26:22.214738Z",
     "start_time": "2019-12-19T14:26:22.207090Z"
    },
    "papermill": {
     "duration": 0.042185,
     "end_time": "2019-12-19T00:13:27.487023",
     "exception": false,
     "start_time": "2019-12-19T00:13:27.444838",
     "status": "completed"
    },
    "tags": []
   },
   "outputs": [],
   "source": [
    "plt.rcParams[\"figure.figsize\"] = (6,6)"
   ]
  },
  {
   "cell_type": "code",
   "execution_count": 3,
   "metadata": {
    "ExecuteTime": {
     "end_time": "2019-12-19T14:26:24.258111Z",
     "start_time": "2019-12-19T14:26:22.957328Z"
    },
    "papermill": {
     "duration": 0.328404,
     "end_time": "2019-12-19T00:13:27.841580",
     "exception": false,
     "start_time": "2019-12-19T00:13:27.513176",
     "status": "completed"
    },
    "scrolled": true,
    "tags": []
   },
   "outputs": [],
   "source": [
    "import numpy as np\n",
    "import pandas as pd"
   ]
  },
  {
   "cell_type": "code",
   "execution_count": 4,
   "metadata": {
    "ExecuteTime": {
     "end_time": "2019-12-19T14:26:28.211492Z",
     "start_time": "2019-12-19T14:26:28.202644Z"
    },
    "papermill": {
     "duration": 0.036323,
     "end_time": "2019-12-19T00:13:27.903045",
     "exception": false,
     "start_time": "2019-12-19T00:13:27.866722",
     "status": "completed"
    }
   },
   "outputs": [],
   "source": [
    "STUDENT = \"Shaul Solomon\"\n",
    "#Partnered with Adam Cohn\n",
    "ASSIGNMENT = 4\n",
    "TEST = False"
   ]
  },
  {
   "cell_type": "code",
   "execution_count": 6,
   "metadata": {
    "ExecuteTime": {
     "end_time": "2019-12-19T14:26:35.196267Z",
     "start_time": "2019-12-19T14:26:34.920111Z"
    },
    "papermill": {
     "duration": 0.065835,
     "end_time": "2019-12-19T00:13:28.068599",
     "exception": false,
     "start_time": "2019-12-19T00:13:28.002764",
     "status": "completed"
    },
    "tags": []
   },
   "outputs": [
    {
     "ename": "ModuleNotFoundError",
     "evalue": "No module named 'solutions'",
     "output_type": "error",
     "traceback": [
      "\u001b[0;31m---------------------------------------------------------------------------\u001b[0m",
      "\u001b[0;31mModuleNotFoundError\u001b[0m                       Traceback (most recent call last)",
      "\u001b[0;32m<ipython-input-6-80b4643679c9>\u001b[0m in \u001b[0;36m<module>\u001b[0;34m\u001b[0m\n\u001b[1;32m      1\u001b[0m \u001b[0;32mif\u001b[0m \u001b[0mTEST\u001b[0m\u001b[0;34m:\u001b[0m\u001b[0;34m\u001b[0m\u001b[0;34m\u001b[0m\u001b[0m\n\u001b[0;32m----> 2\u001b[0;31m     \u001b[0;32mimport\u001b[0m \u001b[0msolutions\u001b[0m\u001b[0;34m\u001b[0m\u001b[0;34m\u001b[0m\u001b[0m\n\u001b[0m\u001b[1;32m      3\u001b[0m     \u001b[0mtotal_grade\u001b[0m \u001b[0;34m=\u001b[0m \u001b[0;36m0\u001b[0m\u001b[0;34m\u001b[0m\u001b[0;34m\u001b[0m\u001b[0m\n\u001b[1;32m      4\u001b[0m     \u001b[0mMAX_POINTS\u001b[0m \u001b[0;34m=\u001b[0m \u001b[0;36m16\u001b[0m\u001b[0;34m\u001b[0m\u001b[0;34m\u001b[0m\u001b[0m\n",
      "\u001b[0;31mModuleNotFoundError\u001b[0m: No module named 'solutions'"
     ]
    }
   ],
   "source": [
    "if TEST:\n",
    "    import solutions\n",
    "    total_grade = 0\n",
    "    MAX_POINTS = 16"
   ]
  },
  {
   "cell_type": "markdown",
   "metadata": {
    "papermill": {
     "duration": 0.027196,
     "end_time": "2019-12-19T00:13:28.120504",
     "exception": false,
     "start_time": "2019-12-19T00:13:28.093308",
     "status": "completed"
    },
    "tags": []
   },
   "source": [
    "# Indexing and filtering"
   ]
  },
  {
   "cell_type": "markdown",
   "metadata": {
    "papermill": {
     "duration": 0.026873,
     "end_time": "2019-12-19T00:13:28.175853",
     "exception": false,
     "start_time": "2019-12-19T00:13:28.148980",
     "status": "completed"
    },
    "tags": []
   },
   "source": [
    "### 1. Fixing age (1 point).\n",
    "\n",
    "There are several known mistakes in the Titanic dataset.\n",
    "\n",
    "Namely, [Julia Florence Siegel](https://www.encyclopedia-titanica.org/titanic-survivor/julia-florence-cavendish.html) (Mrs. Tyrell William Cavendish) is mistakenly marked as being 76 years old (the age she actually died, but many years after Titanic).\n",
    "\n",
    "You must replace age value for her with her actual age at the time (25) and return the dataset. Input is indexed with `PassengerId` and is a concatenation of train and test sets. You must return a copy of the dataframe, and not perform replacement in original dataframe. Structure and indexing must be the same as in input."
   ]
  },
  {
   "cell_type": "code",
   "execution_count": 7,
   "metadata": {
    "ExecuteTime": {
     "end_time": "2019-12-19T14:27:04.154109Z",
     "start_time": "2019-12-19T14:27:04.148077Z"
    },
    "papermill": {
     "duration": 0.046919,
     "end_time": "2019-12-19T00:13:28.308467",
     "exception": false,
     "start_time": "2019-12-19T00:13:28.261548",
     "status": "completed"
    },
    "tags": []
   },
   "outputs": [],
   "source": [
    "#We know her Passenger ID is 988\n",
    "def fix_age(df):\n",
    "    updated_df = df.copy()\n",
    "    updated_df.loc[988,\"Age\"] = 25\n",
    "    return updated_df"
   ]
  },
  {
   "cell_type": "code",
   "execution_count": 8,
   "metadata": {
    "ExecuteTime": {
     "end_time": "2019-12-19T14:27:05.555035Z",
     "start_time": "2019-12-19T14:27:05.521302Z"
    },
    "papermill": {
     "duration": 0.056707,
     "end_time": "2019-12-19T00:13:28.394148",
     "exception": false,
     "start_time": "2019-12-19T00:13:28.337441",
     "status": "completed"
    },
    "tags": []
   },
   "outputs": [
    {
     "ename": "NameError",
     "evalue": "name 'total_grade' is not defined",
     "output_type": "error",
     "traceback": [
      "\u001b[0;31m---------------------------------------------------------------------------\u001b[0m",
      "\u001b[0;31mNameError\u001b[0m                                 Traceback (most recent call last)",
      "\u001b[0;32m<ipython-input-8-c826c4a76455>\u001b[0m in \u001b[0;36m<module>\u001b[0;34m\u001b[0m\n\u001b[1;32m      2\u001b[0m \u001b[0;34m\u001b[0m\u001b[0m\n\u001b[1;32m      3\u001b[0m \u001b[0;32mif\u001b[0m \u001b[0mTEST\u001b[0m\u001b[0;34m:\u001b[0m\u001b[0;34m\u001b[0m\u001b[0;34m\u001b[0m\u001b[0m\n\u001b[0;32m----> 4\u001b[0;31m     \u001b[0mtotal_grade\u001b[0m \u001b[0;34m+=\u001b[0m \u001b[0msolutions\u001b[0m\u001b[0;34m.\u001b[0m\u001b[0mcheck\u001b[0m\u001b[0;34m(\u001b[0m\u001b[0mSTUDENT\u001b[0m\u001b[0;34m,\u001b[0m \u001b[0mPROBLEM_ID\u001b[0m\u001b[0;34m,\u001b[0m \u001b[0mfix_age\u001b[0m\u001b[0;34m)\u001b[0m\u001b[0;34m\u001b[0m\u001b[0;34m\u001b[0m\u001b[0m\n\u001b[0m",
      "\u001b[0;31mNameError\u001b[0m: name 'total_grade' is not defined"
     ]
    }
   ],
   "source": [
    "PROBLEM_ID = 1\n",
    "\n",
    "if TEST:\n",
    "    total_grade += solutions.check(STUDENT, PROBLEM_ID, fix_age)"
   ]
  },
  {
   "cell_type": "markdown",
   "metadata": {
    "papermill": {
     "duration": 0.03639,
     "end_time": "2019-12-19T00:13:28.455533",
     "exception": false,
     "start_time": "2019-12-19T00:13:28.419143",
     "status": "completed"
    },
    "tags": []
   },
   "source": [
    "### 2. Embarkment port distribution (1 point).\n",
    "\n",
    "You must find the value counts for embarkment port (`Embarked` column) for the passengers, who travelled in 3-d class, were male and between 20 and 30 years old (both inclusive). No need to treat missing values separately.\n",
    "\n",
    "Input is indexed with `PassengerId` and is a concatenation of train and test sets. You must return series, indexed with values from `Embarked`, according to `.value_counts()` method semantics."
   ]
  },
  {
   "cell_type": "code",
   "execution_count": 9,
   "metadata": {
    "ExecuteTime": {
     "end_time": "2019-12-19T14:27:30.186124Z",
     "start_time": "2019-12-19T14:27:30.176711Z"
    },
    "papermill": {
     "duration": 0.050422,
     "end_time": "2019-12-19T00:13:28.544581",
     "exception": false,
     "start_time": "2019-12-19T00:13:28.494159",
     "status": "completed"
    },
    "tags": []
   },
   "outputs": [],
   "source": [
    "def embarked_stats(df):\n",
    "    \"\"\"Calculate embarkment port statistics.\"\"\"\n",
    "    #First filter out those who travelled in 3-d class, were male and between 20 and 30 years old \n",
    "    embarked = df.loc[(df.Age.between(20,30,inclusive=True)) & (df['Pclass'] == 3) & (df['Sex'] == 'male')].Embarked.value_counts()\n",
    "    return embarked\n",
    "\n",
    "# print(embarked_stats(df))\n",
    "    "
   ]
  },
  {
   "cell_type": "code",
   "execution_count": 10,
   "metadata": {
    "ExecuteTime": {
     "end_time": "2019-11-13T23:25:50.106449Z",
     "start_time": "2019-11-13T23:25:50.095086Z"
    },
    "papermill": {
     "duration": 0.071223,
     "end_time": "2019-12-19T00:13:28.641097",
     "exception": false,
     "start_time": "2019-12-19T00:13:28.569874",
     "status": "completed"
    },
    "tags": []
   },
   "outputs": [
    {
     "name": "stdout",
     "output_type": "stream",
     "text": [
      "\u001b[1m\u001b[32m[Shaul Solomon] [Problem 2] correct!\u001b[0m\n"
     ]
    }
   ],
   "source": [
    "PROBLEM_ID = 2\n",
    "\n",
    "if TEST:\n",
    "    total_grade += solutions.check(STUDENT, PROBLEM_ID, embarked_stats)"
   ]
  },
  {
   "cell_type": "markdown",
   "metadata": {
    "papermill": {
     "duration": 0.045881,
     "end_time": "2019-12-19T00:13:28.736911",
     "exception": false,
     "start_time": "2019-12-19T00:13:28.691030",
     "status": "completed"
    },
    "tags": []
   },
   "source": [
    "### 3. Fill missing age values (1 point).\n",
    "\n",
    "Some age values are missing in the Titanic dataset. You need to calculate average age, and fill missing age values in `Age` column.\n",
    "\n",
    "Input is indexed with `PassengerId` and is a concatenation of train and test sets. Output must be a **new** dataframe with the same structure, but without missing values in `Age` column."
   ]
  },
  {
   "cell_type": "code",
   "execution_count": 11,
   "metadata": {
    "ExecuteTime": {
     "end_time": "2019-11-25T08:26:56.688466Z",
     "start_time": "2019-11-25T08:26:56.684610Z"
    },
    "papermill": {
     "duration": 0.039312,
     "end_time": "2019-12-19T00:13:28.803915",
     "exception": false,
     "start_time": "2019-12-19T00:13:28.764603",
     "status": "completed"
    },
    "tags": []
   },
   "outputs": [],
   "source": [
    "def fix_age(df):\n",
    "    \"\"\"Fix missing age values.\"\"\"\n",
    "    mydf = df.copy()\n",
    "    mydf['Age'] = mydf.Age.fillna(mydf.Age.mean())\n",
    "    return mydf"
   ]
  },
  {
   "cell_type": "code",
   "execution_count": 12,
   "metadata": {
    "ExecuteTime": {
     "end_time": "2019-11-25T10:03:45.213116Z",
     "start_time": "2019-11-25T10:03:45.199909Z"
    },
    "papermill": {
     "duration": 0.057594,
     "end_time": "2019-12-19T00:13:28.888748",
     "exception": false,
     "start_time": "2019-12-19T00:13:28.831154",
     "status": "completed"
    },
    "tags": []
   },
   "outputs": [
    {
     "name": "stdout",
     "output_type": "stream",
     "text": [
      "\u001b[1m\u001b[32m[Shaul Solomon] [Problem 3] correct!\u001b[0m\n"
     ]
    }
   ],
   "source": [
    "PROBLEM_ID = 3\n",
    "\n",
    "if TEST:\n",
    "    total_grade += solutions.check(STUDENT, PROBLEM_ID, fix_age)"
   ]
  },
  {
   "cell_type": "markdown",
   "metadata": {
    "papermill": {
     "duration": 0.028229,
     "end_time": "2019-12-19T00:13:28.944195",
     "exception": false,
     "start_time": "2019-12-19T00:13:28.915966",
     "status": "completed"
    },
    "tags": []
   },
   "source": [
    "### 4. Child travelling alone (1 point).\n",
    "\n",
    "You must find a child (`Age<10`) on-board, who was travelling without siblings or parents and find a name of her nursemaid.\n",
    "\n",
    "Input is indexed with `PassengerId` and is a concatenation of train and test sets. Output must be a tuple of two strings, collected from `Name` column, with one being child's name and second being nursemaid's name. It's known, that there's only one child like this."
   ]
  },
  {
   "cell_type": "code",
   "execution_count": 13,
   "metadata": {
    "ExecuteTime": {
     "end_time": "2019-11-13T23:15:11.348224Z",
     "start_time": "2019-11-13T23:15:11.334569Z"
    },
    "papermill": {
     "duration": 0.040621,
     "end_time": "2019-12-19T00:13:29.015098",
     "exception": false,
     "start_time": "2019-12-19T00:13:28.974477",
     "status": "completed"
    },
    "tags": []
   },
   "outputs": [],
   "source": [
    "def get_nursemaid(df):\n",
    "    child =  df[(df[\"Age\"] < 10) & (df[\"SibSp\"] == 0) & (df[\"Parch\"] == 0)][\"Ticket\"]\n",
    "    names = df.loc[(df[\"Ticket\"] == child.iloc[0])].sort_values(by='Age', ascending=True)['Name']\n",
    "    return tuple(names)\n",
    "\n",
    "# print(get_nursemaid(df))"
   ]
  },
  {
   "cell_type": "code",
   "execution_count": 14,
   "metadata": {
    "ExecuteTime": {
     "end_time": "2019-11-13T23:25:50.106449Z",
     "start_time": "2019-11-13T23:25:50.095086Z"
    },
    "papermill": {
     "duration": 0.058043,
     "end_time": "2019-12-19T00:13:29.099159",
     "exception": false,
     "start_time": "2019-12-19T00:13:29.041116",
     "status": "completed"
    },
    "tags": []
   },
   "outputs": [
    {
     "name": "stdout",
     "output_type": "stream",
     "text": [
      "\u001b[1m\u001b[31m[Shaul Solomon] [Problem 4] incorrect: \u001b[0m\n",
      "correct = ('Emanuel, Miss. Virginia Ethel', 'Dowdell, Miss. Elizabeth')\n",
      "submitted = ('Dowdell, Miss. Elizabeth', 'Emanuel, Miss. Virginia Ethel')\n",
      "\n"
     ]
    }
   ],
   "source": [
    "PROBLEM_ID = 4\n",
    "\n",
    "if TEST:\n",
    "    total_grade += solutions.check(STUDENT, PROBLEM_ID, get_nursemaid)"
   ]
  },
  {
   "cell_type": "markdown",
   "metadata": {
    "papermill": {
     "duration": 0.028531,
     "end_time": "2019-12-19T00:13:29.154471",
     "exception": false,
     "start_time": "2019-12-19T00:13:29.125940",
     "status": "completed"
    },
    "tags": []
   },
   "source": [
    "### 5. Port with the most children embarked (1 point).\n",
    "\n",
    "You must find, which port had the largest percentage of children (`Age<10`) embarked, i.e. number of children divided by total number of passengers embarked.\n",
    "\n",
    "Input is indexed with `PassengerId` and is a concatenation of train and test sets. Output must be a single string with port letter."
   ]
  },
  {
   "cell_type": "code",
   "execution_count": 15,
   "metadata": {
    "papermill": {
     "duration": 0.038773,
     "end_time": "2019-12-19T00:13:29.222513",
     "exception": false,
     "start_time": "2019-12-19T00:13:29.183740",
     "status": "completed"
    },
    "tags": []
   },
   "outputs": [],
   "source": [
    "def get_port(df):\n",
    "    return (df[df[\"Age\"]<10].groupby(\"Embarked\").size()/df.groupby(\"Embarked\").size()).idxmax()"
   ]
  },
  {
   "cell_type": "code",
   "execution_count": 16,
   "metadata": {
    "ExecuteTime": {
     "end_time": "2019-11-25T08:27:11.838257Z",
     "start_time": "2019-11-25T08:27:11.720830Z"
    },
    "papermill": {
     "duration": 0.056067,
     "end_time": "2019-12-19T00:13:29.307404",
     "exception": false,
     "start_time": "2019-12-19T00:13:29.251337",
     "status": "completed"
    },
    "tags": []
   },
   "outputs": [
    {
     "name": "stdout",
     "output_type": "stream",
     "text": [
      "\u001b[1m\u001b[32m[Shaul Solomon] [Problem 5] correct!\u001b[0m\n"
     ]
    }
   ],
   "source": [
    "PROBLEM_ID = 5\n",
    "\n",
    "if TEST:\n",
    "    total_grade += solutions.check(STUDENT, PROBLEM_ID, get_port)"
   ]
  },
  {
   "cell_type": "markdown",
   "metadata": {
    "papermill": {
     "duration": 0.039132,
     "end_time": "2019-12-19T00:13:29.379111",
     "exception": false,
     "start_time": "2019-12-19T00:13:29.339979",
     "status": "completed"
    },
    "tags": []
   },
   "source": [
    "### 6. Passengers per ticket (2 points).\n",
    "\n",
    "Calculate average and maximum number of passengers per ticket.\n",
    "\n",
    "Input is indexed with `PassengerId` and is a concatenation of train and test sets. Output must be a tuple of two values."
   ]
  },
  {
   "cell_type": "code",
   "execution_count": 17,
   "metadata": {
    "ExecuteTime": {
     "end_time": "2019-11-25T08:26:56.688466Z",
     "start_time": "2019-11-25T08:26:56.684610Z"
    },
    "papermill": {
     "duration": 0.046124,
     "end_time": "2019-12-19T00:13:29.465150",
     "exception": false,
     "start_time": "2019-12-19T00:13:29.419026",
     "status": "completed"
    },
    "tags": []
   },
   "outputs": [],
   "source": [
    "def get_ticket_stats(df):\n",
    "    return tuple(df.groupby('Ticket').size().aggregate(['mean','max']))"
   ]
  },
  {
   "cell_type": "code",
   "execution_count": 18,
   "metadata": {
    "ExecuteTime": {
     "end_time": "2019-11-25T08:27:11.838257Z",
     "start_time": "2019-11-25T08:27:11.720830Z"
    },
    "papermill": {
     "duration": 0.049342,
     "end_time": "2019-12-19T00:13:29.553433",
     "exception": false,
     "start_time": "2019-12-19T00:13:29.504091",
     "status": "completed"
    },
    "tags": []
   },
   "outputs": [
    {
     "name": "stdout",
     "output_type": "stream",
     "text": [
      "\u001b[1m\u001b[32m[Shaul Solomon] [Problem 6] correct!\u001b[0m\n"
     ]
    }
   ],
   "source": [
    "PROBLEM_ID = 6\n",
    "\n",
    "if TEST:\n",
    "    total_grade += solutions.check(STUDENT, PROBLEM_ID, get_ticket_stats)"
   ]
  },
  {
   "cell_type": "markdown",
   "metadata": {
    "papermill": {
     "duration": 0.033358,
     "end_time": "2019-12-19T00:13:29.618798",
     "exception": false,
     "start_time": "2019-12-19T00:13:29.585440",
     "status": "completed"
    },
    "tags": []
   },
   "source": [
    "### 7. Fare per passenger (3 points).\n",
    "\n",
    "For each individual ticket, you must calculate fare per person for that ticket, and then calculate averages for each class. Note, that you will need to apply `groupby` and then you may consider using `.first()` of resulting `DataFrameGroupBy`.\n",
    "\n",
    "Input is indexed with `PassengerId` and is a concatenation of train and test sets. Output must be `Series` with three elements, indexed by class."
   ]
  },
  {
   "cell_type": "code",
   "execution_count": 19,
   "metadata": {
    "ExecuteTime": {
     "end_time": "2019-11-25T08:26:56.688466Z",
     "start_time": "2019-11-25T08:26:56.684610Z"
    },
    "papermill": {
     "duration": 0.043619,
     "end_time": "2019-12-19T00:13:29.696855",
     "exception": false,
     "start_time": "2019-12-19T00:13:29.653236",
     "status": "completed"
    },
    "tags": []
   },
   "outputs": [],
   "source": [
    "def get_fare_per_pass(df):\n",
    "    \"\"\"Calculate fare per passenger for different classes.\"\"\"\n",
    "    ### If we are trying to get the average cost of the tickets per person per class\n",
    "    \n",
    "    #ticketgroup = df.groupby(['Ticket','Pclass'])\n",
    "    #avg_prices = ticketgroup.first()['Fare'] / ticketgroup.size()\n",
    "    #return avg_prices.groupby('Pclass').mean()\n",
    "    \n",
    "    ### If we are trying to get the average cost of the fare per person per class\n",
    "    df2 = df.copy()\n",
    "    df2['fare_pp'] = df2['Fare'] / df2.groupby('Ticket').Ticket.transform('count')\n",
    "    return df2.groupby('Pclass')['fare_pp'].mean()\n",
    "\n",
    "    \n",
    "\n",
    "# get_fare_per_pass(df)"
   ]
  },
  {
   "cell_type": "code",
   "execution_count": 20,
   "metadata": {
    "ExecuteTime": {
     "end_time": "2019-11-25T08:27:11.838257Z",
     "start_time": "2019-11-25T08:27:11.720830Z"
    },
    "papermill": {
     "duration": 0.085762,
     "end_time": "2019-12-19T00:13:29.812497",
     "exception": false,
     "start_time": "2019-12-19T00:13:29.726735",
     "status": "completed"
    },
    "tags": []
   },
   "outputs": [
    {
     "name": "stdout",
     "output_type": "stream",
     "text": [
      "\u001b[1m\u001b[32m[Shaul Solomon] [Problem 7] correct!\u001b[0m\n"
     ]
    }
   ],
   "source": [
    "PROBLEM_ID = 7\n",
    "\n",
    "if TEST:\n",
    "    total_grade += solutions.check(STUDENT, PROBLEM_ID, get_fare_per_pass)"
   ]
  },
  {
   "cell_type": "markdown",
   "metadata": {
    "papermill": {
     "duration": 0.032471,
     "end_time": "2019-12-19T00:13:29.876283",
     "exception": false,
     "start_time": "2019-12-19T00:13:29.843812",
     "status": "completed"
    },
    "tags": []
   },
   "source": [
    "### 8. Fill missing age values (3 points).\n",
    "\n",
    "In problem 3 you filled missing age values with average for all passengers. Now, you need to fill them according to class and sex. For example, for a female passenger from 2d class, missing age value must be filled with average age of females in 2d class.\n",
    "\n",
    "In this problem, you may need joins and `.apply()`, although there are several ways to get the same result.\n",
    "\n",
    "Input is indexed with `PassengerId` and is a concatenation of train and test sets. Output must be a **new** dataframe with the same structure as input, but without missing values in `Age` column."
   ]
  },
  {
   "cell_type": "code",
   "execution_count": 10,
   "metadata": {
    "ExecuteTime": {
     "end_time": "2019-12-19T16:42:52.981244Z",
     "start_time": "2019-12-19T16:42:52.967726Z"
    },
    "papermill": {
     "duration": 0.044308,
     "end_time": "2019-12-19T00:13:29.953493",
     "exception": false,
     "start_time": "2019-12-19T00:13:29.909185",
     "status": "completed"
    },
    "tags": []
   },
   "outputs": [],
   "source": [
    "def fix_age_groupped(df):\n",
    "    \"\"\"Fill missing age values.\"\"\"\n",
    "    data = df.copy()\n",
    "    meanAge = data.groupby(['Pclass','Sex'])['Age'].mean()\n",
    "    data = data.reset_index().set_index(['Pclass','Sex'])\n",
    "    data['Age'] = data['Age'].fillna(meanAge)\n",
    "    data = data.reset_index()\n",
    "    data.index = df.index\n",
    "    return data[df.columns]"
   ]
  },
  {
   "cell_type": "code",
   "execution_count": 22,
   "metadata": {
    "ExecuteTime": {
     "end_time": "2019-11-25T08:27:11.838257Z",
     "start_time": "2019-11-25T08:27:11.720830Z"
    },
    "papermill": {
     "duration": 0.071894,
     "end_time": "2019-12-19T00:13:30.057590",
     "exception": false,
     "start_time": "2019-12-19T00:13:29.985696",
     "status": "completed"
    },
    "tags": []
   },
   "outputs": [
    {
     "name": "stdout",
     "output_type": "stream",
     "text": [
      "\u001b[1m\u001b[33m[Shaul Solomon] [Problem 8] failed: \u001b[0m\n",
      "exception is \"None of ['PassengerId'] are in the columns\"\n",
      "\n"
     ]
    }
   ],
   "source": [
    "PROBLEM_ID = 8\n",
    "\n",
    "if TEST:\n",
    "    total_grade += solutions.check(STUDENT, PROBLEM_ID, fix_age_groupped)"
   ]
  },
  {
   "cell_type": "markdown",
   "metadata": {
    "papermill": {
     "duration": 0.032643,
     "end_time": "2019-12-19T00:13:30.120650",
     "exception": false,
     "start_time": "2019-12-19T00:13:30.088007",
     "status": "completed"
    },
    "tags": []
   },
   "source": [
    "### 9. Finding couples (3 points).\n",
    "\n",
    "Based on the code from Lecture 5, build a dataframe of couples. Filter it by survival status: select those couples, in which only one of spouses survived or none of two. Built survival statistics by class, i.e. ratio of couples with partial survival divided by total number of couples in class.\n",
    "\n",
    "Input is indexed with `PassengerId` and is a concatenation of train and test sets. Output must be `Series` with three elements indexed by values from `Pclass` column."
   ]
  },
  {
   "cell_type": "code",
   "execution_count": 23,
   "metadata": {
    "ExecuteTime": {
     "end_time": "2019-11-25T08:26:56.688466Z",
     "start_time": "2019-11-25T08:26:56.684610Z"
    },
    "papermill": {
     "duration": 0.048295,
     "end_time": "2019-12-19T00:13:30.201598",
     "exception": false,
     "start_time": "2019-12-19T00:13:30.153303",
     "status": "completed"
    },
    "tags": []
   },
   "outputs": [],
   "source": [
    "def find_couples(df):\n",
    "    family_names = (df\n",
    "                .replace(re.compile(r'\\s+\\(.*\\)'), '')\n",
    "                .replace(re.compile(\"Mrs.\"), \"Mr.\"))[[\"Name\", \"Sex\",\"Survived\",\"Pclass\"]]\n",
    "    womens_names = family_names[(family_names.Sex==\"female\") & family_names.Name.str.contains(\"Mr.\")]\n",
    "    mens_names = family_names[(family_names.Sex==\"male\") & family_names.Name.str.contains(\"Mr.\")]\n",
    "    family = pd.merge(mens_names,womens_names, how=\"inner\", left_on=\"Name\", right_on=\"Name\", suffixes=(\"\",\"_f\"))[[\"Pclass\",\"Survived\",\"Survived_f\"]]\n",
    "    family.dropna(inplace=True)\n",
    "    return family[(family['Survived'] != 1.0) | (family['Survived_f'] != 1.0)].groupby(\"Pclass\").size() / family.groupby(\"Pclass\").size()"
   ]
  },
  {
   "cell_type": "code",
   "execution_count": 24,
   "metadata": {
    "ExecuteTime": {
     "end_time": "2019-11-25T08:27:11.838257Z",
     "start_time": "2019-11-25T08:27:11.720830Z"
    },
    "papermill": {
     "duration": 0.287551,
     "end_time": "2019-12-19T00:13:30.519235",
     "exception": false,
     "start_time": "2019-12-19T00:13:30.231684",
     "status": "completed"
    },
    "tags": []
   },
   "outputs": [
    {
     "name": "stdout",
     "output_type": "stream",
     "text": [
      "\u001b[1m\u001b[32m[Shaul Solomon] [Problem 9] correct!\u001b[0m\n"
     ]
    }
   ],
   "source": [
    "PROBLEM_ID = 8\n",
    "\n",
    "if TEST:\n",
    "    total_grade += solutions.check(STUDENT, PROBLEM_ID, find_couples)"
   ]
  },
  {
   "cell_type": "code",
   "execution_count": 25,
   "metadata": {
    "papermill": {
     "duration": 0.054188,
     "end_time": "2019-12-19T00:13:30.603655",
     "exception": false,
     "start_time": "2019-12-19T00:13:30.549467",
     "status": "completed"
    },
    "tags": []
   },
   "outputs": [
    {
     "name": "stdout",
     "output_type": "stream",
     "text": [
      "Shaul Solomon: 75\n"
     ]
    }
   ],
   "source": [
    "if TEST:\n",
    "    print(f\"{STUDENT}: {int(100 * total_grade / MAX_POINTS)}\")"
   ]
  }
 ],
 "metadata": {
  "@webio": {
   "lastCommId": null,
   "lastKernelId": null
  },
  "celltoolbar": "Tags",
  "kernelspec": {
   "display_name": "Python 3",
   "language": "python",
   "name": "python3"
  },
  "language_info": {
   "codemirror_mode": {
    "name": "ipython",
    "version": 3
   },
   "file_extension": ".py",
   "mimetype": "text/x-python",
   "name": "python",
   "nbconvert_exporter": "python",
   "pygments_lexer": "ipython3",
   "version": "3.7.5"
  },
  "papermill": {
   "duration": 7.762142,
   "end_time": "2019-12-19T00:13:31.476787",
   "environment_variables": {},
   "exception": null,
   "input_path": "L4_GradedAssignment_Solomon_Cohn.ipynb",
   "output_path": "L4_GradedAssignment_Solomon_Cohn-run.ipynb",
   "parameters": {
    "TEST": true
   },
   "start_time": "2019-12-19T00:13:23.714645",
   "version": "1.1.0"
  },
  "varInspector": {
   "cols": {
    "lenName": 16,
    "lenType": 16,
    "lenVar": 40
   },
   "kernels_config": {
    "python": {
     "delete_cmd_postfix": "",
     "delete_cmd_prefix": "del ",
     "library": "var_list.py",
     "varRefreshCmd": "print(var_dic_list())"
    },
    "r": {
     "delete_cmd_postfix": ") ",
     "delete_cmd_prefix": "rm(",
     "library": "var_list.r",
     "varRefreshCmd": "cat(var_dic_list()) "
    }
   },
   "types_to_exclude": [
    "module",
    "function",
    "builtin_function_or_method",
    "instance",
    "_Feature"
   ],
   "window_display": false
  }
 },
 "nbformat": 4,
 "nbformat_minor": 2
}
