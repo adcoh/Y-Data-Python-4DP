{
 "cells": [
  {
   "cell_type": "code",
   "execution_count": 1,
   "metadata": {
    "ExecuteTime": {
     "end_time": "2019-12-18T10:03:26.533090Z",
     "start_time": "2019-12-18T10:03:24.576641Z"
    }
   },
   "outputs": [],
   "source": [
    "import pandas as pd\n",
    "import numpy as np\n",
    "import matplotlib.pyplot as plt"
   ]
  },
  {
   "cell_type": "code",
   "execution_count": 2,
   "metadata": {
    "ExecuteTime": {
     "end_time": "2019-12-18T10:03:27.916788Z",
     "start_time": "2019-12-18T10:03:26.586626Z"
    }
   },
   "outputs": [],
   "source": [
    "data = pd.read_csv('ukTrafficAADF.csv')"
   ]
  },
  {
   "cell_type": "code",
   "execution_count": 3,
   "metadata": {
    "ExecuteTime": {
     "end_time": "2019-12-18T10:03:33.808190Z",
     "start_time": "2019-12-18T10:03:28.260405Z"
    }
   },
   "outputs": [],
   "source": [
    "income = pd.read_excel('vcregionalgdhibylareordered.xlsx', sheet_name='GDHI per head', \n",
    "                       skiprows = [0,1,], nrows=391)\n",
    "income.drop('LAU1 code', axis=1, inplace=True)\n",
    "population = pd.read_excel('vcregionalgdhibylareordered.xlsx', sheet_name='Population',\n",
    "                          skiprows = [0,1,])\n",
    "population.drop('LAU1 code', axis=1, inplace=True)"
   ]
  },
  {
   "cell_type": "code",
   "execution_count": 4,
   "metadata": {
    "ExecuteTime": {
     "end_time": "2019-12-18T10:03:34.040888Z",
     "start_time": "2019-12-18T10:03:34.005978Z"
    }
   },
   "outputs": [
    {
     "data": {
      "text/html": [
       "<div>\n",
       "<style scoped>\n",
       "    .dataframe tbody tr th:only-of-type {\n",
       "        vertical-align: middle;\n",
       "    }\n",
       "\n",
       "    .dataframe tbody tr th {\n",
       "        vertical-align: top;\n",
       "    }\n",
       "\n",
       "    .dataframe thead th {\n",
       "        text-align: right;\n",
       "    }\n",
       "</style>\n",
       "<table border=\"1\" class=\"dataframe\">\n",
       "  <thead>\n",
       "    <tr style=\"text-align: right;\">\n",
       "      <th></th>\n",
       "      <th>Region</th>\n",
       "      <th>LA name</th>\n",
       "      <th>1997</th>\n",
       "      <th>1998</th>\n",
       "      <th>1999</th>\n",
       "      <th>2000</th>\n",
       "      <th>2001</th>\n",
       "      <th>2002</th>\n",
       "      <th>2003</th>\n",
       "      <th>2004</th>\n",
       "      <th>...</th>\n",
       "      <th>2007</th>\n",
       "      <th>2008</th>\n",
       "      <th>2009</th>\n",
       "      <th>2010</th>\n",
       "      <th>2011</th>\n",
       "      <th>2012</th>\n",
       "      <th>2013</th>\n",
       "      <th>2014</th>\n",
       "      <th>2015</th>\n",
       "      <th>2016</th>\n",
       "    </tr>\n",
       "  </thead>\n",
       "  <tbody>\n",
       "    <tr>\n",
       "      <th>0</th>\n",
       "      <td>North East</td>\n",
       "      <td>County Durham</td>\n",
       "      <td>498533</td>\n",
       "      <td>496945</td>\n",
       "      <td>496096</td>\n",
       "      <td>495138</td>\n",
       "      <td>493678</td>\n",
       "      <td>493538</td>\n",
       "      <td>493931</td>\n",
       "      <td>495147</td>\n",
       "      <td>...</td>\n",
       "      <td>502960</td>\n",
       "      <td>505617</td>\n",
       "      <td>507311</td>\n",
       "      <td>510628</td>\n",
       "      <td>512994</td>\n",
       "      <td>514261</td>\n",
       "      <td>515923</td>\n",
       "      <td>517573</td>\n",
       "      <td>519347</td>\n",
       "      <td>521776</td>\n",
       "    </tr>\n",
       "    <tr>\n",
       "      <th>1</th>\n",
       "      <td>North East</td>\n",
       "      <td>Darlington</td>\n",
       "      <td>99171</td>\n",
       "      <td>99273</td>\n",
       "      <td>98172</td>\n",
       "      <td>98088</td>\n",
       "      <td>97894</td>\n",
       "      <td>98474</td>\n",
       "      <td>98911</td>\n",
       "      <td>99343</td>\n",
       "      <td>...</td>\n",
       "      <td>102632</td>\n",
       "      <td>103694</td>\n",
       "      <td>104355</td>\n",
       "      <td>105028</td>\n",
       "      <td>105584</td>\n",
       "      <td>105503</td>\n",
       "      <td>105726</td>\n",
       "      <td>105877</td>\n",
       "      <td>105998</td>\n",
       "      <td>106327</td>\n",
       "    </tr>\n",
       "    <tr>\n",
       "      <th>2</th>\n",
       "      <td>North East</td>\n",
       "      <td>Hartlepool</td>\n",
       "      <td>89921</td>\n",
       "      <td>89753</td>\n",
       "      <td>89680</td>\n",
       "      <td>89811</td>\n",
       "      <td>90152</td>\n",
       "      <td>89993</td>\n",
       "      <td>90134</td>\n",
       "      <td>90317</td>\n",
       "      <td>...</td>\n",
       "      <td>90969</td>\n",
       "      <td>91379</td>\n",
       "      <td>91530</td>\n",
       "      <td>91773</td>\n",
       "      <td>92088</td>\n",
       "      <td>92261</td>\n",
       "      <td>92662</td>\n",
       "      <td>92606</td>\n",
       "      <td>92498</td>\n",
       "      <td>92845</td>\n",
       "    </tr>\n",
       "    <tr>\n",
       "      <th>3</th>\n",
       "      <td>North East</td>\n",
       "      <td>Middlesbrough</td>\n",
       "      <td>144497</td>\n",
       "      <td>144031</td>\n",
       "      <td>143023</td>\n",
       "      <td>142251</td>\n",
       "      <td>141233</td>\n",
       "      <td>140090</td>\n",
       "      <td>139050</td>\n",
       "      <td>138451</td>\n",
       "      <td>...</td>\n",
       "      <td>138190</td>\n",
       "      <td>137885</td>\n",
       "      <td>137273</td>\n",
       "      <td>137667</td>\n",
       "      <td>138368</td>\n",
       "      <td>138726</td>\n",
       "      <td>138911</td>\n",
       "      <td>138991</td>\n",
       "      <td>139310</td>\n",
       "      <td>140326</td>\n",
       "    </tr>\n",
       "    <tr>\n",
       "      <th>4</th>\n",
       "      <td>North East</td>\n",
       "      <td>Northumberland</td>\n",
       "      <td>306756</td>\n",
       "      <td>307241</td>\n",
       "      <td>307490</td>\n",
       "      <td>307348</td>\n",
       "      <td>307363</td>\n",
       "      <td>308499</td>\n",
       "      <td>309448</td>\n",
       "      <td>310140</td>\n",
       "      <td>...</td>\n",
       "      <td>312960</td>\n",
       "      <td>314057</td>\n",
       "      <td>314489</td>\n",
       "      <td>315463</td>\n",
       "      <td>316278</td>\n",
       "      <td>316489</td>\n",
       "      <td>316389</td>\n",
       "      <td>316832</td>\n",
       "      <td>316453</td>\n",
       "      <td>317444</td>\n",
       "    </tr>\n",
       "  </tbody>\n",
       "</table>\n",
       "<p>5 rows × 22 columns</p>\n",
       "</div>"
      ],
      "text/plain": [
       "       Region         LA name    1997    1998    1999    2000    2001    2002  \\\n",
       "0  North East   County Durham  498533  496945  496096  495138  493678  493538   \n",
       "1  North East      Darlington   99171   99273   98172   98088   97894   98474   \n",
       "2  North East      Hartlepool   89921   89753   89680   89811   90152   89993   \n",
       "3  North East   Middlesbrough  144497  144031  143023  142251  141233  140090   \n",
       "4  North East  Northumberland  306756  307241  307490  307348  307363  308499   \n",
       "\n",
       "     2003    2004  ...    2007    2008    2009    2010    2011    2012  \\\n",
       "0  493931  495147  ...  502960  505617  507311  510628  512994  514261   \n",
       "1   98911   99343  ...  102632  103694  104355  105028  105584  105503   \n",
       "2   90134   90317  ...   90969   91379   91530   91773   92088   92261   \n",
       "3  139050  138451  ...  138190  137885  137273  137667  138368  138726   \n",
       "4  309448  310140  ...  312960  314057  314489  315463  316278  316489   \n",
       "\n",
       "     2013    2014    2015    2016  \n",
       "0  515923  517573  519347  521776  \n",
       "1  105726  105877  105998  106327  \n",
       "2   92662   92606   92498   92845  \n",
       "3  138911  138991  139310  140326  \n",
       "4  316389  316832  316453  317444  \n",
       "\n",
       "[5 rows x 22 columns]"
      ]
     },
     "execution_count": 4,
     "metadata": {},
     "output_type": "execute_result"
    }
   ],
   "source": [
    "population.head()"
   ]
  },
  {
   "cell_type": "code",
   "execution_count": 5,
   "metadata": {
    "ExecuteTime": {
     "end_time": "2019-12-18T10:03:34.295194Z",
     "start_time": "2019-12-18T10:03:34.273905Z"
    }
   },
   "outputs": [],
   "source": [
    "income_piv = income.melt(id_vars=['Region', 'LA name'], var_name='Year', value_name='Gross Disposable Household Income')\n",
    "pop_piv = population.melt(id_vars=['Region', 'LA name'], var_name='Year', value_name='Population')"
   ]
  },
  {
   "cell_type": "code",
   "execution_count": 14,
   "metadata": {
    "ExecuteTime": {
     "end_time": "2019-12-18T10:03:34.606616Z",
     "start_time": "2019-12-18T10:03:34.525731Z"
    }
   },
   "outputs": [],
   "source": [
    "cols = ['Region', 'LA name']\n",
    "\n",
    "income_piv[cols] = income_piv[cols].apply(lambda x: x.str.lower(), axis=0)\n",
    "pop_piv[cols] = pop_piv[cols].apply(lambda x: x.str.lower(), axis=0)\n",
    "data2 = pd.concat([income_piv.set_index(income_piv.columns[:3].tolist()),\n",
    "                   pop_piv.set_index(pop_piv.columns[:3].tolist())], axis=1).reset_index()\n",
    "data2.columns = ['Region', 'LocalAuthority', 'AADFYear', 'Gross Disposable Household Income', 'Population']"
   ]
  },
  {
   "cell_type": "code",
   "execution_count": 15,
   "metadata": {
    "ExecuteTime": {
     "end_time": "2019-12-18T10:03:34.887240Z",
     "start_time": "2019-12-18T10:03:34.871751Z"
    }
   },
   "outputs": [
    {
     "data": {
      "text/html": [
       "<div>\n",
       "<style scoped>\n",
       "    .dataframe tbody tr th:only-of-type {\n",
       "        vertical-align: middle;\n",
       "    }\n",
       "\n",
       "    .dataframe tbody tr th {\n",
       "        vertical-align: top;\n",
       "    }\n",
       "\n",
       "    .dataframe thead th {\n",
       "        text-align: right;\n",
       "    }\n",
       "</style>\n",
       "<table border=\"1\" class=\"dataframe\">\n",
       "  <thead>\n",
       "    <tr style=\"text-align: right;\">\n",
       "      <th></th>\n",
       "      <th>Region</th>\n",
       "      <th>LocalAuthority</th>\n",
       "      <th>AADFYear</th>\n",
       "      <th>Gross Disposable Household Income</th>\n",
       "      <th>Population</th>\n",
       "    </tr>\n",
       "  </thead>\n",
       "  <tbody>\n",
       "    <tr>\n",
       "      <th>0</th>\n",
       "      <td>north east</td>\n",
       "      <td>county durham</td>\n",
       "      <td>1997</td>\n",
       "      <td>9238</td>\n",
       "      <td>498533</td>\n",
       "    </tr>\n",
       "    <tr>\n",
       "      <th>1</th>\n",
       "      <td>north east</td>\n",
       "      <td>darlington</td>\n",
       "      <td>1997</td>\n",
       "      <td>9637</td>\n",
       "      <td>99171</td>\n",
       "    </tr>\n",
       "    <tr>\n",
       "      <th>2</th>\n",
       "      <td>north east</td>\n",
       "      <td>hartlepool</td>\n",
       "      <td>1997</td>\n",
       "      <td>8963</td>\n",
       "      <td>89921</td>\n",
       "    </tr>\n",
       "    <tr>\n",
       "      <th>3</th>\n",
       "      <td>north east</td>\n",
       "      <td>middlesbrough</td>\n",
       "      <td>1997</td>\n",
       "      <td>8909</td>\n",
       "      <td>144497</td>\n",
       "    </tr>\n",
       "    <tr>\n",
       "      <th>4</th>\n",
       "      <td>north east</td>\n",
       "      <td>northumberland</td>\n",
       "      <td>1997</td>\n",
       "      <td>10301</td>\n",
       "      <td>306756</td>\n",
       "    </tr>\n",
       "  </tbody>\n",
       "</table>\n",
       "</div>"
      ],
      "text/plain": [
       "       Region  LocalAuthority  AADFYear  Gross Disposable Household Income  \\\n",
       "0  north east   county durham      1997                               9238   \n",
       "1  north east      darlington      1997                               9637   \n",
       "2  north east      hartlepool      1997                               8963   \n",
       "3  north east   middlesbrough      1997                               8909   \n",
       "4  north east  northumberland      1997                              10301   \n",
       "\n",
       "   Population  \n",
       "0      498533  \n",
       "1       99171  \n",
       "2       89921  \n",
       "3      144497  \n",
       "4      306756  "
      ]
     },
     "execution_count": 15,
     "metadata": {},
     "output_type": "execute_result"
    }
   ],
   "source": [
    "data2.head()"
   ]
  },
  {
   "cell_type": "code",
   "execution_count": 8,
   "metadata": {
    "ExecuteTime": {
     "end_time": "2019-12-18T10:03:35.402229Z",
     "start_time": "2019-12-18T10:03:35.167946Z"
    }
   },
   "outputs": [],
   "source": [
    "cols = ['Region', 'LocalAuthority']\n",
    "for col in cols:\n",
    "    data[col] = data[col].str.lower()"
   ]
  },
  {
   "cell_type": "code",
   "execution_count": 9,
   "metadata": {
    "ExecuteTime": {
     "end_time": "2019-12-18T10:03:36.054929Z",
     "start_time": "2019-12-18T10:03:35.689174Z"
    }
   },
   "outputs": [],
   "source": [
    "df = data.merge(data2, how='left', on=['Region', 'LocalAuthority', 'AADFYear'])"
   ]
  },
  {
   "cell_type": "code",
   "execution_count": 10,
   "metadata": {
    "ExecuteTime": {
     "end_time": "2019-12-18T10:03:36.621728Z",
     "start_time": "2019-12-18T10:03:36.587273Z"
    }
   },
   "outputs": [
    {
     "data": {
      "text/html": [
       "<div>\n",
       "<style scoped>\n",
       "    .dataframe tbody tr th:only-of-type {\n",
       "        vertical-align: middle;\n",
       "    }\n",
       "\n",
       "    .dataframe tbody tr th {\n",
       "        vertical-align: top;\n",
       "    }\n",
       "\n",
       "    .dataframe thead th {\n",
       "        text-align: right;\n",
       "    }\n",
       "</style>\n",
       "<table border=\"1\" class=\"dataframe\">\n",
       "  <thead>\n",
       "    <tr style=\"text-align: right;\">\n",
       "      <th></th>\n",
       "      <th>AADFYear</th>\n",
       "      <th>CP</th>\n",
       "      <th>Estimation_method</th>\n",
       "      <th>Estimation_method_detailed</th>\n",
       "      <th>Region</th>\n",
       "      <th>LocalAuthority</th>\n",
       "      <th>Road</th>\n",
       "      <th>RoadCategory</th>\n",
       "      <th>Easting</th>\n",
       "      <th>Northing</th>\n",
       "      <th>...</th>\n",
       "      <th>V4or5AxleRigidHGV</th>\n",
       "      <th>V3or4AxleArticHGV</th>\n",
       "      <th>V5AxleArticHGV</th>\n",
       "      <th>V6orMoreAxleArticHGV</th>\n",
       "      <th>AllHGVs</th>\n",
       "      <th>AllMotorVehicles</th>\n",
       "      <th>Lat</th>\n",
       "      <th>Lon</th>\n",
       "      <th>Gross Disposable Household Income</th>\n",
       "      <th>Population</th>\n",
       "    </tr>\n",
       "  </thead>\n",
       "  <tbody>\n",
       "    <tr>\n",
       "      <th>0</th>\n",
       "      <td>2000</td>\n",
       "      <td>6007</td>\n",
       "      <td>Counted</td>\n",
       "      <td>Manual count</td>\n",
       "      <td>yorkshire and the humber</td>\n",
       "      <td>rotherham</td>\n",
       "      <td>M1</td>\n",
       "      <td>TM</td>\n",
       "      <td>446000</td>\n",
       "      <td>389300</td>\n",
       "      <td>...</td>\n",
       "      <td>711</td>\n",
       "      <td>1588</td>\n",
       "      <td>4715</td>\n",
       "      <td>2149</td>\n",
       "      <td>15170</td>\n",
       "      <td>111146</td>\n",
       "      <td>53.398531</td>\n",
       "      <td>-1.309655</td>\n",
       "      <td>NaN</td>\n",
       "      <td>NaN</td>\n",
       "    </tr>\n",
       "    <tr>\n",
       "      <th>1</th>\n",
       "      <td>2000</td>\n",
       "      <td>6009</td>\n",
       "      <td>Counted</td>\n",
       "      <td>Manual count</td>\n",
       "      <td>yorkshire and the humber</td>\n",
       "      <td>leeds</td>\n",
       "      <td>M621</td>\n",
       "      <td>TM</td>\n",
       "      <td>432150</td>\n",
       "      <td>429500</td>\n",
       "      <td>...</td>\n",
       "      <td>287</td>\n",
       "      <td>628</td>\n",
       "      <td>1494</td>\n",
       "      <td>921</td>\n",
       "      <td>4895</td>\n",
       "      <td>65939</td>\n",
       "      <td>53.760869</td>\n",
       "      <td>-1.513814</td>\n",
       "      <td>NaN</td>\n",
       "      <td>NaN</td>\n",
       "    </tr>\n",
       "    <tr>\n",
       "      <th>2</th>\n",
       "      <td>2000</td>\n",
       "      <td>6035</td>\n",
       "      <td>Counted</td>\n",
       "      <td>Manual count</td>\n",
       "      <td>yorkshire and the humber</td>\n",
       "      <td>doncaster</td>\n",
       "      <td>M18</td>\n",
       "      <td>TM</td>\n",
       "      <td>466400</td>\n",
       "      <td>407900</td>\n",
       "      <td>...</td>\n",
       "      <td>239</td>\n",
       "      <td>745</td>\n",
       "      <td>3695</td>\n",
       "      <td>2000</td>\n",
       "      <td>8888</td>\n",
       "      <td>40229</td>\n",
       "      <td>53.563523</td>\n",
       "      <td>-0.998970</td>\n",
       "      <td>10215.0</td>\n",
       "      <td>286989.0</td>\n",
       "    </tr>\n",
       "    <tr>\n",
       "      <th>3</th>\n",
       "      <td>2000</td>\n",
       "      <td>6054</td>\n",
       "      <td>Counted</td>\n",
       "      <td>Manual count</td>\n",
       "      <td>yorkshire and the humber</td>\n",
       "      <td>calderdale</td>\n",
       "      <td>M62</td>\n",
       "      <td>TM</td>\n",
       "      <td>404000</td>\n",
       "      <td>416600</td>\n",
       "      <td>...</td>\n",
       "      <td>354</td>\n",
       "      <td>1786</td>\n",
       "      <td>5902</td>\n",
       "      <td>3438</td>\n",
       "      <td>15109</td>\n",
       "      <td>85759</td>\n",
       "      <td>53.645893</td>\n",
       "      <td>-1.940967</td>\n",
       "      <td>10773.0</td>\n",
       "      <td>191928.0</td>\n",
       "    </tr>\n",
       "    <tr>\n",
       "      <th>4</th>\n",
       "      <td>2000</td>\n",
       "      <td>6055</td>\n",
       "      <td>Counted</td>\n",
       "      <td>Manual count</td>\n",
       "      <td>yorkshire and the humber</td>\n",
       "      <td>leeds</td>\n",
       "      <td>M62</td>\n",
       "      <td>TM</td>\n",
       "      <td>426000</td>\n",
       "      <td>426200</td>\n",
       "      <td>...</td>\n",
       "      <td>423</td>\n",
       "      <td>1947</td>\n",
       "      <td>6669</td>\n",
       "      <td>3743</td>\n",
       "      <td>17436</td>\n",
       "      <td>98487</td>\n",
       "      <td>53.731551</td>\n",
       "      <td>-1.607374</td>\n",
       "      <td>NaN</td>\n",
       "      <td>NaN</td>\n",
       "    </tr>\n",
       "  </tbody>\n",
       "</table>\n",
       "<p>5 rows × 31 columns</p>\n",
       "</div>"
      ],
      "text/plain": [
       "   AADFYear    CP Estimation_method Estimation_method_detailed  \\\n",
       "0      2000  6007           Counted               Manual count   \n",
       "1      2000  6009           Counted               Manual count   \n",
       "2      2000  6035           Counted               Manual count   \n",
       "3      2000  6054           Counted               Manual count   \n",
       "4      2000  6055           Counted               Manual count   \n",
       "\n",
       "                     Region LocalAuthority  Road RoadCategory  Easting  \\\n",
       "0  yorkshire and the humber      rotherham    M1           TM   446000   \n",
       "1  yorkshire and the humber          leeds  M621           TM   432150   \n",
       "2  yorkshire and the humber      doncaster   M18           TM   466400   \n",
       "3  yorkshire and the humber     calderdale   M62           TM   404000   \n",
       "4  yorkshire and the humber          leeds   M62           TM   426000   \n",
       "\n",
       "   Northing  ... V4or5AxleRigidHGV V3or4AxleArticHGV  V5AxleArticHGV  \\\n",
       "0    389300  ...               711              1588            4715   \n",
       "1    429500  ...               287               628            1494   \n",
       "2    407900  ...               239               745            3695   \n",
       "3    416600  ...               354              1786            5902   \n",
       "4    426200  ...               423              1947            6669   \n",
       "\n",
       "   V6orMoreAxleArticHGV  AllHGVs  AllMotorVehicles        Lat       Lon  \\\n",
       "0                  2149    15170            111146  53.398531 -1.309655   \n",
       "1                   921     4895             65939  53.760869 -1.513814   \n",
       "2                  2000     8888             40229  53.563523 -0.998970   \n",
       "3                  3438    15109             85759  53.645893 -1.940967   \n",
       "4                  3743    17436             98487  53.731551 -1.607374   \n",
       "\n",
       "   Gross Disposable Household Income  Population  \n",
       "0                                NaN         NaN  \n",
       "1                                NaN         NaN  \n",
       "2                            10215.0    286989.0  \n",
       "3                            10773.0    191928.0  \n",
       "4                                NaN         NaN  \n",
       "\n",
       "[5 rows x 31 columns]"
      ]
     },
     "execution_count": 10,
     "metadata": {},
     "output_type": "execute_result"
    }
   ],
   "source": [
    "df.head()"
   ]
  },
  {
   "cell_type": "code",
   "execution_count": 11,
   "metadata": {
    "ExecuteTime": {
     "end_time": "2019-12-18T10:03:47.769278Z",
     "start_time": "2019-12-18T10:03:47.725697Z"
    }
   },
   "outputs": [
    {
     "data": {
      "text/plain": [
       "(190,)"
      ]
     },
     "execution_count": 11,
     "metadata": {},
     "output_type": "execute_result"
    }
   ],
   "source": [
    "df.LocalAuthority.unique().shape"
   ]
  },
  {
   "cell_type": "code",
   "execution_count": 12,
   "metadata": {
    "ExecuteTime": {
     "end_time": "2019-12-10T12:00:52.647575Z",
     "start_time": "2019-12-10T12:00:47.239730Z"
    }
   },
   "outputs": [],
   "source": [
    "df.to_csv('AADF data with income and population.csv')"
   ]
  },
  {
   "cell_type": "code",
   "execution_count": 70,
   "metadata": {
    "ExecuteTime": {
     "end_time": "2019-12-10T12:00:54.457486Z",
     "start_time": "2019-12-10T12:00:54.273105Z"
    }
   },
   "outputs": [],
   "source": [
    "df = df.dropna()"
   ]
  },
  {
   "cell_type": "code",
   "execution_count": null,
   "metadata": {
    "ExecuteTime": {
     "end_time": "2019-12-10T10:35:28.028484Z",
     "start_time": "2019-12-10T10:35:27.510304Z"
    }
   },
   "outputs": [],
   "source": [
    "df.groupby(['AADFYear','Region_x'])['Gross Disposable Household Income'].mean().unstack('Region_x').plot(figsize=(10,8),kind='line')\n",
    "plt.show()"
   ]
  },
  {
   "cell_type": "code",
   "execution_count": null,
   "metadata": {
    "ExecuteTime": {
     "end_time": "2019-12-10T10:35:33.697853Z",
     "start_time": "2019-12-10T10:35:33.125983Z"
    }
   },
   "outputs": [],
   "source": [
    "df.groupby(['AADFYear','Region_x'])['AllMotorVehicles'].mean().unstack('Region_x').plot(figsize=(10,8),kind='line')\n",
    "plt.show()"
   ]
  },
  {
   "cell_type": "code",
   "execution_count": null,
   "metadata": {
    "ExecuteTime": {
     "end_time": "2019-12-10T10:37:10.534471Z",
     "start_time": "2019-12-10T10:37:09.934636Z"
    }
   },
   "outputs": [],
   "source": [
    "df.groupby(['AADFYear','Region_x'])[['AllMotorVehicles']].mean().unstack('Region_x').plot(figsize=(10,8),kind='line')\n",
    "plt.show()"
   ]
  },
  {
   "cell_type": "code",
   "execution_count": null,
   "metadata": {
    "ExecuteTime": {
     "end_time": "2019-12-10T10:37:25.112155Z",
     "start_time": "2019-12-10T10:37:24.542541Z"
    }
   },
   "outputs": [],
   "source": [
    "df.groupby(['AADFYear','Region_x'])[['PedalCycles']].mean().unstack('Region_x').plot(figsize=(10,8),kind='line')\n",
    "plt.show()"
   ]
  },
  {
   "cell_type": "code",
   "execution_count": null,
   "metadata": {
    "ExecuteTime": {
     "end_time": "2019-12-10T10:36:35.154328Z",
     "start_time": "2019-12-10T10:36:35.144513Z"
    }
   },
   "outputs": [],
   "source": [
    "df.columns"
   ]
  },
  {
   "cell_type": "code",
   "execution_count": 106,
   "metadata": {
    "ExecuteTime": {
     "end_time": "2019-12-10T14:38:39.714510Z",
     "start_time": "2019-12-10T14:38:39.651485Z"
    }
   },
   "outputs": [
    {
     "data": {
      "text/plain": [
       "[Timestamp('2005-05-14 00:00:00'),\n",
       " Timestamp('2005-06-18 00:00:00'),\n",
       " Timestamp('2005-09-16 00:00:00'),\n",
       " Timestamp('2005-11-04 00:00:00'),\n",
       " Timestamp('2005-12-23 00:00:00')]"
      ]
     },
     "execution_count": 106,
     "metadata": {},
     "output_type": "execute_result"
    }
   ],
   "source": [
    "test = test[['date_time', 'Accident_Severity']].copy()\n",
    "accidents = test.loc[test.Accident_Severity < 3].groupby(pd.Grouper(key='date_time', freq='D')).size().nlargest(5)\n",
    "accidents.index.tolist()"
   ]
  },
  {
   "cell_type": "code",
   "execution_count": null,
   "metadata": {},
   "outputs": [],
   "source": []
  }
 ],
 "metadata": {
  "kernelspec": {
   "display_name": "Python 3",
   "language": "python",
   "name": "python3"
  },
  "language_info": {
   "codemirror_mode": {
    "name": "ipython",
    "version": 3
   },
   "file_extension": ".py",
   "mimetype": "text/x-python",
   "name": "python",
   "nbconvert_exporter": "python",
   "pygments_lexer": "ipython3",
   "version": "3.7.5"
  },
  "varInspector": {
   "cols": {
    "lenName": 16,
    "lenType": 16,
    "lenVar": 40
   },
   "kernels_config": {
    "python": {
     "delete_cmd_postfix": "",
     "delete_cmd_prefix": "del ",
     "library": "var_list.py",
     "varRefreshCmd": "print(var_dic_list())"
    },
    "r": {
     "delete_cmd_postfix": ") ",
     "delete_cmd_prefix": "rm(",
     "library": "var_list.r",
     "varRefreshCmd": "cat(var_dic_list()) "
    }
   },
   "position": {
    "height": "259px",
    "left": "679px",
    "right": "20px",
    "top": "120px",
    "width": "384px"
   },
   "types_to_exclude": [
    "module",
    "function",
    "builtin_function_or_method",
    "instance",
    "_Feature"
   ],
   "window_display": false
  }
 },
 "nbformat": 4,
 "nbformat_minor": 2
}
