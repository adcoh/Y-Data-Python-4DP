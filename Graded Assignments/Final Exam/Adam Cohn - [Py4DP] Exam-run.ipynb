{
 "cells": [
  {
   "cell_type": "markdown",
   "metadata": {
    "papermill": {
     "duration": 0.03184,
     "end_time": "2019-12-20T22:55:49.894918",
     "exception": false,
     "start_time": "2019-12-20T22:55:49.863078",
     "status": "completed"
    },
    "tags": []
   },
   "source": [
    "# Notes\n",
    "\n",
    "Exam contains 6 problems, Most of them are of intermediate complexity and follow the material from class or graded assignments. Note, that no loops are allowed in this exam, and all the solutions containing loops will be graded as 0.\n",
    "\n",
    "For this exam you'll need [Titanic](https://www.kaggle.com/c/titanic) and [road accidents](https://www.kaggle.com/daveianhickey/2000-16-traffic-flow-england-scotland-wales) datasets."
   ]
  },
  {
   "cell_type": "code",
   "execution_count": 1,
   "metadata": {
    "ExecuteTime": {
     "end_time": "2019-12-16T19:34:17.233740Z",
     "start_time": "2019-12-16T19:34:16.164951Z"
    },
    "papermill": {
     "duration": 0.624127,
     "end_time": "2019-12-20T22:55:50.548562",
     "exception": false,
     "start_time": "2019-12-20T22:55:49.924435",
     "status": "completed"
    },
    "scrolled": true,
    "tags": []
   },
   "outputs": [
    {
     "name": "stdout",
     "output_type": "stream",
     "text": [
      "Populating the interactive namespace from numpy and matplotlib\n"
     ]
    }
   ],
   "source": [
    "%pylab inline\n",
    "plt.style.use(\"bmh\")"
   ]
  },
  {
   "cell_type": "code",
   "execution_count": 2,
   "metadata": {
    "ExecuteTime": {
     "end_time": "2019-12-16T19:34:17.290553Z",
     "start_time": "2019-12-16T19:34:17.285233Z"
    },
    "papermill": {
     "duration": 0.035131,
     "end_time": "2019-12-20T22:55:50.611888",
     "exception": false,
     "start_time": "2019-12-20T22:55:50.576757",
     "status": "completed"
    },
    "tags": []
   },
   "outputs": [],
   "source": [
    "plt.rcParams[\"figure.figsize\"] = (6,6)"
   ]
  },
  {
   "cell_type": "code",
   "execution_count": 3,
   "metadata": {
    "ExecuteTime": {
     "end_time": "2019-12-16T19:34:21.419359Z",
     "start_time": "2019-12-16T19:34:17.887463Z"
    },
    "papermill": {
     "duration": 1.215229,
     "end_time": "2019-12-20T22:55:51.852256",
     "exception": false,
     "start_time": "2019-12-20T22:55:50.637027",
     "status": "completed"
    },
    "scrolled": true,
    "tags": []
   },
   "outputs": [],
   "source": [
    "import numpy as np\n",
    "import pandas as pd\n",
    "import torch"
   ]
  },
  {
   "cell_type": "code",
   "execution_count": 4,
   "metadata": {
    "ExecuteTime": {
     "end_time": "2019-12-16T19:34:21.496906Z",
     "start_time": "2019-12-16T19:34:21.480717Z"
    },
    "papermill": {
     "duration": 0.036758,
     "end_time": "2019-12-20T22:55:51.912915",
     "exception": false,
     "start_time": "2019-12-20T22:55:51.876157",
     "status": "completed"
    },
    "tags": [
     "parameters"
    ]
   },
   "outputs": [],
   "source": [
    "STUDENT = \"Adam Cohn\"\n",
    "ASSIGNMENT = \"exam\"\n",
    "TEST = True"
   ]
  },
  {
   "cell_type": "code",
   "execution_count": 5,
   "metadata": {
    "papermill": {
     "duration": 0.038661,
     "end_time": "2019-12-20T22:55:51.977033",
     "exception": false,
     "start_time": "2019-12-20T22:55:51.938372",
     "status": "completed"
    },
    "tags": [
     "injected-parameters"
    ]
   },
   "outputs": [],
   "source": [
    "# Parameters\n",
    "TEST = True\n"
   ]
  },
  {
   "cell_type": "code",
   "execution_count": 6,
   "metadata": {
    "ExecuteTime": {
     "end_time": "2019-12-11T13:27:45.493559Z",
     "start_time": "2019-12-11T13:27:45.470640Z"
    },
    "papermill": {
     "duration": 0.288686,
     "end_time": "2019-12-20T22:55:52.290585",
     "exception": false,
     "start_time": "2019-12-20T22:55:52.001899",
     "status": "completed"
    },
    "tags": []
   },
   "outputs": [],
   "source": [
    "if TEST:\n",
    "    import solutions\n",
    "    total_grade = 0\n",
    "    MAX_POINTS = 10"
   ]
  },
  {
   "cell_type": "markdown",
   "metadata": {
    "papermill": {
     "duration": 0.025736,
     "end_time": "2019-12-20T22:55:52.340724",
     "exception": false,
     "start_time": "2019-12-20T22:55:52.314988",
     "status": "completed"
    },
    "tags": []
   },
   "source": [
    "# NumPy"
   ]
  },
  {
   "cell_type": "markdown",
   "metadata": {
    "papermill": {
     "duration": 0.026089,
     "end_time": "2019-12-20T22:55:52.392772",
     "exception": false,
     "start_time": "2019-12-20T22:55:52.366683",
     "status": "completed"
    },
    "tags": []
   },
   "source": [
    "### 1. Filtering array (2 points).\n",
    "\n",
    "Clip array values according to the following:\n",
    "\n",
    "- given a two-dimensional array `arr` and threshold value `max_val`,\n",
    "- find those rows, for which row values sum is `> max_val`,\n",
    "- and replace largest value for each of those rows with `v` $\\rightarrow$ `v - <row sum> + max_val`.\n",
    "\n",
    "For example, consider the following array and threshold `max_val=8`:"
   ]
  },
  {
   "cell_type": "code",
   "execution_count": 7,
   "metadata": {
    "ExecuteTime": {
     "end_time": "2019-12-11T13:27:49.856011Z",
     "start_time": "2019-12-11T13:27:49.839015Z"
    },
    "papermill": {
     "duration": 0.039953,
     "end_time": "2019-12-20T22:55:52.460099",
     "exception": false,
     "start_time": "2019-12-20T22:55:52.420146",
     "status": "completed"
    },
    "tags": []
   },
   "outputs": [
    {
     "data": {
      "text/plain": [
       "array([[ 1,  5,  4],\n",
       "       [-3,  2,  8]])"
      ]
     },
     "execution_count": 7,
     "metadata": {},
     "output_type": "execute_result"
    }
   ],
   "source": [
    "a = np.array([[1, 5, 4], [-3, 2, 8]])\n",
    "a"
   ]
  },
  {
   "cell_type": "markdown",
   "metadata": {
    "papermill": {
     "duration": 0.025948,
     "end_time": "2019-12-20T22:55:52.511969",
     "exception": false,
     "start_time": "2019-12-20T22:55:52.486021",
     "status": "completed"
    },
    "tags": []
   },
   "source": [
    "Row sums are:"
   ]
  },
  {
   "cell_type": "code",
   "execution_count": 8,
   "metadata": {
    "ExecuteTime": {
     "end_time": "2019-12-11T13:27:51.039059Z",
     "start_time": "2019-12-11T13:27:51.027550Z"
    },
    "papermill": {
     "duration": 0.035859,
     "end_time": "2019-12-20T22:55:52.575868",
     "exception": false,
     "start_time": "2019-12-20T22:55:52.540009",
     "status": "completed"
    },
    "tags": []
   },
   "outputs": [
    {
     "data": {
      "text/plain": [
       "array([10,  7])"
      ]
     },
     "execution_count": 8,
     "metadata": {},
     "output_type": "execute_result"
    }
   ],
   "source": [
    "a.sum(axis=1)"
   ]
  },
  {
   "cell_type": "markdown",
   "metadata": {
    "papermill": {
     "duration": 0.0267,
     "end_time": "2019-12-20T22:55:52.627457",
     "exception": false,
     "start_time": "2019-12-20T22:55:52.600757",
     "status": "completed"
    },
    "tags": []
   },
   "source": [
    "Since row sum for row `0` is `> max_val`, largest value in that row (`a[0, 1]`, which is `5`), must be replaced with: `5 - 10 + 8 = 3`, resulting in:"
   ]
  },
  {
   "cell_type": "code",
   "execution_count": 9,
   "metadata": {
    "ExecuteTime": {
     "end_time": "2019-12-11T13:27:52.895443Z",
     "start_time": "2019-12-11T13:27:52.868208Z"
    },
    "papermill": {
     "duration": 0.036433,
     "end_time": "2019-12-20T22:55:52.693799",
     "exception": false,
     "start_time": "2019-12-20T22:55:52.657366",
     "status": "completed"
    },
    "tags": []
   },
   "outputs": [
    {
     "data": {
      "text/plain": [
       "array([[ 1,  3,  4],\n",
       "       [-3,  2,  8]])"
      ]
     },
     "execution_count": 9,
     "metadata": {},
     "output_type": "execute_result"
    }
   ],
   "source": [
    "a_clipped = np.array([[1, 3, 4], [-3, 2, 8]])\n",
    "a_clipped"
   ]
  },
  {
   "cell_type": "markdown",
   "metadata": {
    "ExecuteTime": {
     "end_time": "2019-12-10T01:08:49.435119Z",
     "start_time": "2019-12-10T01:08:49.429350Z"
    },
    "papermill": {
     "duration": 0.026271,
     "end_time": "2019-12-20T22:55:52.744989",
     "exception": false,
     "start_time": "2019-12-20T22:55:52.718718",
     "status": "completed"
    },
    "tags": []
   },
   "source": [
    "#### Notes:\n",
    "\n",
    "- **do not change original array**,\n",
    "- in this problem you may need to use **boolean and fancy indexing**, as well as `arr.argmax(...)`,\n",
    "- you **cannot use loops**,\n",
    "- input array is of **any two-dimensional shape** (including `(N,1)` and `(1,N)`), filled with **random integers**,\n",
    "- there may be no rows, which satisfy threshold condition, and in that case resulting array must be identical to input array."
   ]
  },
  {
   "cell_type": "code",
   "execution_count": 10,
   "metadata": {
    "ExecuteTime": {
     "end_time": "2019-12-11T13:28:07.220583Z",
     "start_time": "2019-12-11T13:28:07.207525Z"
    },
    "papermill": {
     "duration": 0.043362,
     "end_time": "2019-12-20T22:55:52.820270",
     "exception": false,
     "start_time": "2019-12-20T22:55:52.776908",
     "status": "completed"
    },
    "tags": []
   },
   "outputs": [],
   "source": [
    "def clip_array(arr, max_val):\n",
    "    \"\"\"Clip array based on `max_val`.\"\"\"\n",
    "    a = arr.copy()\n",
    "    rowsum = a.sum(axis=1)\n",
    "    boolmax = rowsum > max_val\n",
    "    rowmax = a[boolmax].argmax(axis=1)\n",
    "    good = numpy.where(boolmax == True)\n",
    "    a[good, rowmax] = a[good, rowmax] - rowsum[boolmax] + thresh\n",
    "    return a"
   ]
  },
  {
   "cell_type": "code",
   "execution_count": 11,
   "metadata": {
    "ExecuteTime": {
     "end_time": "2019-12-11T13:28:07.944650Z",
     "start_time": "2019-12-11T13:28:07.937827Z"
    },
    "papermill": {
     "duration": 0.053376,
     "end_time": "2019-12-20T22:55:52.914547",
     "exception": false,
     "start_time": "2019-12-20T22:55:52.861171",
     "status": "completed"
    },
    "tags": []
   },
   "outputs": [
    {
     "name": "stdout",
     "output_type": "stream",
     "text": [
      "\u001b[1m\u001b[33m[Adam Cohn] [Problem 1] failed: \u001b[0m\n",
      "exception is name 'thresh' is not defined\n",
      "\n"
     ]
    }
   ],
   "source": [
    "PROBLEM_ID = 1\n",
    "\n",
    "if TEST:\n",
    "    total_grade += solutions.check(STUDENT, PROBLEM_ID, clip_array)"
   ]
  },
  {
   "cell_type": "markdown",
   "metadata": {
    "papermill": {
     "duration": 0.027952,
     "end_time": "2019-12-20T22:55:52.984882",
     "exception": false,
     "start_time": "2019-12-20T22:55:52.956930",
     "status": "completed"
    },
    "tags": []
   },
   "source": [
    "### 2. Calculate area (1 point).\n",
    "\n",
    "In this problem you will construct a naive Monte-Carlo simulator. Provided with a 2D bounding box, you must calculate it's area:\n",
    "\n",
    "- a bounding box is specified by maximum and minimum `x` and `y`, i.e. a bounding box is a **rectangle** between `minx` and `maxx` over `x`-axis and between `miny` and `maxy` over `y`-axis,\n",
    "- all of `minx`, `maxx`, `miny`, `maxy` are `>=0` and `<=1`,\n",
    "- you can sample **at most** `n_samples` points on 2D place,\n",
    "- ratio of number of points inside a bounding box to total number of points is an **estimate of bounding box area**,\n",
    "- estimate is considered valid, if it's **no more than 10% off of actual area value**,\n",
    "- `n_samples` is chosen in such a way, that **10% error is achievable nearly always**, i.e. chances of getting more then 10% error with correct computation are negligibly small.\n",
    "\n",
    "For example, a bounding box is `minx=0.25`, `maxx=0.5`, `miny=0.1`, `maxy=0.6`. Actual area is `0.125`. Suppose, that we sample `10000` points in unit square $x \\in [0, 1],\\,y \\in [0, 1]$ and 1215 of them are inside the bounding box. Then, an estimate for the bounding box area is `0.1215` (with error of about 2.8%). Image below illustrates this example.\n",
    "\n",
    "![Monte-Carlo integration example](mc.png)"
   ]
  },
  {
   "cell_type": "code",
   "execution_count": 12,
   "metadata": {
    "ExecuteTime": {
     "end_time": "2019-12-11T15:30:07.667651Z",
     "start_time": "2019-12-11T15:30:07.658210Z"
    },
    "papermill": {
     "duration": 0.041107,
     "end_time": "2019-12-20T22:55:53.058846",
     "exception": false,
     "start_time": "2019-12-20T22:55:53.017739",
     "status": "completed"
    },
    "tags": []
   },
   "outputs": [],
   "source": [
    "def calc_area(minx, maxx, miny, maxy, n_samples):\n",
    "    \"\"\"Calculate area of bounding box.\"\"\"\n",
    "    area = (maxx-minx) * (maxy-miny)\n",
    "    coords = np.random.random(size=(n_samples,2))\n",
    "    x_bool = (coords[:, 0] > minx) & (coords[:, 0] < maxx)\n",
    "    y_bool = (coords[:, 1] > miny) & (coords[:, 1] < maxy)\n",
    "    area_est = coords[x_bool & y_bool].shape[0]/coords.shape[0]\n",
    "    assert abs(area_est - area)/area < 0.1\n",
    "    return area_est"
   ]
  },
  {
   "cell_type": "code",
   "execution_count": 13,
   "metadata": {
    "ExecuteTime": {
     "end_time": "2019-11-13T23:25:50.106449Z",
     "start_time": "2019-11-13T23:25:50.095086Z"
    },
    "papermill": {
     "duration": 0.042186,
     "end_time": "2019-12-20T22:55:53.128222",
     "exception": false,
     "start_time": "2019-12-20T22:55:53.086036",
     "status": "completed"
    },
    "tags": []
   },
   "outputs": [
    {
     "name": "stdout",
     "output_type": "stream",
     "text": [
      "\u001b[1m\u001b[32m[Adam Cohn] [Problem 2] correct!\u001b[0m\n"
     ]
    }
   ],
   "source": [
    "PROBLEM_ID = 2\n",
    "\n",
    "if TEST:\n",
    "    total_grade += solutions.check(STUDENT, PROBLEM_ID, calc_area)"
   ]
  },
  {
   "cell_type": "markdown",
   "metadata": {
    "papermill": {
     "duration": 0.032112,
     "end_time": "2019-12-20T22:55:53.189576",
     "exception": false,
     "start_time": "2019-12-20T22:55:53.157464",
     "status": "completed"
    },
    "tags": []
   },
   "source": [
    "### 3. Find outliers (3 points).\n",
    "\n",
    "Given an array of shape `(N,2)`, filter all the rows, which are more than `thr` away from other rows. Distance metrics is Euclidean, i.e. distance between rows `i` and `j` is (in pseudocode):\n",
    "\n",
    "```\n",
    "distance(i, j) = sqrt(square(arr[i, 0] - arr[j, 0]) + square(arr[i, 1] - arr[j, 1]))\n",
    "```\n",
    "\n",
    "Distance of row `i` from other rows is:\n",
    "\n",
    "```\n",
    "distance(i) = mean(distance(i, j)), j!=i\n",
    "```\n",
    "\n",
    "Rows, which have `distance(i) > thr` must be filtered. In this problem you **cannot use loops**. Instead, use broadcasting (recall recurrence matrix problem in GA-2 and extend it to two-dimensional case).\n",
    "\n",
    "As an example, consider 1000 samples from standard normal distribution for `x` (axis 1) and `y` (axis 0) and threshold of 2:\n",
    "\n",
    "![Outliers filtering](outliers.png)"
   ]
  },
  {
   "cell_type": "code",
   "execution_count": 14,
   "metadata": {
    "ExecuteTime": {
     "end_time": "2019-12-09T15:31:55.071291Z",
     "start_time": "2019-12-09T15:31:55.066198Z"
    },
    "papermill": {
     "duration": 0.04894,
     "end_time": "2019-12-20T22:55:53.270961",
     "exception": false,
     "start_time": "2019-12-20T22:55:53.222021",
     "status": "completed"
    },
    "tags": []
   },
   "outputs": [],
   "source": [
    "def find_outliers(arr, thr):\n",
    "    \"\"\"Find outliers.\"\"\"\n",
    "    distances = np.sqrt(np.sum((np.expand_dims(arr, 1) - arr)**2, axis=2))\n",
    "    booldist = distances.sum(axis=1) / (arr.shape[0]-1) > 2\n",
    "    return arr[booldist]"
   ]
  },
  {
   "cell_type": "code",
   "execution_count": 15,
   "metadata": {
    "ExecuteTime": {
     "end_time": "2019-12-09T15:32:00.914340Z",
     "start_time": "2019-12-09T15:32:00.906396Z"
    },
    "papermill": {
     "duration": 0.086115,
     "end_time": "2019-12-20T22:55:53.391689",
     "exception": false,
     "start_time": "2019-12-20T22:55:53.305574",
     "status": "completed"
    },
    "tags": []
   },
   "outputs": [
    {
     "name": "stdout",
     "output_type": "stream",
     "text": [
      "\u001b[1m\u001b[33m[Adam Cohn] [Problem 3] failed: \u001b[0m\n",
      "exception is operands could not be broadcast together with shapes (582,2) (157,2) \n",
      "\n"
     ]
    }
   ],
   "source": [
    "PROBLEM_ID = 3\n",
    "\n",
    "if TEST:\n",
    "    total_grade += solutions.check(STUDENT, PROBLEM_ID, find_outliers)"
   ]
  },
  {
   "cell_type": "markdown",
   "metadata": {
    "papermill": {
     "duration": 0.030708,
     "end_time": "2019-12-20T22:55:53.457484",
     "exception": false,
     "start_time": "2019-12-20T22:55:53.426776",
     "status": "completed"
    },
    "tags": []
   },
   "source": [
    "# PyTorch"
   ]
  },
  {
   "cell_type": "markdown",
   "metadata": {
    "papermill": {
     "duration": 0.035294,
     "end_time": "2019-12-20T22:55:53.525083",
     "exception": false,
     "start_time": "2019-12-20T22:55:53.489789",
     "status": "completed"
    },
    "tags": []
   },
   "source": [
    "### 4. SImple derivative (1 point).\n",
    "\n",
    "Given some value of `x0`, calculate a derivative of sigmoid function at that point. Input is a single floating point value. Output must also be a single floating point value (not a tensor!) equal to derivative of $\\sigma(x)$ at `x0`.\n",
    "\n",
    "Do not use exact formula, but use PyTorch `.backward()`."
   ]
  },
  {
   "cell_type": "code",
   "execution_count": 16,
   "metadata": {
    "ExecuteTime": {
     "end_time": "2019-11-13T23:15:11.348224Z",
     "start_time": "2019-11-13T23:15:11.334569Z"
    },
    "papermill": {
     "duration": 0.046129,
     "end_time": "2019-12-20T22:55:53.608176",
     "exception": false,
     "start_time": "2019-12-20T22:55:53.562047",
     "status": "completed"
    },
    "tags": []
   },
   "outputs": [],
   "source": [
    "def d_sigmoid(x0):\n",
    "    \"\"\"Derivative of sigmoid.\"\"\"\n",
    "    x = torch.tensor(x0, requires_grad=True, dtype=torch.float)\n",
    "    sig = 1 / (1 + torch.exp(-x))\n",
    "    sig.backward()\n",
    "    return x.grad.item()"
   ]
  },
  {
   "cell_type": "code",
   "execution_count": 17,
   "metadata": {
    "ExecuteTime": {
     "end_time": "2019-11-13T23:25:50.106449Z",
     "start_time": "2019-11-13T23:25:50.095086Z"
    },
    "papermill": {
     "duration": 0.076525,
     "end_time": "2019-12-20T22:55:53.721086",
     "exception": false,
     "start_time": "2019-12-20T22:55:53.644561",
     "status": "completed"
    },
    "tags": []
   },
   "outputs": [
    {
     "name": "stdout",
     "output_type": "stream",
     "text": [
      "\u001b[1m\u001b[32m[Adam Cohn] [Problem 4] correct!\u001b[0m\n"
     ]
    }
   ],
   "source": [
    "PROBLEM_ID = 4\n",
    "\n",
    "if TEST:\n",
    "    total_grade += solutions.check(STUDENT, PROBLEM_ID, d_sigmoid)"
   ]
  },
  {
   "cell_type": "markdown",
   "metadata": {
    "papermill": {
     "duration": 0.028616,
     "end_time": "2019-12-20T22:55:53.779761",
     "exception": false,
     "start_time": "2019-12-20T22:55:53.751145",
     "status": "completed"
    },
    "tags": []
   },
   "source": [
    "# Pandas"
   ]
  },
  {
   "cell_type": "markdown",
   "metadata": {
    "papermill": {
     "duration": 0.029446,
     "end_time": "2019-12-20T22:55:53.847206",
     "exception": false,
     "start_time": "2019-12-20T22:55:53.817760",
     "status": "completed"
    },
    "tags": []
   },
   "source": [
    "### 5. Ratio of males travelling alone per class (1 point).\n",
    "\n",
    "Given the Titanic dataset, calculate ratio of males travelling alove (`SipSp==0` and `Parch==0`) per class. In other words, calculate number of males travelling alone in each class, divided by number of passengers in that class.\n",
    "\n",
    "Input is indexed with `PassengerId` and is a concatenation of train and test sets. Output must be a series, indexed by class, containing the requested ratios."
   ]
  },
  {
   "cell_type": "code",
   "execution_count": 18,
   "metadata": {
    "ExecuteTime": {
     "end_time": "2019-11-25T08:26:56.688466Z",
     "start_time": "2019-11-25T08:26:56.684610Z"
    },
    "papermill": {
     "duration": 0.042931,
     "end_time": "2019-12-20T22:55:53.921462",
     "exception": false,
     "start_time": "2019-12-20T22:55:53.878531",
     "status": "completed"
    },
    "tags": []
   },
   "outputs": [],
   "source": [
    "def lone_males(df):\n",
    "    \"\"\"Calculate ratio of males travelling alone per class.\"\"\"\n",
    "    passengers = df.groupby('Pclass').size()\n",
    "    males = df.loc[(df.Sex == 'male') & (df.SibSp==0) & (df.Parch==0)].groupby('Pclass').size()\n",
    "    return males / passengers"
   ]
  },
  {
   "cell_type": "code",
   "execution_count": 19,
   "metadata": {
    "ExecuteTime": {
     "end_time": "2019-11-25T08:27:11.838257Z",
     "start_time": "2019-11-25T08:27:11.720830Z"
    },
    "papermill": {
     "duration": 0.072829,
     "end_time": "2019-12-20T22:55:54.034585",
     "exception": false,
     "start_time": "2019-12-20T22:55:53.961756",
     "status": "completed"
    },
    "tags": []
   },
   "outputs": [
    {
     "name": "stdout",
     "output_type": "stream",
     "text": [
      "\u001b[1m\u001b[32m[Adam Cohn] [Problem 5] correct!\u001b[0m\n"
     ]
    }
   ],
   "source": [
    "PROBLEM_ID = 5\n",
    "\n",
    "if TEST:\n",
    "    total_grade += solutions.check(STUDENT, PROBLEM_ID, lone_males)"
   ]
  },
  {
   "cell_type": "markdown",
   "metadata": {
    "papermill": {
     "duration": 0.030972,
     "end_time": "2019-12-20T22:55:54.101716",
     "exception": false,
     "start_time": "2019-12-20T22:55:54.070744",
     "status": "completed"
    },
    "tags": []
   },
   "source": [
    "### 6. Worst days on UK roads in 2005 (2 points).\n",
    "\n",
    "Calculate Top-5 days with the largest number of severe accidents (`Accident_Severity < 3`).\n",
    "\n",
    "Input is a **dataframe**, containing all the accidents in 2005 and the following columns: `date_time` (constructed the same way, as in class) and `Accident_Severity`. Index is a default integer index. Result must be a list (or tuple) of dates (as a `pd.Timestamp`) with 5 elements."
   ]
  },
  {
   "cell_type": "code",
   "execution_count": 20,
   "metadata": {
    "ExecuteTime": {
     "end_time": "2019-12-10T03:08:04.058718Z",
     "start_time": "2019-12-10T03:08:04.055676Z"
    },
    "papermill": {
     "duration": 0.048761,
     "end_time": "2019-12-20T22:55:54.187662",
     "exception": false,
     "start_time": "2019-12-20T22:55:54.138901",
     "status": "completed"
    },
    "tags": []
   },
   "outputs": [],
   "source": [
    "def worst_days(df):\n",
    "    \"\"\"Calculate Top 5 most severe days.\"\"\"\n",
    "    accidents = df.loc[df.Accident_Severity < 3].groupby(pd.Grouper(key='date_time', freq='D')).size()\n",
    "    return accidents.nlargest(5).index.tolist()"
   ]
  },
  {
   "cell_type": "code",
   "execution_count": 21,
   "metadata": {
    "ExecuteTime": {
     "end_time": "2019-11-25T08:27:11.838257Z",
     "start_time": "2019-11-25T08:27:11.720830Z"
    },
    "papermill": {
     "duration": 0.183338,
     "end_time": "2019-12-20T22:55:54.404971",
     "exception": false,
     "start_time": "2019-12-20T22:55:54.221633",
     "status": "completed"
    },
    "tags": []
   },
   "outputs": [
    {
     "name": "stdout",
     "output_type": "stream",
     "text": [
      "\u001b[1m\u001b[32m[Adam Cohn] [Problem 6] correct!\u001b[0m\n"
     ]
    }
   ],
   "source": [
    "PROBLEM_ID = 6\n",
    "\n",
    "if TEST:\n",
    "    total_grade += solutions.check(STUDENT, PROBLEM_ID, worst_days)"
   ]
  },
  {
   "cell_type": "code",
   "execution_count": 22,
   "metadata": {
    "papermill": {
     "duration": 0.050025,
     "end_time": "2019-12-20T22:55:54.485395",
     "exception": false,
     "start_time": "2019-12-20T22:55:54.435370",
     "status": "completed"
    },
    "tags": []
   },
   "outputs": [
    {
     "name": "stdout",
     "output_type": "stream",
     "text": [
      "Adam Cohn: 50\n"
     ]
    }
   ],
   "source": [
    "if TEST:\n",
    "    print(f\"{STUDENT}: {int(100 * total_grade / MAX_POINTS)}\")"
   ]
  }
 ],
 "metadata": {
  "@webio": {
   "lastCommId": null,
   "lastKernelId": null
  },
  "celltoolbar": "Tags",
  "kernelspec": {
   "display_name": "Python 3",
   "language": "python",
   "name": "python3"
  },
  "language_info": {
   "codemirror_mode": {
    "name": "ipython",
    "version": 3
   },
   "file_extension": ".py",
   "mimetype": "text/x-python",
   "name": "python",
   "nbconvert_exporter": "python",
   "pygments_lexer": "ipython3",
   "version": "3.6.5"
  },
  "papermill": {
   "duration": 9.071205,
   "end_time": "2019-12-20T22:55:55.379829",
   "environment_variables": {},
   "exception": null,
   "input_path": "Adam Cohn - [Py4DP] Exam.ipynb",
   "output_path": "Adam Cohn - [Py4DP] Exam-run.ipynb",
   "parameters": {
    "TEST": true
   },
   "start_time": "2019-12-20T22:55:46.308624",
   "version": "1.1.0"
  },
  "varInspector": {
   "cols": {
    "lenName": 16,
    "lenType": 16,
    "lenVar": 40
   },
   "kernels_config": {
    "python": {
     "delete_cmd_postfix": "",
     "delete_cmd_prefix": "del ",
     "library": "var_list.py",
     "varRefreshCmd": "print(var_dic_list())"
    },
    "r": {
     "delete_cmd_postfix": ") ",
     "delete_cmd_prefix": "rm(",
     "library": "var_list.r",
     "varRefreshCmd": "cat(var_dic_list()) "
    }
   },
   "types_to_exclude": [
    "module",
    "function",
    "builtin_function_or_method",
    "instance",
    "_Feature"
   ],
   "window_display": false
  }
 },
 "nbformat": 4,
 "nbformat_minor": 2
}