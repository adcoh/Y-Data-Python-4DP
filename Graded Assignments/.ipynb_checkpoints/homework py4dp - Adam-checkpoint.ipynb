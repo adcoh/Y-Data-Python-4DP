{
 "cells": [
  {
   "cell_type": "markdown",
   "metadata": {
    "tags": [
     "intro"
    ]
   },
   "source": [
    "# Grading process\n",
    "\n",
    "This notebook will be autovalidated with `papermill`. The exact command is the following:\n",
    "\n",
    "```bash\n",
    "papermill assignment.ipynb <student>-assignment.ipynb -p TEST True\n",
    "```\n",
    "\n",
    "This will inject new cell after each cell tagged as `parameters` (see `View > Cell toolbar > Tags`). Notebook will be executed from top to bottom in linear order. `solutions.py` contains correct implementations used to validate your solutions.\n",
    "\n",
    "Different problems give different number of points. All problems in the basic section give 1 point, while all problems in intermediate section give 2 points.\n",
    "\n",
    "Please, fill `STUDENT` variable with your name, so that we call collect the results automatically. Each problem contains specific validation details. We will do our best to review your assignments, but please keep in mind, that for this assignment automatic grade (between $0$ an $1$) is the primary source of ground truth."
   ]
  },
  {
   "cell_type": "code",
   "execution_count": 1,
   "metadata": {
    "ExecuteTime": {
     "end_time": "2019-11-07T11:52:39.865874Z",
     "start_time": "2019-11-07T11:52:34.707866Z"
    }
   },
   "outputs": [],
   "source": [
    "import numpy as np\n",
    "from numpy import pi"
   ]
  },
  {
   "cell_type": "code",
   "execution_count": 2,
   "metadata": {
    "ExecuteTime": {
     "end_time": "2019-11-07T11:52:52.258661Z",
     "start_time": "2019-11-07T11:52:52.252444Z"
    },
    "tags": [
     "parameters"
    ]
   },
   "outputs": [],
   "source": [
    "STUDENT = \"Adam Cohn\"\n",
    "ASSIGNMENT = 1\n",
    "TEST = False"
   ]
  },
  {
   "cell_type": "code",
   "execution_count": 3,
   "metadata": {
    "ExecuteTime": {
     "end_time": "2019-11-07T11:52:52.862245Z",
     "start_time": "2019-11-07T11:52:52.856947Z"
    }
   },
   "outputs": [],
   "source": [
    "if TEST:\n",
    "    import solutions\n",
    "    total_grade = 0\n",
    "    MAX_POINTS = 12"
   ]
  },
  {
   "cell_type": "markdown",
   "metadata": {},
   "source": [
    "# Basic arrays"
   ]
  },
  {
   "cell_type": "markdown",
   "metadata": {
    "tags": [
     "problem"
    ]
   },
   "source": [
    "### 1. Calculate $\\sin(x)$ for $0\\leq x < 2\\pi$ with a step of $0.1$.\n",
    "\n",
    "You need to implement a function, which calculates the required array. Result must be **1-dimensional**, and **will be tested against precomputed values**.\n",
    "\n",
    "Note, that `numpy` provides [constants](https://docs.scipy.org/doc/numpy-1.15.0/reference/constants.html), you can take $\\pi$ from there. "
   ]
  },
  {
   "cell_type": "code",
   "execution_count": 4,
   "metadata": {
    "ExecuteTime": {
     "end_time": "2019-11-07T11:52:53.942714Z",
     "start_time": "2019-11-07T11:52:53.937280Z"
    },
    "tags": [
     "solution"
    ]
   },
   "outputs": [],
   "source": [
    "def sin_basic():\n",
    "    # your code goes here\n",
    "    return np.sin(np.arange(0, 2*pi, 0.1))"
   ]
  },
  {
   "cell_type": "code",
   "execution_count": 5,
   "metadata": {
    "ExecuteTime": {
     "end_time": "2019-11-07T11:52:54.324174Z",
     "start_time": "2019-11-07T11:52:54.319025Z"
    },
    "tags": [
     "validation"
    ]
   },
   "outputs": [],
   "source": [
    "PROBLEM_ID = 1\n",
    "\n",
    "if TEST:\n",
    "    total_grade += solutions.check(STUDENT, PROBLEM_ID, sin_basic)"
   ]
  },
  {
   "cell_type": "markdown",
   "metadata": {
    "tags": [
     "problem"
    ]
   },
   "source": [
    "### 2. Create a function, which calculates $n$ values of $\\sin(x)$ for $0\\leq x \\leq 2\\pi$.\n",
    "\n",
    "Both $0$ and $2\\pi$ must be included and $x$ values must be equidistant. Result must be **1-dimensional**, and **will be tested against three random values for $10 \\leq n < 100 $**.\n",
    "\n",
    "For example, $n=3$ means that the function must calculate values for $\\sin(0)$,$\\sin(\\pi)$ and $\\sin(2\\pi)$. \n"
   ]
  },
  {
   "cell_type": "code",
   "execution_count": 6,
   "metadata": {
    "ExecuteTime": {
     "end_time": "2019-11-07T11:52:55.282133Z",
     "start_time": "2019-11-07T11:52:55.275840Z"
    },
    "tags": [
     "solution"
    ]
   },
   "outputs": [],
   "source": [
    "def sin_enumerated(n):\n",
    "    # your code goes here\n",
    "    return np.sin(np.linspace(0, 2*pi, n))"
   ]
  },
  {
   "cell_type": "code",
   "execution_count": 7,
   "metadata": {
    "ExecuteTime": {
     "end_time": "2019-11-07T11:52:57.467349Z",
     "start_time": "2019-11-07T11:52:57.441636Z"
    },
    "tags": [
     "validation"
    ]
   },
   "outputs": [],
   "source": [
    "PROBLEM_ID = 2\n",
    "\n",
    "if TEST:\n",
    "    total_grade += solutions.check(STUDENT, PROBLEM_ID, sin_enumerated)"
   ]
  },
  {
   "cell_type": "markdown",
   "metadata": {
    "tags": [
     "problem"
    ]
   },
   "source": [
    "### 3. Create a function, which calculates $n$ values of truncated $\\sin(x)$ for $0\\leq x \\leq 2\\pi$.\n",
    "\n",
    "Truncated $\\sin(x)$ is defined as the following:\n",
    "\n",
    "$$\n",
    "\\sin_{trunc}(x) =\n",
    "\\left\\{\n",
    "\\begin{array}{l}\n",
    "\\sin(x), \\sin(x)\\geq 0, \\\\\n",
    "0, \\sin(x) < 0.\n",
    "\\end{array}\\right.\n",
    "$$\n",
    "\n",
    "Otherwise, the requirements are the same as in Problem 2."
   ]
  },
  {
   "cell_type": "code",
   "execution_count": 8,
   "metadata": {
    "ExecuteTime": {
     "end_time": "2019-11-07T11:52:58.577821Z",
     "start_time": "2019-11-07T11:52:58.567299Z"
    },
    "tags": [
     "solution"
    ]
   },
   "outputs": [],
   "source": [
    "def sin_truncated(n):\n",
    "    # your code goes here\n",
    "    from numpy import pi\n",
    "    result = sin_enumerated(n)\n",
    "    result[result<0] = 0\n",
    "    return result"
   ]
  },
  {
   "cell_type": "code",
   "execution_count": 9,
   "metadata": {
    "ExecuteTime": {
     "end_time": "2019-11-07T11:52:58.968640Z",
     "start_time": "2019-11-07T11:52:58.962963Z"
    },
    "tags": [
     "validation"
    ]
   },
   "outputs": [],
   "source": [
    "PROBLEM_ID = 3\n",
    "\n",
    "if TEST:\n",
    "    total_grade += solutions.check(STUDENT, PROBLEM_ID, sin_truncated)"
   ]
  },
  {
   "cell_type": "markdown",
   "metadata": {
    "tags": [
     "problem"
    ]
   },
   "source": [
    "### 4. Statistics on multi-dimensional arrays.\n",
    "\n",
    "Given the 3-dimensional array, calculate mean and standard deviation along dimensions $(1,2)$. Result must be **2-dimensional**, and **will be tested against three random combinations of input array dimensions ($10 \\leq n < 100 $)**. Array values will be drawn from standard normal distribution (`np.random.randn`).\n",
    "\n",
    "For example, for $(10, 5, 5)$ array result must be of shape $(10,2)$, with column 0 representing mean value for each \"row\" of the original array, and column 1 representing standard deviation."
   ]
  },
  {
   "cell_type": "code",
   "execution_count": 10,
   "metadata": {
    "ExecuteTime": {
     "end_time": "2019-11-07T11:52:59.994886Z",
     "start_time": "2019-11-07T11:52:59.987860Z"
    },
    "tags": [
     "solution"
    ]
   },
   "outputs": [],
   "source": [
    "def array_stats(arr):\n",
    "    # your code goes here\n",
    "    mean = np.mean(arr, axis=(1,2)) \n",
    "    std = np.std(arr,axis=(1,2))\n",
    "    return np.column_stack([mean, std])"
   ]
  },
  {
   "cell_type": "code",
   "execution_count": 11,
   "metadata": {
    "ExecuteTime": {
     "end_time": "2019-11-07T11:53:07.461547Z",
     "start_time": "2019-11-07T11:53:07.437973Z"
    },
    "tags": [
     "validation"
    ]
   },
   "outputs": [],
   "source": [
    "PROBLEM_ID = 4\n",
    "\n",
    "if TEST:\n",
    "    total_grade += solutions.check(STUDENT, PROBLEM_ID, array_stats)"
   ]
  },
  {
   "cell_type": "markdown",
   "metadata": {
    "tags": [
     "problem"
    ]
   },
   "source": [
    "### 5. Softmax activation function.\n",
    "\n",
    "Given the 2-dimensional array, calculate it's $\\texttt{softmax}$ for each row. $\\texttt{softmax}$ activation for a vector is defined as the following:\n",
    "\n",
    "$$\n",
    "\\texttt{softmax} (x_i) = \\frac{e^{x_i}}{\\sum_i e^{x_i}}.\n",
    "$$\n",
    "\n",
    "Correspondingly, for entire array the expression is the following:\n",
    "\n",
    "$$\n",
    "\\texttt{softmax} (x_{ij}) = \\frac{e^{x_{ij}}}{\\sum_j e^{x_{ij}}}.\n",
    "$$\n",
    "\n",
    "For example, for $(10, 5)$ array result must be of the same shape $(10, 5)$. Result must be **2-dimensional**, and **will be tested against three random combinations of input array dimensions ($10 \\leq n < 100 $)**. Array elements are drawn from standard normal distribution."
   ]
  },
  {
   "cell_type": "code",
   "execution_count": 12,
   "metadata": {
    "ExecuteTime": {
     "end_time": "2019-11-07T11:53:10.566016Z",
     "start_time": "2019-11-07T11:53:10.558980Z"
    },
    "tags": [
     "solution"
    ]
   },
   "outputs": [],
   "source": [
    "def softmax(arr):\n",
    "    # your code goes here\n",
    "    exponent_arr = np.e**arr\n",
    "    return exponent_arr / np.sum(exponent_arr, axis=1).reshape(-1,1)"
   ]
  },
  {
   "cell_type": "code",
   "execution_count": 13,
   "metadata": {
    "ExecuteTime": {
     "end_time": "2019-11-07T11:53:12.474373Z",
     "start_time": "2019-11-07T11:53:12.454202Z"
    },
    "tags": [
     "validation"
    ]
   },
   "outputs": [],
   "source": [
    "PROBLEM_ID = 5\n",
    "\n",
    "if TEST:\n",
    "    total_grade += solutions.check(STUDENT, PROBLEM_ID, softmax)"
   ]
  },
  {
   "cell_type": "markdown",
   "metadata": {
    "tags": [
     "problem"
    ]
   },
   "source": [
    "### 6. Class prediction.\n",
    "\n",
    "$\\texttt{softmax}$ is used to represent probabilities. Result of the Problem 5 may be treated as predictions of some classification model. For example, $(10, 3)$ array outputted from the function in Problem 5 may be a probabilistic prediction of 3-class classification model for 10 examples. Note, that $\\texttt{softmax}$ normalizes the input, such that each row sums to $1$.\n",
    "\n",
    "In this problem, you need to calculate the exact class, i.e. determine, which probability is the highest for each example. For example, for the following array\n",
    "\n",
    "$$\n",
    "\\left(\n",
    "\\begin{array}{ccc}\n",
    "0.3 && 0.6 && 0.1 \\\\\n",
    "0.8 && 0.05 && 0.15\n",
    "\\end{array}\n",
    "\\right)\n",
    "$$\n",
    "\n",
    "the result must be\n",
    "\n",
    "$$\n",
    "\\left(\n",
    "\\begin{array}{c}\n",
    "1 \\\\\n",
    "0\n",
    "\\end{array}\n",
    "\\right)\n",
    "$$\n",
    "\n",
    "Note, that result must be **2-dimensional**, such that input array of shape $(N, M)$ is transformed into output array of shape $(N,1)$. Input arrays are generated in the same way as in Problem 5 with $\\texttt{softmax}$ applied on top."
   ]
  },
  {
   "cell_type": "code",
   "execution_count": 14,
   "metadata": {
    "ExecuteTime": {
     "end_time": "2019-11-07T11:53:20.648192Z",
     "start_time": "2019-11-07T11:53:20.640647Z"
    },
    "tags": [
     "solution"
    ]
   },
   "outputs": [],
   "source": [
    "def predict(arr):\n",
    "    # your code goes here\n",
    "    return np.argmax(arr, axis=0).reshape(arr.shape[0],1)"
   ]
  },
  {
   "cell_type": "code",
   "execution_count": 15,
   "metadata": {
    "ExecuteTime": {
     "end_time": "2019-11-07T11:53:22.217620Z",
     "start_time": "2019-11-07T11:53:22.212067Z"
    },
    "tags": [
     "validation"
    ]
   },
   "outputs": [],
   "source": [
    "PROBLEM_ID = 6\n",
    "\n",
    "if TEST:\n",
    "    total_grade += solutions.check(STUDENT, PROBLEM_ID, predict)"
   ]
  },
  {
   "cell_type": "markdown",
   "metadata": {},
   "source": [
    "# Intermediate arrays"
   ]
  },
  {
   "cell_type": "markdown",
   "metadata": {
    "tags": [
     "problem"
    ]
   },
   "source": [
    "### 7. One-hot encoding.\n",
    "\n",
    "Given 1-dimensional array of class labels, construct it's one-hot encoded transformation. One-hot encoding of an array of shape $(N,)$ is defined as an array of shape $(N,L)$, such that $e_{ij}$ is $1$ if $i$-th example belongs to class $j$ and $0$ otherwise. $L$ is the number of classes.\n",
    "\n",
    "For example, array $(1,0,2,1,1,2,0)$ is transformed to\n",
    "\n",
    "$$\n",
    "\\left(\n",
    "\\begin{array}{ccc}\n",
    "0 && 1 && 0\\\\\n",
    "1 && 0 && 0\\\\\n",
    "0 && 0 && 1\\\\\n",
    "0 && 1 && 0\\\\\n",
    "0 && 1 && 0\\\\\n",
    "0 && 0 && 1\\\\\n",
    "1 && 0 && 0\n",
    "\\end{array}\n",
    "\\right)\n",
    "$$\n",
    "\n",
    "This anction will be tested against three input arrays of random shape $(n,)$ ($10 \\leq n < 100 $) filled with random integers."
   ]
  },
  {
   "cell_type": "code",
   "execution_count": 16,
   "metadata": {
    "ExecuteTime": {
     "end_time": "2019-11-07T11:53:57.318877Z",
     "start_time": "2019-11-07T11:53:57.312646Z"
    },
    "tags": [
     "solution"
    ]
   },
   "outputs": [],
   "source": [
    "def onehot(labels):\n",
    "    # your code goes here\n",
    "    l = len(np.unique(labels))\n",
    "    n = labels.shape[0]\n",
    "    shape = (n,l)\n",
    "    one_hot = np.zeros(shape)\n",
    "    one_hot[np.arange(n), labels] = 1\n",
    "    return one_hot"
   ]
  },
  {
   "cell_type": "code",
   "execution_count": 17,
   "metadata": {
    "ExecuteTime": {
     "end_time": "2019-11-07T11:53:59.255138Z",
     "start_time": "2019-11-07T11:53:59.240359Z"
    },
    "tags": [
     "validation"
    ]
   },
   "outputs": [],
   "source": [
    "PROBLEM_ID = 7\n",
    "\n",
    "if TEST:\n",
    "    total_grade += solutions.check(STUDENT, PROBLEM_ID, onehot)"
   ]
  },
  {
   "cell_type": "markdown",
   "metadata": {
    "tags": [
     "problem"
    ]
   },
   "source": [
    "### 8. Fixing missing values.\n",
    "\n",
    "Given an array, which contains some $NaN$s (not-a-number, represented as `np.nan`), positive and negative infinities (represented as `np.inf`), contruct a \"repaired\" version of that array. All missing or broken values must be replaced by average of valid elements of an array.\n",
    "\n",
    "For example, array $(0., np.nan, 2., np.inf)$ must be transformed to $(0., 1., 2., 1.)$. Input arrays will be drawn from standard normal distribution, with small fraction of values transformed to either `np.nan`, `np.inf` or `-np.inf`."
   ]
  },
  {
   "cell_type": "code",
   "execution_count": 41,
   "metadata": {
    "ExecuteTime": {
     "end_time": "2019-11-07T12:13:09.521611Z",
     "start_time": "2019-11-07T12:13:09.514311Z"
    },
    "tags": [
     "solution"
    ]
   },
   "outputs": [],
   "source": [
    "def fix(arr):\n",
    "    # your code goes here\n",
    "    avg = np.mean(arr[np.isfinite(arr)])\n",
    "    return np.nan_to_num(arr, nan=avg, posinf=avg, neginf=avg)"
   ]
  },
  {
   "cell_type": "code",
   "execution_count": 42,
   "metadata": {
    "ExecuteTime": {
     "end_time": "2019-11-07T12:13:10.412632Z",
     "start_time": "2019-11-07T12:13:10.405397Z"
    },
    "tags": [
     "validation"
    ]
   },
   "outputs": [],
   "source": [
    "PROBLEM_ID = 8\n",
    "\n",
    "if TEST:\n",
    "    total_grade += solutions.check(STUDENT, PROBLEM_ID, fix)"
   ]
  },
  {
   "cell_type": "markdown",
   "metadata": {
    "tags": [
     "problem"
    ]
   },
   "source": [
    "### 9. Calculate class distribution.\n",
    "\n",
    "Given 1-dimensional array of class labels, calculate occurrence of each class.\n",
    "\n",
    "For example, array $(1,0,2,1,1,2,0)$ is transformed to $(2/7, 3/7, 2/7)$. Note the ordering and consider using one-hot representation to calculate class counts."
   ]
  },
  {
   "cell_type": "code",
   "execution_count": 44,
   "metadata": {
    "ExecuteTime": {
     "end_time": "2019-11-07T12:14:38.314562Z",
     "start_time": "2019-11-07T12:14:38.305454Z"
    }
   },
   "outputs": [
    {
     "data": {
      "text/plain": [
       "array([0.28571429, 0.42857143, 0.28571429])"
      ]
     },
     "execution_count": 44,
     "metadata": {},
     "output_type": "execute_result"
    }
   ],
   "source": [
    "labels = np.array([1,0,2,1,1,2,0])\n"
   ]
  },
  {
   "cell_type": "code",
   "execution_count": 45,
   "metadata": {
    "ExecuteTime": {
     "end_time": "2019-11-07T12:15:24.706845Z",
     "start_time": "2019-11-07T12:15:24.702177Z"
    },
    "tags": [
     "solution"
    ]
   },
   "outputs": [],
   "source": [
    "def class_freq(labels):\n",
    "    # your code goes here\n",
    "    return np.bincount(labels)/len(labels)"
   ]
  },
  {
   "cell_type": "code",
   "execution_count": 46,
   "metadata": {
    "ExecuteTime": {
     "end_time": "2019-11-07T12:15:26.415386Z",
     "start_time": "2019-11-07T12:15:26.396792Z"
    },
    "tags": [
     "validation"
    ]
   },
   "outputs": [],
   "source": [
    "PROBLEM_ID = 9\n",
    "\n",
    "if TEST:\n",
    "    total_grade += solutions.check(STUDENT, PROBLEM_ID, class_freq)"
   ]
  },
  {
   "cell_type": "markdown",
   "metadata": {},
   "source": [
    "# Your grade"
   ]
  },
  {
   "cell_type": "code",
   "execution_count": null,
   "metadata": {},
   "outputs": [],
   "source": [
    "if TEST:\n",
    "    print(f\"{STUDENT}: {int(100 * total_grade / MAX_POINTS)}\")"
   ]
  },
  {
   "cell_type": "code",
   "execution_count": null,
   "metadata": {},
   "outputs": [],
   "source": []
  }
 ],
 "metadata": {
  "@webio": {
   "lastCommId": null,
   "lastKernelId": null
  },
  "kernelspec": {
   "display_name": "Python 3",
   "language": "python",
   "name": "python3"
  },
  "language_info": {
   "codemirror_mode": {
    "name": "ipython",
    "version": 3
   },
   "file_extension": ".py",
   "mimetype": "text/x-python",
   "name": "python",
   "nbconvert_exporter": "python",
   "pygments_lexer": "ipython3",
   "version": "3.6.8"
  }
 },
 "nbformat": 4,
 "nbformat_minor": 2
}
